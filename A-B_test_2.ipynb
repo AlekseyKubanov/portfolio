{
 "cells": [
  {
   "cell_type": "markdown",
   "metadata": {},
   "source": [
    "# Гипотезы, А/В тесты."
   ]
  },
  {
   "cell_type": "markdown",
   "metadata": {},
   "source": [
    "Вы — аналитик крупного интернет-магазина. Вместе с отделом маркетинга вы подготовили список гипотез для увеличения выручки.  \n",
    "  \n",
    "Приоритизируйте гипотезы, запустите A/B-тест и проанализируйте результаты. "
   ]
  },
  {
   "cell_type": "markdown",
   "metadata": {},
   "source": [
    "## Часть 1. Приоритизация гипотез."
   ]
  },
  {
   "cell_type": "markdown",
   "metadata": {},
   "source": [
    "В файле */datasets/hypothesis.csv* 9 гипотез по увеличению выручки интернет-магазина с указанными параметрами *Reach*, *Impact*, *Confidence*, *Effort*."
   ]
  },
  {
   "cell_type": "markdown",
   "metadata": {},
   "source": [
    "### Знакомство с данными. Предобработка данных."
   ]
  },
  {
   "cell_type": "markdown",
   "metadata": {},
   "source": [
    "**Файл** /datasets/hypothesis.csv.  \n",
    "- *Hypothesis* — краткое описание гипотезы;  \n",
    "- *Reach* — охват пользователей по 10-балльной шкале;  \n",
    "- *Impact* — влияние на пользователей по 10-балльной шкале;  \n",
    "- *Confidence* — уверенность в гипотезе по 10-балльной шкале;  \n",
    "- *Efforts* — затраты ресурсов на проверку гипотезы по 10-балльной шкале. Чем больше значение *Efforts*, тем дороже проверка гипотезы."
   ]
  },
  {
   "cell_type": "code",
   "execution_count": 1,
   "metadata": {},
   "outputs": [],
   "source": [
    "# Импортируем библиотеки\n",
    "import pandas as pd\n",
    "import matplotlib.pyplot as plt\n",
    "import numpy as np\n",
    "from scipy import stats as st\n",
    "from math import factorial\n",
    "from math import sqrt\n",
    "from copy import deepcopy\n",
    "import seaborn as sns\n",
    "from datetime import datetime, timedelta\n",
    "%matplotlib inline\n",
    "from pandas.plotting import register_matplotlib_converters\n",
    "import warnings\n",
    "import datetime as dt"
   ]
  },
  {
   "cell_type": "code",
   "execution_count": 2,
   "metadata": {},
   "outputs": [],
   "source": [
    "# конвертеры, которые позволяют использовать типы pandas в matplotlib  \n",
    "register_matplotlib_converters()"
   ]
  },
  {
   "cell_type": "code",
   "execution_count": 3,
   "metadata": {},
   "outputs": [],
   "source": [
    "# Загружаем таблицу\n",
    "try:\n",
    "    hypothesis = pd.read_csv('/datasets/hypothesis.csv')\n",
    "except:\n",
    "    hypothesis = pd.read_csv('https://code.s3.yandex.net/datasets/hypothesis.csv')\n",
    "    \n",
    "    hypothesis.to_csv('hypothesis.csv', index = False)"
   ]
  },
  {
   "cell_type": "code",
   "execution_count": 4,
   "metadata": {},
   "outputs": [
    {
     "data": {
      "text/html": [
       "<div>\n",
       "<style scoped>\n",
       "    .dataframe tbody tr th:only-of-type {\n",
       "        vertical-align: middle;\n",
       "    }\n",
       "\n",
       "    .dataframe tbody tr th {\n",
       "        vertical-align: top;\n",
       "    }\n",
       "\n",
       "    .dataframe thead th {\n",
       "        text-align: right;\n",
       "    }\n",
       "</style>\n",
       "<table border=\"1\" class=\"dataframe\">\n",
       "  <thead>\n",
       "    <tr style=\"text-align: right;\">\n",
       "      <th></th>\n",
       "      <th>Hypothesis</th>\n",
       "      <th>Reach</th>\n",
       "      <th>Impact</th>\n",
       "      <th>Confidence</th>\n",
       "      <th>Efforts</th>\n",
       "    </tr>\n",
       "  </thead>\n",
       "  <tbody>\n",
       "    <tr>\n",
       "      <th>0</th>\n",
       "      <td>Добавить два новых канала привлечения трафика, что позволит привлекать на 30% больше пользователей</td>\n",
       "      <td>3</td>\n",
       "      <td>10</td>\n",
       "      <td>8</td>\n",
       "      <td>6</td>\n",
       "    </tr>\n",
       "    <tr>\n",
       "      <th>1</th>\n",
       "      <td>Запустить собственную службу доставки, что сократит срок доставки заказов</td>\n",
       "      <td>2</td>\n",
       "      <td>5</td>\n",
       "      <td>4</td>\n",
       "      <td>10</td>\n",
       "    </tr>\n",
       "    <tr>\n",
       "      <th>2</th>\n",
       "      <td>Добавить блоки рекомендаций товаров на сайт интернет магазина, чтобы повысить конверсию и средний чек заказа</td>\n",
       "      <td>8</td>\n",
       "      <td>3</td>\n",
       "      <td>7</td>\n",
       "      <td>3</td>\n",
       "    </tr>\n",
       "    <tr>\n",
       "      <th>3</th>\n",
       "      <td>Изменить структура категорий, что увеличит конверсию, т.к. пользователи быстрее найдут нужный товар</td>\n",
       "      <td>8</td>\n",
       "      <td>3</td>\n",
       "      <td>3</td>\n",
       "      <td>8</td>\n",
       "    </tr>\n",
       "    <tr>\n",
       "      <th>4</th>\n",
       "      <td>Изменить цвет фона главной страницы, чтобы увеличить вовлеченность пользователей</td>\n",
       "      <td>3</td>\n",
       "      <td>1</td>\n",
       "      <td>1</td>\n",
       "      <td>1</td>\n",
       "    </tr>\n",
       "    <tr>\n",
       "      <th>5</th>\n",
       "      <td>Добавить страницу отзывов клиентов о магазине, что позволит увеличить количество заказов</td>\n",
       "      <td>3</td>\n",
       "      <td>2</td>\n",
       "      <td>2</td>\n",
       "      <td>3</td>\n",
       "    </tr>\n",
       "    <tr>\n",
       "      <th>6</th>\n",
       "      <td>Показать на главной странице баннеры с актуальными акциями и распродажами, чтобы увеличить конверсию</td>\n",
       "      <td>5</td>\n",
       "      <td>3</td>\n",
       "      <td>8</td>\n",
       "      <td>3</td>\n",
       "    </tr>\n",
       "    <tr>\n",
       "      <th>7</th>\n",
       "      <td>Добавить форму подписки на все основные страницы, чтобы собрать базу клиентов для email-рассылок</td>\n",
       "      <td>10</td>\n",
       "      <td>7</td>\n",
       "      <td>8</td>\n",
       "      <td>5</td>\n",
       "    </tr>\n",
       "    <tr>\n",
       "      <th>8</th>\n",
       "      <td>Запустить акцию, дающую скидку на товар в день рождения</td>\n",
       "      <td>1</td>\n",
       "      <td>9</td>\n",
       "      <td>9</td>\n",
       "      <td>5</td>\n",
       "    </tr>\n",
       "  </tbody>\n",
       "</table>\n",
       "</div>"
      ],
      "text/plain": [
       "                                                                                                     Hypothesis  \\\n",
       "0            Добавить два новых канала привлечения трафика, что позволит привлекать на 30% больше пользователей   \n",
       "1                                     Запустить собственную службу доставки, что сократит срок доставки заказов   \n",
       "2  Добавить блоки рекомендаций товаров на сайт интернет магазина, чтобы повысить конверсию и средний чек заказа   \n",
       "3           Изменить структура категорий, что увеличит конверсию, т.к. пользователи быстрее найдут нужный товар   \n",
       "4                              Изменить цвет фона главной страницы, чтобы увеличить вовлеченность пользователей   \n",
       "5                      Добавить страницу отзывов клиентов о магазине, что позволит увеличить количество заказов   \n",
       "6          Показать на главной странице баннеры с актуальными акциями и распродажами, чтобы увеличить конверсию   \n",
       "7              Добавить форму подписки на все основные страницы, чтобы собрать базу клиентов для email-рассылок   \n",
       "8                                                       Запустить акцию, дающую скидку на товар в день рождения   \n",
       "\n",
       "   Reach  Impact  Confidence  Efforts  \n",
       "0      3      10           8        6  \n",
       "1      2       5           4       10  \n",
       "2      8       3           7        3  \n",
       "3      8       3           3        8  \n",
       "4      3       1           1        1  \n",
       "5      3       2           2        3  \n",
       "6      5       3           8        3  \n",
       "7     10       7           8        5  \n",
       "8      1       9           9        5  "
      ]
     },
     "execution_count": 4,
     "metadata": {},
     "output_type": "execute_result"
    }
   ],
   "source": [
    "pd.options.display.max_colwidth = 150\n",
    "hypothesis "
   ]
  },
  {
   "cell_type": "markdown",
   "metadata": {},
   "source": [
    "Названия столбцов нужно привести к нижнему регистру."
   ]
  },
  {
   "cell_type": "code",
   "execution_count": 5,
   "metadata": {},
   "outputs": [],
   "source": [
    "hypothesis.columns = hypothesis.columns.str.lower()"
   ]
  },
  {
   "cell_type": "code",
   "execution_count": 6,
   "metadata": {},
   "outputs": [
    {
     "data": {
      "text/html": [
       "<div>\n",
       "<style scoped>\n",
       "    .dataframe tbody tr th:only-of-type {\n",
       "        vertical-align: middle;\n",
       "    }\n",
       "\n",
       "    .dataframe tbody tr th {\n",
       "        vertical-align: top;\n",
       "    }\n",
       "\n",
       "    .dataframe thead th {\n",
       "        text-align: right;\n",
       "    }\n",
       "</style>\n",
       "<table border=\"1\" class=\"dataframe\">\n",
       "  <thead>\n",
       "    <tr style=\"text-align: right;\">\n",
       "      <th></th>\n",
       "      <th>hypothesis</th>\n",
       "      <th>reach</th>\n",
       "      <th>impact</th>\n",
       "      <th>confidence</th>\n",
       "      <th>efforts</th>\n",
       "    </tr>\n",
       "  </thead>\n",
       "  <tbody>\n",
       "    <tr>\n",
       "      <th>0</th>\n",
       "      <td>Добавить два новых канала привлечения трафика, что позволит привлекать на 30% больше пользователей</td>\n",
       "      <td>3</td>\n",
       "      <td>10</td>\n",
       "      <td>8</td>\n",
       "      <td>6</td>\n",
       "    </tr>\n",
       "    <tr>\n",
       "      <th>1</th>\n",
       "      <td>Запустить собственную службу доставки, что сократит срок доставки заказов</td>\n",
       "      <td>2</td>\n",
       "      <td>5</td>\n",
       "      <td>4</td>\n",
       "      <td>10</td>\n",
       "    </tr>\n",
       "    <tr>\n",
       "      <th>2</th>\n",
       "      <td>Добавить блоки рекомендаций товаров на сайт интернет магазина, чтобы повысить конверсию и средний чек заказа</td>\n",
       "      <td>8</td>\n",
       "      <td>3</td>\n",
       "      <td>7</td>\n",
       "      <td>3</td>\n",
       "    </tr>\n",
       "    <tr>\n",
       "      <th>3</th>\n",
       "      <td>Изменить структура категорий, что увеличит конверсию, т.к. пользователи быстрее найдут нужный товар</td>\n",
       "      <td>8</td>\n",
       "      <td>3</td>\n",
       "      <td>3</td>\n",
       "      <td>8</td>\n",
       "    </tr>\n",
       "    <tr>\n",
       "      <th>4</th>\n",
       "      <td>Изменить цвет фона главной страницы, чтобы увеличить вовлеченность пользователей</td>\n",
       "      <td>3</td>\n",
       "      <td>1</td>\n",
       "      <td>1</td>\n",
       "      <td>1</td>\n",
       "    </tr>\n",
       "    <tr>\n",
       "      <th>5</th>\n",
       "      <td>Добавить страницу отзывов клиентов о магазине, что позволит увеличить количество заказов</td>\n",
       "      <td>3</td>\n",
       "      <td>2</td>\n",
       "      <td>2</td>\n",
       "      <td>3</td>\n",
       "    </tr>\n",
       "    <tr>\n",
       "      <th>6</th>\n",
       "      <td>Показать на главной странице баннеры с актуальными акциями и распродажами, чтобы увеличить конверсию</td>\n",
       "      <td>5</td>\n",
       "      <td>3</td>\n",
       "      <td>8</td>\n",
       "      <td>3</td>\n",
       "    </tr>\n",
       "    <tr>\n",
       "      <th>7</th>\n",
       "      <td>Добавить форму подписки на все основные страницы, чтобы собрать базу клиентов для email-рассылок</td>\n",
       "      <td>10</td>\n",
       "      <td>7</td>\n",
       "      <td>8</td>\n",
       "      <td>5</td>\n",
       "    </tr>\n",
       "    <tr>\n",
       "      <th>8</th>\n",
       "      <td>Запустить акцию, дающую скидку на товар в день рождения</td>\n",
       "      <td>1</td>\n",
       "      <td>9</td>\n",
       "      <td>9</td>\n",
       "      <td>5</td>\n",
       "    </tr>\n",
       "  </tbody>\n",
       "</table>\n",
       "</div>"
      ],
      "text/plain": [
       "                                                                                                     hypothesis  \\\n",
       "0            Добавить два новых канала привлечения трафика, что позволит привлекать на 30% больше пользователей   \n",
       "1                                     Запустить собственную службу доставки, что сократит срок доставки заказов   \n",
       "2  Добавить блоки рекомендаций товаров на сайт интернет магазина, чтобы повысить конверсию и средний чек заказа   \n",
       "3           Изменить структура категорий, что увеличит конверсию, т.к. пользователи быстрее найдут нужный товар   \n",
       "4                              Изменить цвет фона главной страницы, чтобы увеличить вовлеченность пользователей   \n",
       "5                      Добавить страницу отзывов клиентов о магазине, что позволит увеличить количество заказов   \n",
       "6          Показать на главной странице баннеры с актуальными акциями и распродажами, чтобы увеличить конверсию   \n",
       "7              Добавить форму подписки на все основные страницы, чтобы собрать базу клиентов для email-рассылок   \n",
       "8                                                       Запустить акцию, дающую скидку на товар в день рождения   \n",
       "\n",
       "   reach  impact  confidence  efforts  \n",
       "0      3      10           8        6  \n",
       "1      2       5           4       10  \n",
       "2      8       3           7        3  \n",
       "3      8       3           3        8  \n",
       "4      3       1           1        1  \n",
       "5      3       2           2        3  \n",
       "6      5       3           8        3  \n",
       "7     10       7           8        5  \n",
       "8      1       9           9        5  "
      ]
     },
     "execution_count": 6,
     "metadata": {},
     "output_type": "execute_result"
    }
   ],
   "source": [
    "hypothesis"
   ]
  },
  {
   "cell_type": "markdown",
   "metadata": {},
   "source": [
    "Проверим типы данных."
   ]
  },
  {
   "cell_type": "code",
   "execution_count": 7,
   "metadata": {},
   "outputs": [
    {
     "name": "stdout",
     "output_type": "stream",
     "text": [
      "<class 'pandas.core.frame.DataFrame'>\n",
      "RangeIndex: 9 entries, 0 to 8\n",
      "Data columns (total 5 columns):\n",
      " #   Column      Non-Null Count  Dtype \n",
      "---  ------      --------------  ----- \n",
      " 0   hypothesis  9 non-null      object\n",
      " 1   reach       9 non-null      int64 \n",
      " 2   impact      9 non-null      int64 \n",
      " 3   confidence  9 non-null      int64 \n",
      " 4   efforts     9 non-null      int64 \n",
      "dtypes: int64(4), object(1)\n",
      "memory usage: 492.0+ bytes\n"
     ]
    }
   ],
   "source": [
    "hypothesis.info()"
   ]
  },
  {
   "cell_type": "markdown",
   "metadata": {},
   "source": [
    "Типы данных в соответствии с нужными."
   ]
  },
  {
   "cell_type": "markdown",
   "metadata": {},
   "source": [
    "### Задача 1"
   ]
  },
  {
   "cell_type": "markdown",
   "metadata": {},
   "source": [
    "Примените фреймворк *ICE* для приоритизации гипотез.  \n",
    "  \n",
    "Отсортируйте их по убыванию приоритета."
   ]
  },
  {
   "cell_type": "code",
   "execution_count": 8,
   "metadata": {},
   "outputs": [
    {
     "data": {
      "text/html": [
       "<div>\n",
       "<style scoped>\n",
       "    .dataframe tbody tr th:only-of-type {\n",
       "        vertical-align: middle;\n",
       "    }\n",
       "\n",
       "    .dataframe tbody tr th {\n",
       "        vertical-align: top;\n",
       "    }\n",
       "\n",
       "    .dataframe thead th {\n",
       "        text-align: right;\n",
       "    }\n",
       "</style>\n",
       "<table border=\"1\" class=\"dataframe\">\n",
       "  <thead>\n",
       "    <tr style=\"text-align: right;\">\n",
       "      <th></th>\n",
       "      <th>hypothesis</th>\n",
       "      <th>ICE</th>\n",
       "    </tr>\n",
       "  </thead>\n",
       "  <tbody>\n",
       "    <tr>\n",
       "      <th>8</th>\n",
       "      <td>Запустить акцию, дающую скидку на товар в день рождения</td>\n",
       "      <td>16.20</td>\n",
       "    </tr>\n",
       "    <tr>\n",
       "      <th>0</th>\n",
       "      <td>Добавить два новых канала привлечения трафика, что позволит привлекать на 30% больше пользователей</td>\n",
       "      <td>13.33</td>\n",
       "    </tr>\n",
       "    <tr>\n",
       "      <th>7</th>\n",
       "      <td>Добавить форму подписки на все основные страницы, чтобы собрать базу клиентов для email-рассылок</td>\n",
       "      <td>11.20</td>\n",
       "    </tr>\n",
       "    <tr>\n",
       "      <th>6</th>\n",
       "      <td>Показать на главной странице баннеры с актуальными акциями и распродажами, чтобы увеличить конверсию</td>\n",
       "      <td>8.00</td>\n",
       "    </tr>\n",
       "    <tr>\n",
       "      <th>2</th>\n",
       "      <td>Добавить блоки рекомендаций товаров на сайт интернет магазина, чтобы повысить конверсию и средний чек заказа</td>\n",
       "      <td>7.00</td>\n",
       "    </tr>\n",
       "    <tr>\n",
       "      <th>1</th>\n",
       "      <td>Запустить собственную службу доставки, что сократит срок доставки заказов</td>\n",
       "      <td>2.00</td>\n",
       "    </tr>\n",
       "    <tr>\n",
       "      <th>5</th>\n",
       "      <td>Добавить страницу отзывов клиентов о магазине, что позволит увеличить количество заказов</td>\n",
       "      <td>1.33</td>\n",
       "    </tr>\n",
       "    <tr>\n",
       "      <th>3</th>\n",
       "      <td>Изменить структура категорий, что увеличит конверсию, т.к. пользователи быстрее найдут нужный товар</td>\n",
       "      <td>1.12</td>\n",
       "    </tr>\n",
       "    <tr>\n",
       "      <th>4</th>\n",
       "      <td>Изменить цвет фона главной страницы, чтобы увеличить вовлеченность пользователей</td>\n",
       "      <td>1.00</td>\n",
       "    </tr>\n",
       "  </tbody>\n",
       "</table>\n",
       "</div>"
      ],
      "text/plain": [
       "                                                                                                     hypothesis  \\\n",
       "8                                                       Запустить акцию, дающую скидку на товар в день рождения   \n",
       "0            Добавить два новых канала привлечения трафика, что позволит привлекать на 30% больше пользователей   \n",
       "7              Добавить форму подписки на все основные страницы, чтобы собрать базу клиентов для email-рассылок   \n",
       "6          Показать на главной странице баннеры с актуальными акциями и распродажами, чтобы увеличить конверсию   \n",
       "2  Добавить блоки рекомендаций товаров на сайт интернет магазина, чтобы повысить конверсию и средний чек заказа   \n",
       "1                                     Запустить собственную службу доставки, что сократит срок доставки заказов   \n",
       "5                      Добавить страницу отзывов клиентов о магазине, что позволит увеличить количество заказов   \n",
       "3           Изменить структура категорий, что увеличит конверсию, т.к. пользователи быстрее найдут нужный товар   \n",
       "4                              Изменить цвет фона главной страницы, чтобы увеличить вовлеченность пользователей   \n",
       "\n",
       "     ICE  \n",
       "8  16.20  \n",
       "0  13.33  \n",
       "7  11.20  \n",
       "6   8.00  \n",
       "2   7.00  \n",
       "1   2.00  \n",
       "5   1.33  \n",
       "3   1.12  \n",
       "4   1.00  "
      ]
     },
     "execution_count": 8,
     "metadata": {},
     "output_type": "execute_result"
    }
   ],
   "source": [
    "hypothesis['ICE'] = round((hypothesis['impact'] * hypothesis['confidence']) / hypothesis['efforts'], 2) \n",
    "hypothesis['ICE'] = hypothesis['ICE']\n",
    "hypothesis[['hypothesis', 'ICE']].sort_values(by = 'ICE', ascending = False)"
   ]
  },
  {
   "cell_type": "markdown",
   "metadata": {},
   "source": [
    "По показаниям *ICE* приоритетные гипотезы № 8; 0; 7. "
   ]
  },
  {
   "cell_type": "markdown",
   "metadata": {},
   "source": [
    "### Задача 2"
   ]
  },
  {
   "cell_type": "markdown",
   "metadata": {},
   "source": [
    "Примените фреймворк *RICE* для приоритизации гипотез.  \n",
    "  \n",
    "Отсортируйте их по убыванию приоритета."
   ]
  },
  {
   "cell_type": "code",
   "execution_count": 9,
   "metadata": {},
   "outputs": [
    {
     "data": {
      "text/html": [
       "<div>\n",
       "<style scoped>\n",
       "    .dataframe tbody tr th:only-of-type {\n",
       "        vertical-align: middle;\n",
       "    }\n",
       "\n",
       "    .dataframe tbody tr th {\n",
       "        vertical-align: top;\n",
       "    }\n",
       "\n",
       "    .dataframe thead th {\n",
       "        text-align: right;\n",
       "    }\n",
       "</style>\n",
       "<table border=\"1\" class=\"dataframe\">\n",
       "  <thead>\n",
       "    <tr style=\"text-align: right;\">\n",
       "      <th></th>\n",
       "      <th>hypothesis</th>\n",
       "      <th>RICE</th>\n",
       "    </tr>\n",
       "  </thead>\n",
       "  <tbody>\n",
       "    <tr>\n",
       "      <th>7</th>\n",
       "      <td>Добавить форму подписки на все основные страницы, чтобы собрать базу клиентов для email-рассылок</td>\n",
       "      <td>112.0</td>\n",
       "    </tr>\n",
       "    <tr>\n",
       "      <th>2</th>\n",
       "      <td>Добавить блоки рекомендаций товаров на сайт интернет магазина, чтобы повысить конверсию и средний чек заказа</td>\n",
       "      <td>56.0</td>\n",
       "    </tr>\n",
       "    <tr>\n",
       "      <th>0</th>\n",
       "      <td>Добавить два новых канала привлечения трафика, что позволит привлекать на 30% больше пользователей</td>\n",
       "      <td>40.0</td>\n",
       "    </tr>\n",
       "    <tr>\n",
       "      <th>6</th>\n",
       "      <td>Показать на главной странице баннеры с актуальными акциями и распродажами, чтобы увеличить конверсию</td>\n",
       "      <td>40.0</td>\n",
       "    </tr>\n",
       "    <tr>\n",
       "      <th>8</th>\n",
       "      <td>Запустить акцию, дающую скидку на товар в день рождения</td>\n",
       "      <td>16.2</td>\n",
       "    </tr>\n",
       "    <tr>\n",
       "      <th>3</th>\n",
       "      <td>Изменить структура категорий, что увеличит конверсию, т.к. пользователи быстрее найдут нужный товар</td>\n",
       "      <td>9.0</td>\n",
       "    </tr>\n",
       "    <tr>\n",
       "      <th>1</th>\n",
       "      <td>Запустить собственную службу доставки, что сократит срок доставки заказов</td>\n",
       "      <td>4.0</td>\n",
       "    </tr>\n",
       "    <tr>\n",
       "      <th>5</th>\n",
       "      <td>Добавить страницу отзывов клиентов о магазине, что позволит увеличить количество заказов</td>\n",
       "      <td>4.0</td>\n",
       "    </tr>\n",
       "    <tr>\n",
       "      <th>4</th>\n",
       "      <td>Изменить цвет фона главной страницы, чтобы увеличить вовлеченность пользователей</td>\n",
       "      <td>3.0</td>\n",
       "    </tr>\n",
       "  </tbody>\n",
       "</table>\n",
       "</div>"
      ],
      "text/plain": [
       "                                                                                                     hypothesis  \\\n",
       "7              Добавить форму подписки на все основные страницы, чтобы собрать базу клиентов для email-рассылок   \n",
       "2  Добавить блоки рекомендаций товаров на сайт интернет магазина, чтобы повысить конверсию и средний чек заказа   \n",
       "0            Добавить два новых канала привлечения трафика, что позволит привлекать на 30% больше пользователей   \n",
       "6          Показать на главной странице баннеры с актуальными акциями и распродажами, чтобы увеличить конверсию   \n",
       "8                                                       Запустить акцию, дающую скидку на товар в день рождения   \n",
       "3           Изменить структура категорий, что увеличит конверсию, т.к. пользователи быстрее найдут нужный товар   \n",
       "1                                     Запустить собственную службу доставки, что сократит срок доставки заказов   \n",
       "5                      Добавить страницу отзывов клиентов о магазине, что позволит увеличить количество заказов   \n",
       "4                              Изменить цвет фона главной страницы, чтобы увеличить вовлеченность пользователей   \n",
       "\n",
       "    RICE  \n",
       "7  112.0  \n",
       "2   56.0  \n",
       "0   40.0  \n",
       "6   40.0  \n",
       "8   16.2  \n",
       "3    9.0  \n",
       "1    4.0  \n",
       "5    4.0  \n",
       "4    3.0  "
      ]
     },
     "execution_count": 9,
     "metadata": {},
     "output_type": "execute_result"
    }
   ],
   "source": [
    "hypothesis['RICE'] = (hypothesis['reach'] * hypothesis['impact'] * hypothesis['confidence']) / hypothesis['efforts']\n",
    "hypothesis['RICE'] = hypothesis['RICE']\n",
    "hypothesis[['hypothesis', 'RICE']].sort_values(by = 'RICE', ascending = False)"
   ]
  },
  {
   "cell_type": "markdown",
   "metadata": {},
   "source": [
    "По показаниям *RICE* приоритетные гипотезы № 7; 2; 0; 6."
   ]
  },
  {
   "cell_type": "markdown",
   "metadata": {},
   "source": [
    "### Задача 3"
   ]
  },
  {
   "cell_type": "markdown",
   "metadata": {},
   "source": [
    "Укажите, как изменилась приоритизация гипотез при применении *RICE* вместо *ICE*.  \n",
    "  \n",
    "Объясните, почему так произошло."
   ]
  },
  {
   "cell_type": "markdown",
   "metadata": {},
   "source": [
    "По фреймворку *ICE* наибольшую оценку имели гпиотезы № 8,0 и 7.  \n",
    "После применения фреймворка *RICE* приоритеты изменились на гпиотезы № 7,2 и 0.  \n",
    "Это объясняется тем, что в при использовании фреймворка *ICE* в отличие от *RICЕ* мы не учитываем охват изменений, тогда как это важная составляющая оценки гипотез.\n",
    "\n",
    "В нашем случае наиболее приоритетными гипотезами будут № 7, 2, 0."
   ]
  },
  {
   "cell_type": "markdown",
   "metadata": {},
   "source": [
    "## Часть 2. Анализ A/B-теста"
   ]
  },
  {
   "cell_type": "markdown",
   "metadata": {},
   "source": [
    "### Знакомство с данными. Предобработка данных."
   ]
  },
  {
   "cell_type": "markdown",
   "metadata": {},
   "source": [
    "**Файл** /datasets/orders.csv. \n",
    "- *transactionId* — идентификатор заказа;\n",
    "- *visitorId* — идентификатор пользователя, совершившего заказ;\n",
    "- *date* — дата, когда был совершён заказ;\n",
    "- *revenue* — выручка заказа;\n",
    "- *group* — группа A/B-теста, в которую попал заказ.\n",
    "  \n",
    "**Файл** /datasets/visitors.csv.\n",
    "- *date* — дата;\n",
    "- *group* — группа A/B-теста;\n",
    "- *visitors* — количество пользователей в указанную дату в указанной группе A/B-теста"
   ]
  },
  {
   "cell_type": "code",
   "execution_count": 10,
   "metadata": {},
   "outputs": [],
   "source": [
    "# Загружаем таблицы\n",
    "try:\n",
    "    orders = pd.read_csv('/datasets/orders.csv')\n",
    "    visitors = pd.read_csv('/datasets/visitors.csv')\n",
    "except:\n",
    "    orders = pd.read_csv('https://code.s3.yandex.net/datasets/orders.csv')\n",
    "    visitors = pd.read_csv('https://code.s3.yandex.net/datasets/visitors.csv')"
   ]
  },
  {
   "cell_type": "code",
   "execution_count": 11,
   "metadata": {},
   "outputs": [
    {
     "data": {
      "text/html": [
       "<div>\n",
       "<style scoped>\n",
       "    .dataframe tbody tr th:only-of-type {\n",
       "        vertical-align: middle;\n",
       "    }\n",
       "\n",
       "    .dataframe tbody tr th {\n",
       "        vertical-align: top;\n",
       "    }\n",
       "\n",
       "    .dataframe thead th {\n",
       "        text-align: right;\n",
       "    }\n",
       "</style>\n",
       "<table border=\"1\" class=\"dataframe\">\n",
       "  <thead>\n",
       "    <tr style=\"text-align: right;\">\n",
       "      <th></th>\n",
       "      <th>transactionId</th>\n",
       "      <th>visitorId</th>\n",
       "      <th>date</th>\n",
       "      <th>revenue</th>\n",
       "      <th>group</th>\n",
       "    </tr>\n",
       "  </thead>\n",
       "  <tbody>\n",
       "    <tr>\n",
       "      <th>1080</th>\n",
       "      <td>3498400794</td>\n",
       "      <td>3419266314</td>\n",
       "      <td>2019-08-12</td>\n",
       "      <td>8090</td>\n",
       "      <td>B</td>\n",
       "    </tr>\n",
       "    <tr>\n",
       "      <th>967</th>\n",
       "      <td>1126236755</td>\n",
       "      <td>4228915420</td>\n",
       "      <td>2019-08-10</td>\n",
       "      <td>2348</td>\n",
       "      <td>B</td>\n",
       "    </tr>\n",
       "    <tr>\n",
       "      <th>355</th>\n",
       "      <td>562977028</td>\n",
       "      <td>233773277</td>\n",
       "      <td>2019-08-24</td>\n",
       "      <td>6536</td>\n",
       "      <td>B</td>\n",
       "    </tr>\n",
       "    <tr>\n",
       "      <th>179</th>\n",
       "      <td>1784270968</td>\n",
       "      <td>2378935119</td>\n",
       "      <td>2019-08-17</td>\n",
       "      <td>310</td>\n",
       "      <td>A</td>\n",
       "    </tr>\n",
       "    <tr>\n",
       "      <th>613</th>\n",
       "      <td>4071177889</td>\n",
       "      <td>3931967268</td>\n",
       "      <td>2019-08-07</td>\n",
       "      <td>53904</td>\n",
       "      <td>B</td>\n",
       "    </tr>\n",
       "  </tbody>\n",
       "</table>\n",
       "</div>"
      ],
      "text/plain": [
       "      transactionId   visitorId        date  revenue group\n",
       "1080     3498400794  3419266314  2019-08-12     8090     B\n",
       "967      1126236755  4228915420  2019-08-10     2348     B\n",
       "355       562977028   233773277  2019-08-24     6536     B\n",
       "179      1784270968  2378935119  2019-08-17      310     A\n",
       "613      4071177889  3931967268  2019-08-07    53904     B"
      ]
     },
     "metadata": {},
     "output_type": "display_data"
    },
    {
     "data": {
      "text/html": [
       "<div>\n",
       "<style scoped>\n",
       "    .dataframe tbody tr th:only-of-type {\n",
       "        vertical-align: middle;\n",
       "    }\n",
       "\n",
       "    .dataframe tbody tr th {\n",
       "        vertical-align: top;\n",
       "    }\n",
       "\n",
       "    .dataframe thead th {\n",
       "        text-align: right;\n",
       "    }\n",
       "</style>\n",
       "<table border=\"1\" class=\"dataframe\">\n",
       "  <thead>\n",
       "    <tr style=\"text-align: right;\">\n",
       "      <th></th>\n",
       "      <th>date</th>\n",
       "      <th>group</th>\n",
       "      <th>visitors</th>\n",
       "    </tr>\n",
       "  </thead>\n",
       "  <tbody>\n",
       "    <tr>\n",
       "      <th>38</th>\n",
       "      <td>2019-08-08</td>\n",
       "      <td>B</td>\n",
       "      <td>654</td>\n",
       "    </tr>\n",
       "    <tr>\n",
       "      <th>59</th>\n",
       "      <td>2019-08-29</td>\n",
       "      <td>B</td>\n",
       "      <td>531</td>\n",
       "    </tr>\n",
       "    <tr>\n",
       "      <th>32</th>\n",
       "      <td>2019-08-02</td>\n",
       "      <td>B</td>\n",
       "      <td>581</td>\n",
       "    </tr>\n",
       "    <tr>\n",
       "      <th>16</th>\n",
       "      <td>2019-08-17</td>\n",
       "      <td>A</td>\n",
       "      <td>412</td>\n",
       "    </tr>\n",
       "    <tr>\n",
       "      <th>9</th>\n",
       "      <td>2019-08-10</td>\n",
       "      <td>A</td>\n",
       "      <td>406</td>\n",
       "    </tr>\n",
       "  </tbody>\n",
       "</table>\n",
       "</div>"
      ],
      "text/plain": [
       "          date group  visitors\n",
       "38  2019-08-08     B       654\n",
       "59  2019-08-29     B       531\n",
       "32  2019-08-02     B       581\n",
       "16  2019-08-17     A       412\n",
       "9   2019-08-10     A       406"
      ]
     },
     "execution_count": 11,
     "metadata": {},
     "output_type": "execute_result"
    }
   ],
   "source": [
    "display(orders.sample(5))\n",
    "visitors.sample(5)"
   ]
  },
  {
   "cell_type": "markdown",
   "metadata": {},
   "source": [
    "Названия столбцов *transactionId*, *visitorId* в таблице *orders* нужно привести к надлежащему виду."
   ]
  },
  {
   "cell_type": "code",
   "execution_count": 12,
   "metadata": {},
   "outputs": [],
   "source": [
    "orders = orders.rename(columns = {'transactionId': 'transaction_id', 'visitorId': 'visitor_id'})"
   ]
  },
  {
   "cell_type": "code",
   "execution_count": 13,
   "metadata": {},
   "outputs": [
    {
     "data": {
      "text/html": [
       "<div>\n",
       "<style scoped>\n",
       "    .dataframe tbody tr th:only-of-type {\n",
       "        vertical-align: middle;\n",
       "    }\n",
       "\n",
       "    .dataframe tbody tr th {\n",
       "        vertical-align: top;\n",
       "    }\n",
       "\n",
       "    .dataframe thead th {\n",
       "        text-align: right;\n",
       "    }\n",
       "</style>\n",
       "<table border=\"1\" class=\"dataframe\">\n",
       "  <thead>\n",
       "    <tr style=\"text-align: right;\">\n",
       "      <th></th>\n",
       "      <th>transaction_id</th>\n",
       "      <th>visitor_id</th>\n",
       "      <th>date</th>\n",
       "      <th>revenue</th>\n",
       "      <th>group</th>\n",
       "    </tr>\n",
       "  </thead>\n",
       "  <tbody>\n",
       "    <tr>\n",
       "      <th>762</th>\n",
       "      <td>3047372556</td>\n",
       "      <td>171459513</td>\n",
       "      <td>2019-08-07</td>\n",
       "      <td>5690</td>\n",
       "      <td>B</td>\n",
       "    </tr>\n",
       "    <tr>\n",
       "      <th>1055</th>\n",
       "      <td>1880179202</td>\n",
       "      <td>2463259495</td>\n",
       "      <td>2019-08-11</td>\n",
       "      <td>350</td>\n",
       "      <td>B</td>\n",
       "    </tr>\n",
       "    <tr>\n",
       "      <th>38</th>\n",
       "      <td>3276214732</td>\n",
       "      <td>1110007955</td>\n",
       "      <td>2019-08-15</td>\n",
       "      <td>19260</td>\n",
       "      <td>B</td>\n",
       "    </tr>\n",
       "    <tr>\n",
       "      <th>916</th>\n",
       "      <td>527333943</td>\n",
       "      <td>2458001652</td>\n",
       "      <td>2019-08-08</td>\n",
       "      <td>5227</td>\n",
       "      <td>B</td>\n",
       "    </tr>\n",
       "    <tr>\n",
       "      <th>236</th>\n",
       "      <td>3422531330</td>\n",
       "      <td>2230225652</td>\n",
       "      <td>2019-08-23</td>\n",
       "      <td>660</td>\n",
       "      <td>B</td>\n",
       "    </tr>\n",
       "  </tbody>\n",
       "</table>\n",
       "</div>"
      ],
      "text/plain": [
       "      transaction_id  visitor_id        date  revenue group\n",
       "762       3047372556   171459513  2019-08-07     5690     B\n",
       "1055      1880179202  2463259495  2019-08-11      350     B\n",
       "38        3276214732  1110007955  2019-08-15    19260     B\n",
       "916        527333943  2458001652  2019-08-08     5227     B\n",
       "236       3422531330  2230225652  2019-08-23      660     B"
      ]
     },
     "execution_count": 13,
     "metadata": {},
     "output_type": "execute_result"
    }
   ],
   "source": [
    "orders.sample(5)"
   ]
  },
  {
   "cell_type": "markdown",
   "metadata": {},
   "source": [
    "Посмотрим общую информацию."
   ]
  },
  {
   "cell_type": "code",
   "execution_count": 14,
   "metadata": {},
   "outputs": [
    {
     "name": "stdout",
     "output_type": "stream",
     "text": [
      "<class 'pandas.core.frame.DataFrame'>\n",
      "RangeIndex: 1197 entries, 0 to 1196\n",
      "Data columns (total 5 columns):\n",
      " #   Column          Non-Null Count  Dtype \n",
      "---  ------          --------------  ----- \n",
      " 0   transaction_id  1197 non-null   int64 \n",
      " 1   visitor_id      1197 non-null   int64 \n",
      " 2   date            1197 non-null   object\n",
      " 3   revenue         1197 non-null   int64 \n",
      " 4   group           1197 non-null   object\n",
      "dtypes: int64(3), object(2)\n",
      "memory usage: 46.9+ KB\n"
     ]
    },
    {
     "data": {
      "text/plain": [
       "None"
      ]
     },
     "metadata": {},
     "output_type": "display_data"
    },
    {
     "name": "stdout",
     "output_type": "stream",
     "text": [
      "<class 'pandas.core.frame.DataFrame'>\n",
      "RangeIndex: 62 entries, 0 to 61\n",
      "Data columns (total 3 columns):\n",
      " #   Column    Non-Null Count  Dtype \n",
      "---  ------    --------------  ----- \n",
      " 0   date      62 non-null     object\n",
      " 1   group     62 non-null     object\n",
      " 2   visitors  62 non-null     int64 \n",
      "dtypes: int64(1), object(2)\n",
      "memory usage: 1.6+ KB\n"
     ]
    }
   ],
   "source": [
    "display(orders.info())\n",
    "visitors.info()"
   ]
  },
  {
   "cell_type": "markdown",
   "metadata": {},
   "source": [
    "В обеих таблицах столбцы *date* нужно привести к типу *datetime*."
   ]
  },
  {
   "cell_type": "code",
   "execution_count": 15,
   "metadata": {},
   "outputs": [
    {
     "name": "stdout",
     "output_type": "stream",
     "text": [
      "<class 'pandas.core.frame.DataFrame'>\n",
      "RangeIndex: 1197 entries, 0 to 1196\n",
      "Data columns (total 5 columns):\n",
      " #   Column          Non-Null Count  Dtype         \n",
      "---  ------          --------------  -----         \n",
      " 0   transaction_id  1197 non-null   int64         \n",
      " 1   visitor_id      1197 non-null   int64         \n",
      " 2   date            1197 non-null   datetime64[ns]\n",
      " 3   revenue         1197 non-null   int64         \n",
      " 4   group           1197 non-null   object        \n",
      "dtypes: datetime64[ns](1), int64(3), object(1)\n",
      "memory usage: 46.9+ KB\n"
     ]
    },
    {
     "data": {
      "text/plain": [
       "None"
      ]
     },
     "metadata": {},
     "output_type": "display_data"
    },
    {
     "name": "stdout",
     "output_type": "stream",
     "text": [
      "<class 'pandas.core.frame.DataFrame'>\n",
      "RangeIndex: 62 entries, 0 to 61\n",
      "Data columns (total 3 columns):\n",
      " #   Column    Non-Null Count  Dtype         \n",
      "---  ------    --------------  -----         \n",
      " 0   date      62 non-null     datetime64[ns]\n",
      " 1   group     62 non-null     object        \n",
      " 2   visitors  62 non-null     int64         \n",
      "dtypes: datetime64[ns](1), int64(1), object(1)\n",
      "memory usage: 1.6+ KB\n"
     ]
    }
   ],
   "source": [
    "orders['date'] = pd.to_datetime(orders['date'])\n",
    "visitors['date'] = pd.to_datetime(visitors['date'])\n",
    "\n",
    "display(orders.info())\n",
    "visitors.info()"
   ]
  },
  {
   "cell_type": "markdown",
   "metadata": {},
   "source": [
    "Проверим пропуски."
   ]
  },
  {
   "cell_type": "code",
   "execution_count": 16,
   "metadata": {},
   "outputs": [
    {
     "data": {
      "text/plain": [
       "transaction_id    0\n",
       "visitor_id        0\n",
       "date              0\n",
       "revenue           0\n",
       "group             0\n",
       "dtype: int64"
      ]
     },
     "execution_count": 16,
     "metadata": {},
     "output_type": "execute_result"
    }
   ],
   "source": [
    "orders.isna().sum()"
   ]
  },
  {
   "cell_type": "code",
   "execution_count": 17,
   "metadata": {},
   "outputs": [
    {
     "data": {
      "text/plain": [
       "date        0\n",
       "group       0\n",
       "visitors    0\n",
       "dtype: int64"
      ]
     },
     "execution_count": 17,
     "metadata": {},
     "output_type": "execute_result"
    }
   ],
   "source": [
    "visitors.isna().sum()"
   ]
  },
  {
   "cell_type": "markdown",
   "metadata": {},
   "source": [
    "Пропуски отсуествуют."
   ]
  },
  {
   "cell_type": "markdown",
   "metadata": {},
   "source": [
    "Проверим наличие дубликатов."
   ]
  },
  {
   "cell_type": "code",
   "execution_count": 18,
   "metadata": {},
   "outputs": [
    {
     "data": {
      "text/plain": [
       "0"
      ]
     },
     "execution_count": 18,
     "metadata": {},
     "output_type": "execute_result"
    }
   ],
   "source": [
    "orders.duplicated().sum()"
   ]
  },
  {
   "cell_type": "code",
   "execution_count": 19,
   "metadata": {},
   "outputs": [
    {
     "data": {
      "text/plain": [
       "0"
      ]
     },
     "execution_count": 19,
     "metadata": {},
     "output_type": "execute_result"
    }
   ],
   "source": [
    "visitors.duplicated().sum()"
   ]
  },
  {
   "cell_type": "markdown",
   "metadata": {},
   "source": [
    "Сделали предобработку данных.\n",
    "- Зменили типы данных.\n",
    "- Привели имена столбцов к единому стилю.\n",
    "- Обработали дубликаты.\n",
    "- Обработали пропуски."
   ]
  },
  {
   "cell_type": "markdown",
   "metadata": {},
   "source": [
    "### Данные по группам"
   ]
  },
  {
   "cell_type": "markdown",
   "metadata": {},
   "source": [
    "Посмотрим количество групп в тесте."
   ]
  },
  {
   "cell_type": "code",
   "execution_count": 20,
   "metadata": {},
   "outputs": [
    {
     "data": {
      "text/plain": [
       "2"
      ]
     },
     "execution_count": 20,
     "metadata": {},
     "output_type": "execute_result"
    }
   ],
   "source": [
    "orders['group'].nunique()"
   ]
  },
  {
   "cell_type": "code",
   "execution_count": 21,
   "metadata": {},
   "outputs": [
    {
     "data": {
      "text/plain": [
       "2"
      ]
     },
     "execution_count": 21,
     "metadata": {},
     "output_type": "execute_result"
    }
   ],
   "source": [
    "visitors['group'].nunique()"
   ]
  },
  {
   "cell_type": "markdown",
   "metadata": {},
   "source": [
    "Колличество групп 2, значит тест у нас парный."
   ]
  },
  {
   "cell_type": "markdown",
   "metadata": {},
   "source": [
    "Посмотрим даты начала и окончания теста."
   ]
  },
  {
   "cell_type": "code",
   "execution_count": 22,
   "metadata": {},
   "outputs": [
    {
     "data": {
      "text/plain": [
       "Timestamp('2019-08-01 00:00:00')"
      ]
     },
     "execution_count": 22,
     "metadata": {},
     "output_type": "execute_result"
    }
   ],
   "source": [
    "orders['date'].min()"
   ]
  },
  {
   "cell_type": "code",
   "execution_count": 23,
   "metadata": {},
   "outputs": [
    {
     "data": {
      "text/plain": [
       "Timestamp('2019-08-01 00:00:00')"
      ]
     },
     "execution_count": 23,
     "metadata": {},
     "output_type": "execute_result"
    }
   ],
   "source": [
    "visitors['date'].min()"
   ]
  },
  {
   "cell_type": "code",
   "execution_count": 24,
   "metadata": {},
   "outputs": [
    {
     "data": {
      "text/plain": [
       "Timestamp('2019-08-31 00:00:00')"
      ]
     },
     "execution_count": 24,
     "metadata": {},
     "output_type": "execute_result"
    }
   ],
   "source": [
    "orders['date'].max()"
   ]
  },
  {
   "cell_type": "code",
   "execution_count": 25,
   "metadata": {},
   "outputs": [
    {
     "data": {
      "text/plain": [
       "Timestamp('2019-08-31 00:00:00')"
      ]
     },
     "execution_count": 25,
     "metadata": {},
     "output_type": "execute_result"
    }
   ],
   "source": [
    "visitors['date'].max()"
   ]
  },
  {
   "cell_type": "markdown",
   "metadata": {},
   "source": [
    "Дата начала теста 2019-08-01, окончания 2019-08-31.  \n",
    "Временной интервал проведения теста Август 2019 года."
   ]
  },
  {
   "cell_type": "markdown",
   "metadata": {},
   "source": [
    "Посмотрим сколько уникальных пользователей в каждой группе. (таблица *orders*)"
   ]
  },
  {
   "cell_type": "code",
   "execution_count": 26,
   "metadata": {},
   "outputs": [
    {
     "data": {
      "text/plain": [
       "group\n",
       "A    557\n",
       "B    640\n",
       "Name: group, dtype: int64"
      ]
     },
     "execution_count": 26,
     "metadata": {},
     "output_type": "execute_result"
    }
   ],
   "source": [
    "# Количество пользователей в группах\n",
    "orders.groupby(['group'])['group'].count()"
   ]
  },
  {
   "cell_type": "code",
   "execution_count": 27,
   "metadata": {},
   "outputs": [
    {
     "data": {
      "text/plain": [
       "1197"
      ]
     },
     "execution_count": 27,
     "metadata": {},
     "output_type": "execute_result"
    }
   ],
   "source": [
    "# Общее количество пользователей в группах\n",
    "orders.groupby(['group'])['group'].count().sum()"
   ]
  },
  {
   "cell_type": "code",
   "execution_count": 28,
   "metadata": {},
   "outputs": [
    {
     "data": {
      "text/plain": [
       "1031"
      ]
     },
     "execution_count": 28,
     "metadata": {},
     "output_type": "execute_result"
    }
   ],
   "source": [
    "# Общее количество уникальных пользователей\n",
    "orders['visitor_id'].nunique()"
   ]
  },
  {
   "cell_type": "markdown",
   "metadata": {},
   "source": [
    "Общее количество пользователей в группах - 1197, а уникальных пользователей - 1031.  \n",
    "Значит есть пользователи которые участвуют в обеих группах."
   ]
  },
  {
   "cell_type": "code",
   "execution_count": 29,
   "metadata": {},
   "outputs": [
    {
     "data": {
      "text/plain": [
       "58"
      ]
     },
     "execution_count": 29,
     "metadata": {},
     "output_type": "execute_result"
    }
   ],
   "source": [
    "# Отбираем группы из данных с заказами \n",
    "group_a=orders.query('group == \"A\"') \n",
    "group_b=orders.query('group == \"B\"')\n",
    "\n",
    "# Получаем id пользователей, попавших в обе группы \n",
    "group_intersections=list(np.intersect1d(group_a['visitor_id'], group_b['visitor_id']))\n",
    "len(group_intersections)"
   ]
  },
  {
   "cell_type": "markdown",
   "metadata": {},
   "source": [
    "58 записей пользователей попали в обе группы.  \n",
    "Это может исказить дальнейшие выводы, поэтому записи о покупках этих пользователей придется удалить."
   ]
  },
  {
   "cell_type": "code",
   "execution_count": 30,
   "metadata": {},
   "outputs": [],
   "source": [
    "# Удаляем записи\n",
    "orders = orders.query('visitor_id not in @group_intersections')"
   ]
  },
  {
   "cell_type": "code",
   "execution_count": 31,
   "metadata": {},
   "outputs": [
    {
     "data": {
      "text/plain": [
       "0"
      ]
     },
     "execution_count": 31,
     "metadata": {},
     "output_type": "execute_result"
    }
   ],
   "source": [
    "# Проверяем \n",
    "group_a=orders.query('group == \"A\"') \n",
    "group_b=orders.query('group == \"B\"')\n",
    "\n",
    "group_intersections=list(np.intersect1d(group_a['visitor_id'], group_b['visitor_id']))\n",
    "len(group_intersections)"
   ]
  },
  {
   "cell_type": "code",
   "execution_count": 32,
   "metadata": {},
   "outputs": [
    {
     "data": {
      "text/plain": [
       "group\n",
       "A    468\n",
       "B    548\n",
       "Name: group, dtype: int64"
      ]
     },
     "execution_count": 32,
     "metadata": {},
     "output_type": "execute_result"
    }
   ],
   "source": [
    "# Количество пользователей в группах\n",
    "orders.groupby(['group'])['group'].count()"
   ]
  },
  {
   "cell_type": "code",
   "execution_count": 33,
   "metadata": {},
   "outputs": [
    {
     "data": {
      "text/plain": [
       "1016"
      ]
     },
     "execution_count": 33,
     "metadata": {},
     "output_type": "execute_result"
    }
   ],
   "source": [
    "# Общее количество пользователей в группах\n",
    "orders.groupby(['group'])['group'].count().sum()"
   ]
  },
  {
   "cell_type": "markdown",
   "metadata": {},
   "source": [
    "Получается что 15 пользователей попали в обе группы и сделали 58 заказов."
   ]
  },
  {
   "cell_type": "markdown",
   "metadata": {},
   "source": [
    "### Задача 1"
   ]
  },
  {
   "cell_type": "markdown",
   "metadata": {},
   "source": [
    "Постройте график кумулятивной выручки по группам.   \n",
    "  \n",
    "Сделайте выводы и предположения."
   ]
  },
  {
   "cell_type": "markdown",
   "metadata": {},
   "source": [
    "Чтобы построить графики, нужно собрать кумулятивные данные.  \n",
    "  \n",
    "Объявим датафрейм *cumulativeData* со столбцами:   \n",
    "*date* — дата;  \n",
    "*group* — группа A/B-теста (A или B);  \n",
    "*orders* — кумулятивное количество заказов на указанную дату в указанной группе;  \n",
    "*buyers* — кумулятивное количество пользователей, совершивших хотя бы один заказ, на указанную дату в указанной группе;  \n",
    "*revenue* — кумулятивная выручка на указанную дату в указанной группе (средний чек);  \n",
    "*visitors* — кумулятивное количество посетителей интернет-магазина на указанную дату в определённой группе."
   ]
  },
  {
   "cell_type": "code",
   "execution_count": 34,
   "metadata": {},
   "outputs": [
    {
     "data": {
      "text/html": [
       "<div>\n",
       "<style scoped>\n",
       "    .dataframe tbody tr th:only-of-type {\n",
       "        vertical-align: middle;\n",
       "    }\n",
       "\n",
       "    .dataframe tbody tr th {\n",
       "        vertical-align: top;\n",
       "    }\n",
       "\n",
       "    .dataframe thead th {\n",
       "        text-align: right;\n",
       "    }\n",
       "</style>\n",
       "<table border=\"1\" class=\"dataframe\">\n",
       "  <thead>\n",
       "    <tr style=\"text-align: right;\">\n",
       "      <th></th>\n",
       "      <th>date</th>\n",
       "      <th>group</th>\n",
       "      <th>orders</th>\n",
       "      <th>buyers</th>\n",
       "      <th>revenue</th>\n",
       "      <th>visitors</th>\n",
       "    </tr>\n",
       "  </thead>\n",
       "  <tbody>\n",
       "    <tr>\n",
       "      <th>40</th>\n",
       "      <td>2019-08-21</td>\n",
       "      <td>A</td>\n",
       "      <td>329</td>\n",
       "      <td>311</td>\n",
       "      <td>2273782</td>\n",
       "      <td>12850</td>\n",
       "    </tr>\n",
       "    <tr>\n",
       "      <th>39</th>\n",
       "      <td>2019-08-20</td>\n",
       "      <td>B</td>\n",
       "      <td>368</td>\n",
       "      <td>360</td>\n",
       "      <td>3768059</td>\n",
       "      <td>12218</td>\n",
       "    </tr>\n",
       "    <tr>\n",
       "      <th>17</th>\n",
       "      <td>2019-08-09</td>\n",
       "      <td>B</td>\n",
       "      <td>176</td>\n",
       "      <td>173</td>\n",
       "      <td>1162961</td>\n",
       "      <td>5908</td>\n",
       "    </tr>\n",
       "    <tr>\n",
       "      <th>9</th>\n",
       "      <td>2019-08-05</td>\n",
       "      <td>B</td>\n",
       "      <td>89</td>\n",
       "      <td>87</td>\n",
       "      <td>475648</td>\n",
       "      <td>3280</td>\n",
       "    </tr>\n",
       "    <tr>\n",
       "      <th>50</th>\n",
       "      <td>2019-08-26</td>\n",
       "      <td>A</td>\n",
       "      <td>396</td>\n",
       "      <td>378</td>\n",
       "      <td>2755121</td>\n",
       "      <td>15665</td>\n",
       "    </tr>\n",
       "  </tbody>\n",
       "</table>\n",
       "</div>"
      ],
      "text/plain": [
       "         date group  orders  buyers  revenue  visitors\n",
       "40 2019-08-21     A     329     311  2273782     12850\n",
       "39 2019-08-20     B     368     360  3768059     12218\n",
       "17 2019-08-09     B     176     173  1162961      5908\n",
       "9  2019-08-05     B      89      87   475648      3280\n",
       "50 2019-08-26     A     396     378  2755121     15665"
      ]
     },
     "execution_count": 34,
     "metadata": {},
     "output_type": "execute_result"
    }
   ],
   "source": [
    "# Создадим массив уникальных пар значений дат и групп теста\n",
    "datesGroups = orders[['date','group']].drop_duplicates()\n",
    "\n",
    "# Соберём агрегированные кумулятивные по дням данные о заказах\n",
    "ordersAggregated = datesGroups.apply(lambda x: orders[np.logical_and(orders['date'] <= x['date'], orders['group'] == x['group'])]\\\n",
    ".agg({'date' : 'max', 'group' : 'max', 'transaction_id' : 'nunique', 'visitor_id' : 'nunique', 'revenue' : 'sum'}), axis=1).sort_values(by=['date','group'])\n",
    "\n",
    "# Получим агрегированные кумулятивные по дням данные о посетителях интернет-магазина\n",
    "visitorsAggregated = datesGroups.apply(lambda x: visitors[np.logical_and(visitors['date'] <= x['date'], visitors['group'] == x['group'])].agg({'date' : 'max', 'group' : 'max', 'visitors' : 'sum'}), axis=1).sort_values(by=['date','group'])\n",
    "\n",
    "# Объединим обе таблицы в одну с понятными названиями столбцов\n",
    "cumulativeData = ordersAggregated.merge(visitorsAggregated, left_on=['date', 'group'], right_on=['date', 'group'])\n",
    "\n",
    "cumulativeData.columns = ['date', 'group', 'orders', 'buyers', 'revenue', 'visitors']\n",
    "\n",
    "cumulativeData.sample(5)"
   ]
  },
  {
   "cell_type": "markdown",
   "metadata": {},
   "source": [
    "Построим график выручки по группам."
   ]
  },
  {
   "cell_type": "code",
   "execution_count": 35,
   "metadata": {},
   "outputs": [
    {
     "data": {
      "image/png": "[encoded data removed]",
      "text/plain": [
       "<Figure size 1500x700 with 1 Axes>"
      ]
     },
     "metadata": {},
     "output_type": "display_data"
    }
   ],
   "source": [
    "cumulativeA = cumulativeData[cumulativeData['group']=='A'][['date','revenue', 'orders', 'visitors']]\n",
    "cumulativeB = cumulativeData[cumulativeData['group']=='B'][['date','revenue', 'orders', 'visitors']]\n",
    "    \n",
    "plt.figure(figsize=(15, 7))\n",
    "\n",
    "plt.plot(cumulativeA['date'], cumulativeA['revenue'], label='A')\n",
    "plt.plot(cumulativeB['date'], cumulativeB['revenue'], label='B')\n",
    "plt.title('График кумулятивной выручки по группам')\n",
    "plt.ylabel('Кумулятивная выручка')\n",
    "\n",
    "plt.xlabel('Диапазон тестирования по времени')\n",
    "plt.xticks(np.arange(min(cumulativeData['date']), max(cumulativeData['date']) + timedelta(days=1), timedelta(days=2)))\n",
    "plt.legend()\n",
    "plt.xticks(rotation=20)\n",
    "plt.grid()\n",
    "plt.show()"
   ]
  },
  {
   "cell_type": "markdown",
   "metadata": {},
   "source": [
    "**Вывод**:  \n",
    "  \n",
    "Выручка почти равномерно увеличивается в течение всего теста.  \n",
    "Однако у графика группы *В* есть очень резкий рост.  \n",
    "Это может сигнализировать о всплесках числа заказов, либо о появлении очень дорогих заказов в выборке."
   ]
  },
  {
   "cell_type": "markdown",
   "metadata": {},
   "source": [
    "### Задача 2"
   ]
  },
  {
   "cell_type": "markdown",
   "metadata": {},
   "source": [
    "Постройте график кумулятивного среднего чека по группам.  \n",
    "  \n",
    "Сделайте выводы и предположения."
   ]
  },
  {
   "cell_type": "markdown",
   "metadata": {},
   "source": [
    "Построим график среднего чека по группам."
   ]
  },
  {
   "cell_type": "code",
   "execution_count": 36,
   "metadata": {},
   "outputs": [
    {
     "data": {
      "image/png": "[encoded data removed]",
      "text/plain": [
       "<Figure size 1500x700 with 1 Axes>"
      ]
     },
     "metadata": {},
     "output_type": "display_data"
    }
   ],
   "source": [
    "cumulativeRevenueA_mean_bill = cumulativeA['revenue'] / cumulativeA['orders']\n",
    "cumulativeRevenueB_mean_bill = cumulativeB['revenue'] / cumulativeB['orders']\n",
    "    \n",
    "plt.figure(figsize=(15, 7))\n",
    "\n",
    "plt.plot(cumulativeA['date'], cumulativeRevenueA_mean_bill, label='A')\n",
    "plt.plot(cumulativeB['date'], cumulativeRevenueB_mean_bill, label='B')\n",
    "plt.title('График кумулятивного среднего чека по группам')\n",
    "plt.ylabel('Кумулятивный средний чек')\n",
    "\n",
    "plt.xlabel('Диапазон тестирования по времени')\n",
    "plt.xticks(np.arange(min(cumulativeData['date']), max(cumulativeData['date']) + timedelta(days=1), timedelta(days=2)))\n",
    "plt.legend()\n",
    "plt.xticks(rotation=20)\n",
    "plt.grid()\n",
    "plt.show()"
   ]
  },
  {
   "cell_type": "markdown",
   "metadata": {},
   "source": [
    "**Вывод**:  \n",
    "  \n",
    "Средний чек вырос неравномерно.\n",
    "\n",
    "Для группы *А* заметно падение с последующим ростом. Половину периода накопление среднего чека не росло.\n",
    "\n",
    "Для группы *В* первая половина периода прошла неравномерным ростом, а во второй половине произошел резкий всплеск. Это может говорить о попадании очень крупного заказа. Затем средний чек падает.\n",
    "\n",
    "Накопление среднего чека в обеих группах неравномерное. Необходимо больше данных для того, чтобы график среднего чека установился на определенном уровне."
   ]
  },
  {
   "cell_type": "markdown",
   "metadata": {},
   "source": [
    "### Задача 3"
   ]
  },
  {
   "cell_type": "markdown",
   "metadata": {},
   "source": [
    "Постройте график относительного изменения кумулятивного среднего чека группы *B* к группе *A*.  \n",
    "  \n",
    "Сделайте выводы и предположения."
   ]
  },
  {
   "cell_type": "markdown",
   "metadata": {},
   "source": [
    "Построим график изменения среднего чека группы *В* к группе *А*."
   ]
  },
  {
   "cell_type": "code",
   "execution_count": 37,
   "metadata": {},
   "outputs": [
    {
     "data": {
      "image/png": "[encoded data removed]",
      "text/plain": [
       "<Figure size 1500x700 with 1 Axes>"
      ]
     },
     "metadata": {},
     "output_type": "display_data"
    }
   ],
   "source": [
    "def to_calculate_relative_metrics(df, column):\n",
    "    result = (df[column[0]] / df[column[1]]) / (df[column[2]] / df[column[3]]) - 1\n",
    "    return result\n",
    "    \n",
    "mergedCumulativeRevenue = cumulativeA.merge(cumulativeB, on='date', suffixes=['A', 'B'])\n",
    "сumulativeRevenue = to_calculate_relative_metrics(mergedCumulativeRevenue, ['revenueB', 'ordersB', 'revenueA', 'ordersA'])\n",
    "\n",
    "plt.figure(figsize=(15, 7))\n",
    "\n",
    "plt.plot(mergedCumulativeRevenue['date'], сumulativeRevenue)\n",
    "plt.axhline(y=0, color='black', linestyle='--')\n",
    "plt.title('График отношения кумулятивных средних чеков группы В к группе А')\n",
    "plt.ylabel('Отношение кумулятивных средних чеков')\n",
    "\n",
    "plt.xlabel('Диапазон тестирования по времени')\n",
    "plt.xticks(np.arange(min(cumulativeData['date']), max(cumulativeData['date']) + timedelta(days=1), timedelta(days=2)))\n",
    "plt.xticks(rotation=20)\n",
    "plt.grid()\n",
    "plt.show()"
   ]
  },
  {
   "cell_type": "markdown",
   "metadata": {},
   "source": [
    "**Вывод**:\n",
    "\n",
    "Изменение кумулятивного среднего чека относительно группы *В* к группе *А* резко скачет.  \n",
    "Большие различия по заказам между группами - есть аномалии и крупные заказы.  \n",
    "Их надо будет учесть в далнейшей работе."
   ]
  },
  {
   "cell_type": "markdown",
   "metadata": {},
   "source": [
    "### Задача 4"
   ]
  },
  {
   "cell_type": "markdown",
   "metadata": {},
   "source": [
    "Постройте график кумулятивного среднего количества заказов на посетителя по группам.  \n",
    "  \n",
    "Сделайте выводы и предположения."
   ]
  },
  {
   "cell_type": "markdown",
   "metadata": {},
   "source": [
    "Построим график среднего количества заказов на посетителя по группам."
   ]
  },
  {
   "cell_type": "code",
   "execution_count": 38,
   "metadata": {},
   "outputs": [
    {
     "data": {
      "image/png": "[encoded data removed]",
      "text/plain": [
       "<Figure size 1500x700 with 1 Axes>"
      ]
     },
     "metadata": {},
     "output_type": "display_data"
    }
   ],
   "source": [
    "cumulativeOrdersA_mean_count = cumulativeA['orders'] / cumulativeA['visitors']\n",
    "cumulativeOrdersB_mean_count = cumulativeB['orders'] / cumulativeB['visitors']\n",
    "\n",
    "plt.figure(figsize=(15, 7))\n",
    "\n",
    "plt.plot(cumulativeA['date'], cumulativeOrdersA_mean_count, label='A')\n",
    "plt.plot(cumulativeB['date'], cumulativeOrdersB_mean_count, label='B')\n",
    "plt.title('График кумулятивного среднего количества заказов на посетителя по группам')\n",
    "plt.ylabel('Кумулятивное среднее количество заказов на посетителя')\n",
    "\n",
    "plt.xlabel('Диапазон тестирования по времени')\n",
    "plt.xticks(np.arange(min(cumulativeData['date']), max(cumulativeData['date']) + timedelta(days=1), timedelta(days=2)))\n",
    "plt.xticks(rotation=20)\n",
    "plt.grid()\n",
    "plt.show()"
   ]
  },
  {
   "cell_type": "markdown",
   "metadata": {},
   "source": [
    "**Вывод**:  \n",
    "  \n",
    "График для группы *А* в начале делает скачёк, а затем резко падает и успакаивается на плато.  \n",
    "  \n",
    "На графике для группы *В* видны резкие колебания в первую неделю, но затем происходит стабилизация. При этом в группе *В* стабильно выше метрика относительно группы *А*.  \n",
    "  \n",
    "Как видно всё - таки проблема в аномалиях."
   ]
  },
  {
   "cell_type": "markdown",
   "metadata": {},
   "source": [
    "### Задача 5"
   ]
  },
  {
   "cell_type": "markdown",
   "metadata": {},
   "source": [
    "Постройте график относительного изменения кумулятивного среднего количества заказов на посетителя группы *B* к группе *A*.  \n",
    "  \n",
    "Сделайте выводы и предположения."
   ]
  },
  {
   "cell_type": "markdown",
   "metadata": {},
   "source": [
    "Построим график изменения среднего количества заказов на посетителя группы *В* к группе *А*."
   ]
  },
  {
   "cell_type": "code",
   "execution_count": 39,
   "metadata": {},
   "outputs": [
    {
     "data": {
      "image/png": "[encoded data removed]",
      "text/plain": [
       "<Figure size 1500x700 with 1 Axes>"
      ]
     },
     "metadata": {},
     "output_type": "display_data"
    }
   ],
   "source": [
    "mergedCumulativeOrders = cumulativeA.merge(cumulativeB, on='date', suffixes=['A', 'B'])\n",
    "сumulativeOrders = to_calculate_relative_metrics(mergedCumulativeOrders, ['ordersB', 'visitorsB', 'ordersA', 'visitorsA'])\n",
    "    \n",
    "plt.figure(figsize=(15, 7))\n",
    "\n",
    "plt.plot(mergedCumulativeOrders['date'], сumulativeOrders)\n",
    "plt.axhline(y=0, color='black', linestyle='--')\n",
    "plt.title('График отношения кумулятивных среднего количества заказов на посетителя группы В к группе А')\n",
    "plt.ylabel('Отношение кумулятивных среднего количества заказов')\n",
    "        \n",
    "plt.xlabel('Диапазон тестирования по времени')\n",
    "plt.xticks(np.arange(min(cumulativeData['date']), max(cumulativeData['date']) + timedelta(days=1), timedelta(days=2)))\n",
    "plt.xticks(rotation=20)\n",
    "plt.grid()\n",
    "plt.show()"
   ]
  },
  {
   "cell_type": "markdown",
   "metadata": {},
   "source": [
    "**Вывод**  \n",
    "  \n",
    "Изменение среднего количества заказов на посетителя группы *В* к группе *А* неравномерно растет, заметен высокий рост в первую неделю.\n",
    "\n",
    "Метрика лучше в группе *В* практически на всем рассматриваемом периоде, кроме первых 6 дней. К концу периода заметно снижение роста."
   ]
  },
  {
   "cell_type": "markdown",
   "metadata": {},
   "source": [
    "### Задача 6"
   ]
  },
  {
   "cell_type": "markdown",
   "metadata": {},
   "source": [
    "Постройте точечный график количества заказов по пользователям.  \n",
    "  \n",
    "Сделайте выводы и предположения."
   ]
  },
  {
   "cell_type": "markdown",
   "metadata": {},
   "source": [
    "Построим график количества заказов по пользователям."
   ]
  },
  {
   "cell_type": "code",
   "execution_count": 40,
   "metadata": {},
   "outputs": [
    {
     "data": {
      "image/png": "[encoded data removed]",
      "text/plain": [
       "<Figure size 1500x700 with 1 Axes>"
      ]
     },
     "metadata": {},
     "output_type": "display_data"
    }
   ],
   "source": [
    "orders_agg = (orders.groupby(by=['visitor_id']).agg({'transaction_id': 'count'}).rename(columns={'transaction_id': 'orders_cnt'}).reset_index())\n",
    "\n",
    "plt.figure(figsize=(15, 7))\n",
    "\n",
    "x_values = pd.Series(range(0, len(orders_agg['orders_cnt'])))\n",
    "plt.scatter(x_values, orders_agg['orders_cnt'])\n",
    "\n",
    "plt.title('\\n График количества заказов по пользователям \\n', fontsize=20)\n",
    "plt.ylabel('Количество заказов', fontsize=15)\n",
    "plt.xlabel('Индекс пользователя', fontsize=15)\n",
    "\n",
    "plt.xticks(np.arange(min(x_values), max(x_values), 100))\n",
    "plt.xticks(fontsize=15)\n",
    "plt.yticks(np.arange(min(orders_agg['orders_cnt']) - 1, max(orders_agg['orders_cnt']) + 2, 1))\n",
    "plt.yticks(fontsize=15)\n",
    "plt.grid()\n",
    "plt.show()"
   ]
  },
  {
   "cell_type": "markdown",
   "metadata": {},
   "source": [
    "**Вывод**:  \n",
    "  \n",
    "Будем считать что 3 заказа это аномалия.  \n",
    "Граница отсечения по количеству заказов на графике должна располагаться на уровне не больше 2 заказов."
   ]
  },
  {
   "cell_type": "markdown",
   "metadata": {},
   "source": []
  },
  {
   "cell_type": "markdown",
   "metadata": {},
   "source": [
    "### Задача 7"
   ]
  },
  {
   "cell_type": "markdown",
   "metadata": {},
   "source": [
    "Посчитайте 95-й и 99-й перцентили количества заказов на пользователя.  \n",
    "  \n",
    "Выберите границу для определения аномальных пользователей."
   ]
  },
  {
   "cell_type": "code",
   "execution_count": 41,
   "metadata": {},
   "outputs": [
    {
     "data": {
      "text/plain": [
       "array([1., 2.])"
      ]
     },
     "execution_count": 41,
     "metadata": {},
     "output_type": "execute_result"
    }
   ],
   "source": [
    "np.percentile(orders_agg['orders_cnt'], [95, 99])"
   ]
  },
  {
   "cell_type": "markdown",
   "metadata": {},
   "source": [
    "Граница для определения аномальных пользователей будет не больше 2 заказов."
   ]
  },
  {
   "cell_type": "markdown",
   "metadata": {},
   "source": [
    "### Задача 8"
   ]
  },
  {
   "cell_type": "markdown",
   "metadata": {},
   "source": [
    "Постройте точечный график стоимостей заказов.  \n",
    "   \n",
    "Сделайте выводы и предположения."
   ]
  },
  {
   "cell_type": "markdown",
   "metadata": {},
   "source": [
    "Построим график стоимости заказов."
   ]
  },
  {
   "cell_type": "code",
   "execution_count": 42,
   "metadata": {},
   "outputs": [
    {
     "data": {
      "image/png": "[encoded data removed]",
      "text/plain": [
       "<Figure size 2000x500 with 2 Axes>"
      ]
     },
     "metadata": {},
     "output_type": "display_data"
    }
   ],
   "source": [
    "fig = plt.figure(figsize=(20, 5))\n",
    "\n",
    "ax1 = plt.subplot(1, 2, 1)\n",
    "\n",
    "x_values = pd.Series(range(0, len(orders['revenue'])))\n",
    "ax1.scatter(x_values, orders['revenue'])\n",
    "\n",
    "plt.title('\\n График стоимости заказов по выручке \\n c аномалиями \\n', fontsize=20)\n",
    "plt.ylabel('Стоимость заказов', fontsize=15)\n",
    "plt.xlabel('Индекс выручки', fontsize=15)\n",
    "\n",
    "plt.xticks(np.arange(min(x_values), max(x_values), 200))\n",
    "plt.xticks(fontsize=15)\n",
    "plt.yticks(fontsize=15)\n",
    "plt.grid()\n",
    "\n",
    "ax2 = plt.subplot(1, 2, 2, sharex=ax1)\n",
    "\n",
    "y_values = orders[orders['revenue'] < 200000]['revenue']\n",
    "x_values = pd.Series(range(0, len(y_values)))\n",
    "\n",
    "ax2.scatter(x_values, y_values)\n",
    "\n",
    "plt.title('\\n График стоимости заказов по выручке \\n без аномалий \\n', fontsize=20)\n",
    "plt.ylabel('Стоимость заказов', fontsize=15)\n",
    "plt.xlabel('Индекс выручки', fontsize=15)\n",
    "\n",
    "plt.xticks(fontsize=15)\n",
    "plt.yticks(fontsize=15)\n",
    "plt.grid()\n",
    "plt.show()"
   ]
  },
  {
   "cell_type": "markdown",
   "metadata": {},
   "source": [
    "Граница отсечения должна быть меньше 200 000.  \n",
    "В расчете выручки есть экстремально аномальное значение оно видимо и создавало скачок метрик в группе *В*."
   ]
  },
  {
   "cell_type": "markdown",
   "metadata": {},
   "source": [
    "### Задача 9"
   ]
  },
  {
   "cell_type": "markdown",
   "metadata": {},
   "source": [
    "Посчитайте 95-й и 99-й перцентили стоимости заказов.  \n",
    "  \n",
    "Выберите границу для определения аномальных заказов."
   ]
  },
  {
   "cell_type": "code",
   "execution_count": 43,
   "metadata": {},
   "outputs": [
    {
     "data": {
      "text/plain": [
       "array([26785., 53904.])"
      ]
     },
     "execution_count": 43,
     "metadata": {},
     "output_type": "execute_result"
    }
   ],
   "source": [
    "np.percentile(orders['revenue'], [95, 99])"
   ]
  },
  {
   "cell_type": "markdown",
   "metadata": {},
   "source": [
    "Границу для определения стоимости аномальных заказов определяем не более 26785."
   ]
  },
  {
   "cell_type": "markdown",
   "metadata": {},
   "source": [
    "### Задача 10"
   ]
  },
  {
   "cell_type": "markdown",
   "metadata": {},
   "source": [
    "Посчитайте статистическую значимость различий в среднем количестве заказов на посетителя между группами по «сырым» данным.  \n",
    "  \n",
    "Сделайте выводы и предположения."
   ]
  },
  {
   "cell_type": "markdown",
   "metadata": {},
   "source": [
    "Нулевая гипотеза: различие в среднем количестве заказов на посетителя между группами по \"сырым\" данным статистически не значимы.   \n",
    "Альтернативная гипотеза: различие в среднем количестве заказов на посетителя между группами по \"сырым\" данным статистически  значимы."
   ]
  },
  {
   "cell_type": "markdown",
   "metadata": {},
   "source": [
    "Применим тест U-критерий Манна — Уитни.  \n",
    "Уровень статистической значимости α = 0.05"
   ]
  },
  {
   "cell_type": "code",
   "execution_count": 44,
   "metadata": {},
   "outputs": [],
   "source": [
    "# Создадим функцию для расчётов\n",
    "def statistical_significance(sampleA, sampleB, alpha=0.05):\n",
    "    \n",
    "    p_value = float(\"{0:.3f}\".format(st.mannwhitneyu(sampleA, sampleB)[1]))\n",
    "    \n",
    "    if p_value < alpha:\n",
    "        print('Отвергаем нулевую гипотезу: между долями есть значимая разница. p_value={}'.format(p_value))\n",
    "    else:\n",
    "        print('Не получилось отвергнуть нулевую гипотезу, нет оснований считать доли разными. p_value={}'.format(p_value))\n",
    "        \n",
    "    p_value = float(\"{0:.3f}\".format(sampleB.mean() / sampleA.mean() - 1))\n",
    "    \n",
    "    if p_value < alpha:\n",
    "        print('Относительный прирост группы В к группе А < уровня значимости. p_value={}'.format(p_value))\n",
    "    else:\n",
    "        print('Относительный прирост группы В к группе А >= уровня значимости. p_value={}'.format(p_value))"
   ]
  },
  {
   "cell_type": "code",
   "execution_count": 45,
   "metadata": {},
   "outputs": [],
   "source": [
    "def orders_by_users(orders):\n",
    "    ordersByUsersA = (\n",
    "        orders[orders['group'] == 'A']\n",
    "        .groupby('visitor_id', as_index=False)\n",
    "        .agg({'transaction_id': pd.Series.nunique})\n",
    "    )\n",
    "    ordersByUsersA.columns = ['visitor_id', 'orders']\n",
    "\n",
    "    ordersByUsersB = (\n",
    "        orders[orders['group'] == 'B']\n",
    "        .groupby('visitor_id', as_index=False)\n",
    "        .agg({'transaction_id': pd.Series.nunique})\n",
    "    )\n",
    "    ordersByUsersB.columns = ['visitor_id', 'orders']\n",
    "    return ordersByUsersA, ordersByUsersB"
   ]
  },
  {
   "cell_type": "code",
   "execution_count": 46,
   "metadata": {},
   "outputs": [
    {
     "name": "stdout",
     "output_type": "stream",
     "text": [
      "Отвергаем нулевую гипотезу: между долями есть значимая разница. p_value=0.011\n",
      "Относительный прирост группы В к группе А >= уровня значимости. p_value=0.16\n"
     ]
    }
   ],
   "source": [
    "ordersByUsersA, ordersByUsersB = orders_by_users(orders)\n",
    "\n",
    "sampleA = pd.concat([ordersByUsersA['orders'],pd.Series(0,index = np.arange(cumulativeData[cumulativeData['group'] == 'A']['visitors'].max() - len(ordersByUsersA['orders'])),name='orders',),],axis=0,)\n",
    "\n",
    "sampleB = pd.concat([ordersByUsersB['orders'],pd.Series(0,index = np.arange(cumulativeData[cumulativeData['group'] == 'B']['visitors'].max() - len(ordersByUsersB['orders'])),name='orders',),],axis=0,)\n",
    "\n",
    "statistical_significance(sampleA, sampleB)"
   ]
  },
  {
   "cell_type": "markdown",
   "metadata": {},
   "source": [
    "*p_value*=1.1%, это меньше заданного уровня значимости.  \n",
    "Нулевую гипотезу отвергаем.  \n",
    "Разница между выборками имеет весомый результат.  \n",
    "Можно утверждать, что разница в среднем количестве заказов на посетителя между группами есть.\n",
    "\n",
    "Относительный прирост группы *В* по среднему количеству заказов на посетителя 16%."
   ]
  },
  {
   "cell_type": "markdown",
   "metadata": {},
   "source": [
    "### Задача 11"
   ]
  },
  {
   "cell_type": "markdown",
   "metadata": {},
   "source": [
    "Посчитайте статистическую значимость различий в среднем чеке заказа между группами по «сырым» данным.  \n",
    "  \n",
    "Сделайте выводы и предположения."
   ]
  },
  {
   "cell_type": "markdown",
   "metadata": {},
   "source": [
    "Нулевая гипотеза: разница в среднем чеке заказа между группами по \"сырым\" данным статистически не значима.  \n",
    "  \n",
    "Альтернативная гипотеза: разница в среднем чеке заказа между группами по \"сырым\" данным статистически значима."
   ]
  },
  {
   "cell_type": "markdown",
   "metadata": {},
   "source": [
    "Уровень статистической значимости α = 0.05"
   ]
  },
  {
   "cell_type": "code",
   "execution_count": 47,
   "metadata": {},
   "outputs": [
    {
     "name": "stdout",
     "output_type": "stream",
     "text": [
      "Не получилось отвергнуть нулевую гипотезу, нет оснований считать доли разными. p_value=0.829\n",
      "Относительный прирост группы В к группе А >= уровня значимости. p_value=0.287\n"
     ]
    }
   ],
   "source": [
    "sampleA = orders[orders['group']=='A']['revenue']\n",
    "sampleB = orders[orders['group']=='B']['revenue']\n",
    "\n",
    "statistical_significance(sampleA, sampleB)"
   ]
  },
  {
   "cell_type": "markdown",
   "metadata": {},
   "source": [
    "Нулевую гипотезу не отвергаем.  \n",
    "Разница между выборками статистически не значима.\n",
    "\n",
    "Относительный прирост группы *В* по среднему чеку заказа 28,7%."
   ]
  },
  {
   "cell_type": "markdown",
   "metadata": {},
   "source": [
    "### Задача 12"
   ]
  },
  {
   "cell_type": "markdown",
   "metadata": {},
   "source": [
    "Посчитайте статистическую значимость различий в среднем количестве заказов на посетителя между группами по «очищенным» данным.  \n",
    "  \n",
    "Сделайте выводы и предположения."
   ]
  },
  {
   "cell_type": "markdown",
   "metadata": {},
   "source": [
    "Посчитаем аномальных пользователей сделавших от 2 заказов или заказ дороже 26785 рублей. Так мы уберём пользователей с наибольшим числом заказов и пользователей с дорогими заказами."
   ]
  },
  {
   "cell_type": "code",
   "execution_count": 48,
   "metadata": {},
   "outputs": [
    {
     "data": {
      "text/plain": [
       "568     113298937\n",
       "1099    148427295\n",
       "928     204675465\n",
       "684     358944393\n",
       "648     382846391\n",
       "Name: visitor_id, dtype: int64"
      ]
     },
     "metadata": {},
     "output_type": "display_data"
    },
    {
     "data": {
      "text/plain": [
       "56"
      ]
     },
     "execution_count": 48,
     "metadata": {},
     "output_type": "execute_result"
    }
   ],
   "source": [
    "# Сделаем срез\n",
    "usersWithManyOrders = pd.concat([ordersByUsersA[ordersByUsersA['orders'] > 2]['visitor_id'],ordersByUsersB[ordersByUsersB['orders'] > 3]['visitor_id'],],axis=0,)\n",
    "\n",
    "usersWithExpensiveOrders = orders[orders['revenue'] > 26785]['visitor_id']\n",
    "\n",
    "abnormalUsers = (pd.concat([usersWithManyOrders, usersWithExpensiveOrders], axis=0).drop_duplicates().sort_values())\n",
    "\n",
    "display(abnormalUsers.head())\n",
    "abnormalUsers.shape[0]"
   ]
  },
  {
   "cell_type": "markdown",
   "metadata": {},
   "source": [
    "Всего 56 аномальных пользователя."
   ]
  },
  {
   "cell_type": "markdown",
   "metadata": {},
   "source": [
    "Посмотрим отнасительные потери из - за аномальных пользователей."
   ]
  },
  {
   "cell_type": "code",
   "execution_count": 49,
   "metadata": {},
   "outputs": [
    {
     "name": "stdout",
     "output_type": "stream",
     "text": [
      "Относительные потери из - за аномальных пользователей составили 5.76 %\n"
     ]
    }
   ],
   "source": [
    "anomal_user = round(((abnormalUsers.count() / orders['visitor_id'].nunique()) * 100), 2)\n",
    "print('Относительные потери из - за аномальных пользователей составили {}'.format(anomal_user),'%')"
   ]
  },
  {
   "cell_type": "markdown",
   "metadata": {},
   "source": [
    "Нулевая гипотеза: разница в среднем количестве заказов на посетителя между группами по \"сырым\" данным статистически не значима. Альтернативная гипотеза: разница в среднем количестве заказов на посетителя между группами по \"сырым\" данным статистически значима."
   ]
  },
  {
   "cell_type": "markdown",
   "metadata": {},
   "source": [
    "Уровень статистической значимости α = 0.05"
   ]
  },
  {
   "cell_type": "code",
   "execution_count": 50,
   "metadata": {},
   "outputs": [
    {
     "name": "stdout",
     "output_type": "stream",
     "text": [
      "Отвергаем нулевую гипотезу: между долями есть значимая разница. p_value=0.01\n",
      "Относительный прирост группы В к группе А >= уровня значимости. p_value=0.196\n"
     ]
    }
   ],
   "source": [
    "sampleAFiltered = pd.concat([ordersByUsersA[np.logical_not(ordersByUsersA['visitor_id'].isin(abnormalUsers))]['orders'],pd.Series(0,index=np.arange(cumulativeData[cumulativeData['group'] == 'A']['visitors'].max() - len(ordersByUsersA['orders'])),name='orders',),],axis=0,)\n",
    "\n",
    "sampleBFiltered = pd.concat([ordersByUsersB[np.logical_not(ordersByUsersB['visitor_id'].isin(abnormalUsers))]['orders'],pd.Series(0,index=np.arange(cumulativeData[cumulativeData['group'] == 'B']['visitors'].max() - len(ordersByUsersB['orders'])),name='orders',),],axis=0,)\n",
    "\n",
    "statistical_significance(sampleAFiltered, sampleBFiltered)"
   ]
  },
  {
   "cell_type": "markdown",
   "metadata": {},
   "source": [
    "Аномалии не особо повлияли на статистическую значимость, так как по очищенным данным *p_value* уменьшился с 1.1%% до 1%.\n",
    "\n",
    "Относительный прирост группы *В* к группе *А* увеличился с 16% до 19.6%."
   ]
  },
  {
   "cell_type": "markdown",
   "metadata": {},
   "source": [
    "### Задача 13"
   ]
  },
  {
   "cell_type": "markdown",
   "metadata": {},
   "source": [
    "Посчитайте статистическую значимость различий в среднем чеке заказа между группами по «очищенным» данным.  \n",
    "  \n",
    "Сделайте выводы и предположения."
   ]
  },
  {
   "cell_type": "markdown",
   "metadata": {},
   "source": [
    "Нулевая гипотеза: разница в среднем чеке заказа между группами по \"очищенным\" данным статистически не значима.\n",
    "\n",
    "Альтернативная гипотеза: разница в среднем чеке заказа между группами по \"очищенным\" данным статистически значима."
   ]
  },
  {
   "cell_type": "markdown",
   "metadata": {},
   "source": [
    "Уровень статистической значимости α = 0.05"
   ]
  },
  {
   "cell_type": "code",
   "execution_count": 51,
   "metadata": {},
   "outputs": [
    {
     "name": "stdout",
     "output_type": "stream",
     "text": [
      "Не получилось отвергнуть нулевую гипотезу, нет оснований считать доли разными. p_value=0.698\n",
      "Относительный прирост группы В к группе А < уровня значимости. p_value=-0.041\n"
     ]
    }
   ],
   "source": [
    "sampleAFiltered = orders[np.logical_not(orders['visitor_id'].isin(abnormalUsers)) & (orders['group'] == 'A')]['revenue']\n",
    "\n",
    "sampleBFiltered = orders[np.logical_not(orders['visitor_id'].isin(abnormalUsers)) & (orders['group'] == 'B')]['revenue']\n",
    "\n",
    "statistical_significance(sampleAFiltered, sampleBFiltered)"
   ]
  },
  {
   "cell_type": "markdown",
   "metadata": {},
   "source": [
    "Нулевую гипотезу не отвергаем.  \n",
    "\n",
    "Разница между выборками статистически не значима.  \n",
    "*p_value* уменьшился с 82.9% до 69.8%.\n",
    "\n",
    "Относительный прирост группы В по среднему чеку заказа уменьшился с 28.7% до 4.1%."
   ]
  },
  {
   "cell_type": "markdown",
   "metadata": {},
   "source": [
    "### Задача 14"
   ]
  },
  {
   "cell_type": "markdown",
   "metadata": {},
   "source": [
    "Примите решение по результатам теста и объясните его. Варианты решений:\n",
    "1. Остановить тест, зафиксировать победу одной из групп.\n",
    "2. Остановить тест, зафиксировать отсутствие различий между группами.\n",
    "3. Продолжить тест."
   ]
  },
  {
   "cell_type": "markdown",
   "metadata": {},
   "source": [
    "Данные исследования:  \n",
    "- Выручка почти равномерно увеличивается в течение всего теста. Однако у графика группы *В* есть очень резкий рост. Это может сигнализировать о всплесках числа заказов, либо о появлении очень дорогих заказов в выборке.  \n",
    "  \n",
    "- Средний чек вырос неравномерно.Для группы *А* заметно падение с последующим ростом. Половину периода накопление среднего чека не росло.Для группы *В* первая половина периода прошла неравномерным ростом, а во второй половине произошел резкий всплеск. Это может говорить о попадании очень крупного заказа. Затем средний чек падает.Накопление среднего чека в обеих группах неравномерное. Необходимо больше данных для того, чтобы график среднего чека установился на определенном уровне.  \n",
    "  \n",
    "- Изменение кумулятивного среднего чека относительно группы *В* к группе *А* резко скачет. Большие различия по заказам между группами - есть аномалии и крупные заказы. Их надо будет учесть в далнейшей работе.  \n",
    "\n",
    "- График для группы *А* резко падает и успакаивается на плато. На графике для группы В видны резкие колебания в первую неделю, но затем происходит стабилизация. При этом в группе *В* стабильно выше метрика относительно группы *А*. Есть резкие всплески в первую неделю, как видно всё - таки проблема в аномалиях.\n",
    "  "
   ]
  },
  {
   "cell_type": "markdown",
   "metadata": {},
   "source": [
    "- Изменение среднего количества заказов на посетителя группы *В* к группе *А* неравномерно растет, заметен высокий рост в первую неделю. Метрика лучше в группе *В* практически на всем рассматриваемом периоде, кроме первых 6 дней. К концу периода заметно снижение роста.  \n",
    "  \n",
    "- Статистической разницы между \"очищенными\" и \"сырыми\" данными нет. *p_value* уменьшился с 82.9% до 69.8%.\n",
    "- Относительный прирост группы *В* по среднему чеку заказа уменьшился с 28.7% до 4.1%%.\n",
    "- Аномалии особо не повлияли на статистическую значимость. По очищенным данным *p_value* уменьшился с 1.1% до 1%.\n",
    "- Относительный прирост группы *В* к группе *А* увеличился с 16% до 19.6%.  "
   ]
  },
  {
   "cell_type": "markdown",
   "metadata": {},
   "source": [
    "**Вывод**:  \n",
    "  \n",
    "График различия среднего количества заказов между группами сообщает, что результаты группы *B* лучше группы *A*.  \n",
    "\n",
    "График различия среднего чека говорит о том, что результаты группы *B* имеют резкие колебания в течение всего периода.  \n",
    "\n",
    "Есть статистически значимое различие по среднему количеству заказов между группами.  \n",
    "\n",
    "Нет статистически значимого различия по среднему чеку между группами.  \n",
    "\n",
    "Количество заказов увеличилось, а средний чек остался прежним. Выручка увеличивается.  \n",
    "\n",
    "**Судя по выше изложенным данным предлагаю - остановить тест и зафиксировать победу группы *В*.**"
   ]
  }
 ],
 "metadata": {
  "ExecuteTimeLog": [
   {
    "duration": 1850,
    "start_time": "2023-10-07T16:34:29.425Z"
   },
   {
    "duration": 1171,
    "start_time": "2023-10-07T18:10:07.445Z"
   },
   {
    "duration": 60,
    "start_time": "2023-10-07T19:14:37.825Z"
   },
   {
    "duration": 388,
    "start_time": "2023-10-07T19:18:47.230Z"
   },
   {
    "duration": 280,
    "start_time": "2023-10-07T19:19:50.954Z"
   },
   {
    "duration": 334,
    "start_time": "2023-10-07T19:20:16.392Z"
   },
   {
    "duration": 13,
    "start_time": "2023-10-07T19:21:17.671Z"
   },
   {
    "duration": 9,
    "start_time": "2023-10-07T19:22:51.823Z"
   },
   {
    "duration": 3,
    "start_time": "2023-10-07T19:28:29.359Z"
   },
   {
    "duration": 6,
    "start_time": "2023-10-07T19:28:39.908Z"
   },
   {
    "duration": 15,
    "start_time": "2023-10-07T19:30:26.839Z"
   },
   {
    "duration": 9,
    "start_time": "2023-10-07T19:45:18.325Z"
   },
   {
    "duration": 8,
    "start_time": "2023-10-07T19:51:59.711Z"
   },
   {
    "duration": 13,
    "start_time": "2023-10-07T19:55:05.841Z"
   },
   {
    "duration": 965,
    "start_time": "2023-10-07T20:05:33.356Z"
   },
   {
    "duration": 26,
    "start_time": "2023-10-07T20:05:34.323Z"
   },
   {
    "duration": 9,
    "start_time": "2023-10-07T20:05:34.350Z"
   },
   {
    "duration": 3,
    "start_time": "2023-10-07T20:05:34.361Z"
   },
   {
    "duration": 6,
    "start_time": "2023-10-07T20:05:34.366Z"
   },
   {
    "duration": 16,
    "start_time": "2023-10-07T20:05:34.373Z"
   },
   {
    "duration": 10,
    "start_time": "2023-10-07T20:05:34.390Z"
   },
   {
    "duration": 9,
    "start_time": "2023-10-07T20:05:34.401Z"
   },
   {
    "duration": 933,
    "start_time": "2023-10-07T20:13:52.962Z"
   },
   {
    "duration": 26,
    "start_time": "2023-10-07T20:13:53.897Z"
   },
   {
    "duration": 10,
    "start_time": "2023-10-07T20:13:53.924Z"
   },
   {
    "duration": 39,
    "start_time": "2023-10-07T20:13:53.935Z"
   },
   {
    "duration": 21,
    "start_time": "2023-10-07T20:13:53.976Z"
   },
   {
    "duration": 12,
    "start_time": "2023-10-07T20:13:53.999Z"
   },
   {
    "duration": 11,
    "start_time": "2023-10-07T20:13:54.012Z"
   },
   {
    "duration": 9,
    "start_time": "2023-10-07T20:13:54.025Z"
   },
   {
    "duration": 141,
    "start_time": "2023-10-07T20:22:06.600Z"
   },
   {
    "duration": 1462,
    "start_time": "2023-10-08T09:34:03.616Z"
   },
   {
    "duration": 77,
    "start_time": "2023-10-08T09:34:05.080Z"
   },
   {
    "duration": 13,
    "start_time": "2023-10-08T09:34:05.159Z"
   },
   {
    "duration": 58,
    "start_time": "2023-10-08T09:34:05.173Z"
   },
   {
    "duration": 136,
    "start_time": "2023-10-08T09:34:05.234Z"
   },
   {
    "duration": 107,
    "start_time": "2023-10-08T09:34:05.372Z"
   },
   {
    "duration": 277,
    "start_time": "2023-10-08T09:34:05.481Z"
   },
   {
    "duration": 52,
    "start_time": "2023-10-08T09:34:05.761Z"
   },
   {
    "duration": 257,
    "start_time": "2023-10-08T09:34:05.815Z"
   },
   {
    "duration": 84,
    "start_time": "2023-10-08T09:34:06.074Z"
   },
   {
    "duration": 14,
    "start_time": "2023-10-08T09:34:49.178Z"
   },
   {
    "duration": 1266,
    "start_time": "2023-10-08T09:35:04.018Z"
   },
   {
    "duration": 29,
    "start_time": "2023-10-08T09:35:05.287Z"
   },
   {
    "duration": 246,
    "start_time": "2023-10-08T09:35:05.318Z"
   },
   {
    "duration": 22,
    "start_time": "2023-10-08T09:35:05.566Z"
   },
   {
    "duration": 37,
    "start_time": "2023-10-08T09:35:05.591Z"
   },
   {
    "duration": 18,
    "start_time": "2023-10-08T09:35:05.632Z"
   },
   {
    "duration": 19,
    "start_time": "2023-10-08T09:35:05.653Z"
   },
   {
    "duration": 26,
    "start_time": "2023-10-08T09:35:05.673Z"
   },
   {
    "duration": 78,
    "start_time": "2023-10-08T09:35:05.701Z"
   },
   {
    "duration": 15,
    "start_time": "2023-10-08T09:35:05.781Z"
   },
   {
    "duration": 5,
    "start_time": "2023-10-08T09:42:07.113Z"
   },
   {
    "duration": 9,
    "start_time": "2023-10-08T09:42:32.672Z"
   },
   {
    "duration": 24,
    "start_time": "2023-10-08T09:44:25.020Z"
   },
   {
    "duration": 110,
    "start_time": "2023-10-08T09:53:35.270Z"
   },
   {
    "duration": 18,
    "start_time": "2023-10-08T09:54:01.686Z"
   },
   {
    "duration": 26,
    "start_time": "2023-10-08T09:54:19.640Z"
   },
   {
    "duration": 6,
    "start_time": "2023-10-08T09:56:37.653Z"
   },
   {
    "duration": 8,
    "start_time": "2023-10-08T09:56:57.222Z"
   },
   {
    "duration": 1234,
    "start_time": "2023-10-08T10:03:04.112Z"
   },
   {
    "duration": 30,
    "start_time": "2023-10-08T10:03:05.349Z"
   },
   {
    "duration": 125,
    "start_time": "2023-10-08T10:03:05.380Z"
   },
   {
    "duration": 110,
    "start_time": "2023-10-08T10:03:05.508Z"
   },
   {
    "duration": 75,
    "start_time": "2023-10-08T10:03:05.620Z"
   },
   {
    "duration": 80,
    "start_time": "2023-10-08T10:03:05.697Z"
   },
   {
    "duration": 117,
    "start_time": "2023-10-08T10:03:05.779Z"
   },
   {
    "duration": 148,
    "start_time": "2023-10-08T10:03:05.898Z"
   },
   {
    "duration": 203,
    "start_time": "2023-10-08T10:03:06.048Z"
   },
   {
    "duration": 61,
    "start_time": "2023-10-08T10:03:06.253Z"
   },
   {
    "duration": 213,
    "start_time": "2023-10-08T10:03:06.316Z"
   },
   {
    "duration": 97,
    "start_time": "2023-10-08T10:03:06.531Z"
   },
   {
    "duration": 61,
    "start_time": "2023-10-08T10:03:06.631Z"
   },
   {
    "duration": 133,
    "start_time": "2023-10-08T10:03:06.694Z"
   },
   {
    "duration": 22,
    "start_time": "2023-10-08T10:03:06.830Z"
   },
   {
    "duration": 39,
    "start_time": "2023-10-08T10:03:06.854Z"
   },
   {
    "duration": 7,
    "start_time": "2023-10-08T10:45:01.012Z"
   },
   {
    "duration": 457,
    "start_time": "2023-10-08T10:52:42.203Z"
   },
   {
    "duration": 11,
    "start_time": "2023-10-08T10:53:42.968Z"
   },
   {
    "duration": 8,
    "start_time": "2023-10-08T10:54:15.298Z"
   },
   {
    "duration": 609,
    "start_time": "2023-10-08T10:55:02.866Z"
   },
   {
    "duration": 37,
    "start_time": "2023-10-08T10:56:33.505Z"
   },
   {
    "duration": 280,
    "start_time": "2023-10-08T11:58:53.056Z"
   },
   {
    "duration": 286,
    "start_time": "2023-10-08T12:06:36.257Z"
   },
   {
    "duration": 258,
    "start_time": "2023-10-08T12:08:17.706Z"
   },
   {
    "duration": 178,
    "start_time": "2023-10-08T12:12:43.357Z"
   },
   {
    "duration": 183,
    "start_time": "2023-10-08T12:13:05.127Z"
   },
   {
    "duration": 191,
    "start_time": "2023-10-08T12:13:30.598Z"
   },
   {
    "duration": 266,
    "start_time": "2023-10-08T12:14:33.490Z"
   },
   {
    "duration": 196,
    "start_time": "2023-10-08T12:15:01.306Z"
   },
   {
    "duration": 10,
    "start_time": "2023-10-08T12:16:07.671Z"
   },
   {
    "duration": 181,
    "start_time": "2023-10-08T12:16:16.940Z"
   },
   {
    "duration": 161,
    "start_time": "2023-10-08T12:16:36.007Z"
   },
   {
    "duration": 182,
    "start_time": "2023-10-08T12:16:56.207Z"
   },
   {
    "duration": 206,
    "start_time": "2023-10-08T12:17:43.110Z"
   },
   {
    "duration": 192,
    "start_time": "2023-10-08T12:18:07.316Z"
   },
   {
    "duration": 234,
    "start_time": "2023-10-08T12:19:21.523Z"
   },
   {
    "duration": 192,
    "start_time": "2023-10-08T12:20:03.614Z"
   },
   {
    "duration": 1264,
    "start_time": "2023-10-08T12:20:29.400Z"
   },
   {
    "duration": 9,
    "start_time": "2023-10-08T12:20:30.666Z"
   },
   {
    "duration": 92,
    "start_time": "2023-10-08T12:20:30.676Z"
   },
   {
    "duration": 36,
    "start_time": "2023-10-08T12:20:30.769Z"
   },
   {
    "duration": 80,
    "start_time": "2023-10-08T12:20:30.807Z"
   },
   {
    "duration": 64,
    "start_time": "2023-10-08T12:20:30.889Z"
   },
   {
    "duration": 64,
    "start_time": "2023-10-08T12:20:30.954Z"
   },
   {
    "duration": 81,
    "start_time": "2023-10-08T12:20:31.019Z"
   },
   {
    "duration": 42,
    "start_time": "2023-10-08T12:20:31.102Z"
   },
   {
    "duration": 122,
    "start_time": "2023-10-08T12:20:31.145Z"
   },
   {
    "duration": 14,
    "start_time": "2023-10-08T12:20:31.269Z"
   },
   {
    "duration": 67,
    "start_time": "2023-10-08T12:20:31.285Z"
   },
   {
    "duration": 107,
    "start_time": "2023-10-08T12:20:31.353Z"
   },
   {
    "duration": 139,
    "start_time": "2023-10-08T12:20:31.463Z"
   },
   {
    "duration": 62,
    "start_time": "2023-10-08T12:20:31.604Z"
   },
   {
    "duration": 53,
    "start_time": "2023-10-08T12:20:31.667Z"
   },
   {
    "duration": 51,
    "start_time": "2023-10-08T12:20:31.722Z"
   },
   {
    "duration": 307,
    "start_time": "2023-10-08T12:20:31.774Z"
   },
   {
    "duration": 329,
    "start_time": "2023-10-08T12:20:32.082Z"
   },
   {
    "duration": 158,
    "start_time": "2023-10-08T12:33:06.983Z"
   },
   {
    "duration": 57,
    "start_time": "2023-10-08T15:28:48.227Z"
   },
   {
    "duration": 1536,
    "start_time": "2023-10-08T15:29:02.489Z"
   },
   {
    "duration": 20,
    "start_time": "2023-10-08T15:29:04.027Z"
   },
   {
    "duration": 433,
    "start_time": "2023-10-08T15:29:04.049Z"
   },
   {
    "duration": 22,
    "start_time": "2023-10-08T15:29:04.486Z"
   },
   {
    "duration": 4,
    "start_time": "2023-10-08T15:29:04.511Z"
   },
   {
    "duration": 14,
    "start_time": "2023-10-08T15:29:04.518Z"
   },
   {
    "duration": 35,
    "start_time": "2023-10-08T15:29:04.535Z"
   },
   {
    "duration": 20,
    "start_time": "2023-10-08T15:29:04.573Z"
   },
   {
    "duration": 19,
    "start_time": "2023-10-08T15:29:04.596Z"
   },
   {
    "duration": 134,
    "start_time": "2023-10-08T15:29:04.620Z"
   },
   {
    "duration": 22,
    "start_time": "2023-10-08T15:29:04.757Z"
   },
   {
    "duration": 7,
    "start_time": "2023-10-08T15:29:04.782Z"
   },
   {
    "duration": 19,
    "start_time": "2023-10-08T15:29:04.792Z"
   },
   {
    "duration": 54,
    "start_time": "2023-10-08T15:29:04.814Z"
   },
   {
    "duration": 25,
    "start_time": "2023-10-08T15:29:04.870Z"
   },
   {
    "duration": 18,
    "start_time": "2023-10-08T15:29:04.898Z"
   },
   {
    "duration": 36,
    "start_time": "2023-10-08T15:29:04.919Z"
   },
   {
    "duration": 393,
    "start_time": "2023-10-08T15:29:04.958Z"
   },
   {
    "duration": 516,
    "start_time": "2023-10-08T15:29:05.353Z"
   },
   {
    "duration": 7,
    "start_time": "2023-10-08T15:29:05.871Z"
   },
   {
    "duration": 4,
    "start_time": "2023-10-08T15:29:38.281Z"
   },
   {
    "duration": 199,
    "start_time": "2023-10-08T15:29:55.396Z"
   },
   {
    "duration": 305,
    "start_time": "2023-10-08T15:30:42.810Z"
   },
   {
    "duration": 205,
    "start_time": "2023-10-08T15:31:14.274Z"
   },
   {
    "duration": 6,
    "start_time": "2023-10-08T15:32:16.200Z"
   },
   {
    "duration": 6,
    "start_time": "2023-10-08T15:32:58.581Z"
   },
   {
    "duration": 228,
    "start_time": "2023-10-08T15:33:16.541Z"
   },
   {
    "duration": 293,
    "start_time": "2023-10-08T15:33:40.432Z"
   },
   {
    "duration": 356,
    "start_time": "2023-10-08T15:34:21.869Z"
   },
   {
    "duration": 226,
    "start_time": "2023-10-08T15:39:42.316Z"
   },
   {
    "duration": 111,
    "start_time": "2023-10-08T15:43:10.171Z"
   },
   {
    "duration": 187,
    "start_time": "2023-10-08T15:44:08.727Z"
   },
   {
    "duration": 220,
    "start_time": "2023-10-08T15:45:32.618Z"
   },
   {
    "duration": 233,
    "start_time": "2023-10-08T15:55:02.099Z"
   },
   {
    "duration": 17,
    "start_time": "2023-10-08T16:15:50.360Z"
   },
   {
    "duration": 377,
    "start_time": "2023-10-08T16:17:37.176Z"
   },
   {
    "duration": 282,
    "start_time": "2023-10-08T16:18:47.409Z"
   },
   {
    "duration": 288,
    "start_time": "2023-10-08T16:21:43.772Z"
   },
   {
    "duration": 1391,
    "start_time": "2023-10-08T16:47:32.097Z"
   },
   {
    "duration": 8,
    "start_time": "2023-10-08T16:47:33.490Z"
   },
   {
    "duration": 46,
    "start_time": "2023-10-08T16:47:33.500Z"
   },
   {
    "duration": 14,
    "start_time": "2023-10-08T16:47:33.547Z"
   },
   {
    "duration": 25,
    "start_time": "2023-10-08T16:47:33.563Z"
   },
   {
    "duration": 32,
    "start_time": "2023-10-08T16:47:33.590Z"
   },
   {
    "duration": 53,
    "start_time": "2023-10-08T16:47:33.624Z"
   },
   {
    "duration": 34,
    "start_time": "2023-10-08T16:47:33.679Z"
   },
   {
    "duration": 12,
    "start_time": "2023-10-08T16:47:33.715Z"
   },
   {
    "duration": 153,
    "start_time": "2023-10-08T16:47:33.729Z"
   },
   {
    "duration": 16,
    "start_time": "2023-10-08T16:47:33.883Z"
   },
   {
    "duration": 28,
    "start_time": "2023-10-08T16:47:33.901Z"
   },
   {
    "duration": 34,
    "start_time": "2023-10-08T16:47:33.931Z"
   },
   {
    "duration": 49,
    "start_time": "2023-10-08T16:47:33.968Z"
   },
   {
    "duration": 37,
    "start_time": "2023-10-08T16:47:34.019Z"
   },
   {
    "duration": 8,
    "start_time": "2023-10-08T16:47:34.058Z"
   },
   {
    "duration": 17,
    "start_time": "2023-10-08T16:47:34.068Z"
   },
   {
    "duration": 346,
    "start_time": "2023-10-08T16:47:34.087Z"
   },
   {
    "duration": 395,
    "start_time": "2023-10-08T16:47:34.435Z"
   },
   {
    "duration": 303,
    "start_time": "2023-10-08T16:47:34.833Z"
   },
   {
    "duration": 119,
    "start_time": "2023-10-08T16:52:47.007Z"
   },
   {
    "duration": 407,
    "start_time": "2023-10-08T16:54:33.468Z"
   },
   {
    "duration": 422,
    "start_time": "2023-10-08T16:55:07.242Z"
   },
   {
    "duration": 414,
    "start_time": "2023-10-08T16:55:23.257Z"
   },
   {
    "duration": 1392,
    "start_time": "2023-10-08T16:55:44.145Z"
   },
   {
    "duration": 18,
    "start_time": "2023-10-08T16:55:45.540Z"
   },
   {
    "duration": 47,
    "start_time": "2023-10-08T16:55:45.562Z"
   },
   {
    "duration": 20,
    "start_time": "2023-10-08T16:55:45.612Z"
   },
   {
    "duration": 8,
    "start_time": "2023-10-08T16:55:45.635Z"
   },
   {
    "duration": 34,
    "start_time": "2023-10-08T16:55:45.646Z"
   },
   {
    "duration": 41,
    "start_time": "2023-10-08T16:55:45.683Z"
   },
   {
    "duration": 41,
    "start_time": "2023-10-08T16:55:45.727Z"
   },
   {
    "duration": 16,
    "start_time": "2023-10-08T16:55:45.770Z"
   },
   {
    "duration": 57,
    "start_time": "2023-10-08T16:55:45.790Z"
   },
   {
    "duration": 18,
    "start_time": "2023-10-08T16:55:45.849Z"
   },
   {
    "duration": 23,
    "start_time": "2023-10-08T16:55:45.869Z"
   },
   {
    "duration": 37,
    "start_time": "2023-10-08T16:55:45.895Z"
   },
   {
    "duration": 34,
    "start_time": "2023-10-08T16:55:45.935Z"
   },
   {
    "duration": 56,
    "start_time": "2023-10-08T16:55:45.970Z"
   },
   {
    "duration": 32,
    "start_time": "2023-10-08T16:55:46.028Z"
   },
   {
    "duration": 14,
    "start_time": "2023-10-08T16:55:46.064Z"
   },
   {
    "duration": 348,
    "start_time": "2023-10-08T16:55:46.081Z"
   },
   {
    "duration": 439,
    "start_time": "2023-10-08T16:55:46.430Z"
   },
   {
    "duration": 318,
    "start_time": "2023-10-08T16:55:46.871Z"
   },
   {
    "duration": 460,
    "start_time": "2023-10-08T16:55:47.191Z"
   },
   {
    "duration": 313,
    "start_time": "2023-10-08T17:04:09.773Z"
   },
   {
    "duration": 416,
    "start_time": "2023-10-08T17:25:14.002Z"
   },
   {
    "duration": 120,
    "start_time": "2023-10-08T17:30:51.475Z"
   },
   {
    "duration": 19,
    "start_time": "2023-10-08T17:32:09.042Z"
   },
   {
    "duration": 333,
    "start_time": "2023-10-08T17:34:08.424Z"
   },
   {
    "duration": 1210,
    "start_time": "2023-10-08T17:38:23.287Z"
   },
   {
    "duration": 9,
    "start_time": "2023-10-08T17:38:24.499Z"
   },
   {
    "duration": 72,
    "start_time": "2023-10-08T17:38:24.509Z"
   },
   {
    "duration": 12,
    "start_time": "2023-10-08T17:38:24.583Z"
   },
   {
    "duration": 9,
    "start_time": "2023-10-08T17:38:24.598Z"
   },
   {
    "duration": 25,
    "start_time": "2023-10-08T17:38:24.609Z"
   },
   {
    "duration": 28,
    "start_time": "2023-10-08T17:38:24.636Z"
   },
   {
    "duration": 359,
    "start_time": "2023-10-08T17:38:24.666Z"
   },
   {
    "duration": 313,
    "start_time": "2023-10-08T17:38:25.027Z"
   },
   {
    "duration": 90,
    "start_time": "2023-10-08T17:38:25.342Z"
   },
   {
    "duration": 19,
    "start_time": "2023-10-08T17:38:25.434Z"
   },
   {
    "duration": 20,
    "start_time": "2023-10-08T17:38:25.454Z"
   },
   {
    "duration": 38,
    "start_time": "2023-10-08T17:38:25.476Z"
   },
   {
    "duration": 35,
    "start_time": "2023-10-08T17:38:25.518Z"
   },
   {
    "duration": 26,
    "start_time": "2023-10-08T17:38:25.555Z"
   },
   {
    "duration": 26,
    "start_time": "2023-10-08T17:38:25.583Z"
   },
   {
    "duration": 32,
    "start_time": "2023-10-08T17:38:25.611Z"
   },
   {
    "duration": 364,
    "start_time": "2023-10-08T17:38:25.645Z"
   },
   {
    "duration": 421,
    "start_time": "2023-10-08T17:38:26.011Z"
   },
   {
    "duration": 309,
    "start_time": "2023-10-08T17:38:26.434Z"
   },
   {
    "duration": 401,
    "start_time": "2023-10-08T17:38:26.747Z"
   },
   {
    "duration": 408,
    "start_time": "2023-10-08T17:38:27.150Z"
   },
   {
    "duration": 494,
    "start_time": "2023-10-08T17:38:27.561Z"
   },
   {
    "duration": 439,
    "start_time": "2023-10-08T17:38:28.058Z"
   },
   {
    "duration": 6,
    "start_time": "2023-10-08T18:17:05.517Z"
   },
   {
    "duration": 6,
    "start_time": "2023-10-08T18:20:12.597Z"
   },
   {
    "duration": 83,
    "start_time": "2023-10-08T18:28:28.888Z"
   },
   {
    "duration": 137,
    "start_time": "2023-10-08T18:40:41.801Z"
   },
   {
    "duration": 16,
    "start_time": "2023-10-08T18:41:26.238Z"
   },
   {
    "duration": 27,
    "start_time": "2023-10-08T18:42:04.738Z"
   },
   {
    "duration": 16,
    "start_time": "2023-10-08T18:42:33.797Z"
   },
   {
    "duration": 9,
    "start_time": "2023-10-08T18:56:47.524Z"
   },
   {
    "duration": 254,
    "start_time": "2023-10-08T18:57:18.967Z"
   },
   {
    "duration": 239,
    "start_time": "2023-10-08T18:58:30.240Z"
   },
   {
    "duration": 272,
    "start_time": "2023-10-08T18:59:32.855Z"
   },
   {
    "duration": 2149,
    "start_time": "2023-10-08T19:00:18.578Z"
   },
   {
    "duration": 1717,
    "start_time": "2023-10-08T19:01:36.218Z"
   },
   {
    "duration": 1460,
    "start_time": "2023-10-08T19:02:51.273Z"
   },
   {
    "duration": 1467,
    "start_time": "2023-10-08T19:03:25.707Z"
   },
   {
    "duration": 1569,
    "start_time": "2023-10-08T19:03:47.379Z"
   },
   {
    "duration": 1470,
    "start_time": "2023-10-08T19:06:44.590Z"
   },
   {
    "duration": 215,
    "start_time": "2023-10-08T19:06:58.247Z"
   },
   {
    "duration": 1605,
    "start_time": "2023-10-08T19:07:27.451Z"
   },
   {
    "duration": 250,
    "start_time": "2023-10-08T19:10:07.566Z"
   },
   {
    "duration": 310,
    "start_time": "2023-10-08T19:11:33.616Z"
   },
   {
    "duration": 57,
    "start_time": "2023-10-09T08:35:11.303Z"
   },
   {
    "duration": 1519,
    "start_time": "2023-10-09T08:35:18.137Z"
   },
   {
    "duration": 9,
    "start_time": "2023-10-09T08:35:19.658Z"
   },
   {
    "duration": 74,
    "start_time": "2023-10-09T08:35:19.669Z"
   },
   {
    "duration": 14,
    "start_time": "2023-10-09T08:35:19.746Z"
   },
   {
    "duration": 9,
    "start_time": "2023-10-09T08:35:19.762Z"
   },
   {
    "duration": 43,
    "start_time": "2023-10-09T08:35:19.773Z"
   },
   {
    "duration": 22,
    "start_time": "2023-10-09T08:35:19.819Z"
   },
   {
    "duration": 17,
    "start_time": "2023-10-09T08:35:19.843Z"
   },
   {
    "duration": 13,
    "start_time": "2023-10-09T08:35:19.862Z"
   },
   {
    "duration": 179,
    "start_time": "2023-10-09T08:35:19.879Z"
   },
   {
    "duration": 17,
    "start_time": "2023-10-09T08:35:20.060Z"
   },
   {
    "duration": 90,
    "start_time": "2023-10-09T08:35:20.079Z"
   },
   {
    "duration": 96,
    "start_time": "2023-10-09T08:35:20.171Z"
   },
   {
    "duration": 64,
    "start_time": "2023-10-09T08:35:20.269Z"
   },
   {
    "duration": 31,
    "start_time": "2023-10-09T08:35:20.335Z"
   },
   {
    "duration": 7,
    "start_time": "2023-10-09T08:35:20.369Z"
   },
   {
    "duration": 41,
    "start_time": "2023-10-09T08:35:20.378Z"
   },
   {
    "duration": 358,
    "start_time": "2023-10-09T08:35:20.421Z"
   },
   {
    "duration": 402,
    "start_time": "2023-10-09T08:35:20.781Z"
   },
   {
    "duration": 291,
    "start_time": "2023-10-09T08:35:21.185Z"
   },
   {
    "duration": 454,
    "start_time": "2023-10-09T08:35:21.478Z"
   },
   {
    "duration": 324,
    "start_time": "2023-10-09T08:35:21.934Z"
   },
   {
    "duration": 403,
    "start_time": "2023-10-09T08:35:22.260Z"
   },
   {
    "duration": 270,
    "start_time": "2023-10-09T08:35:22.666Z"
   },
   {
    "duration": 6,
    "start_time": "2023-10-09T08:35:22.938Z"
   },
   {
    "duration": 429,
    "start_time": "2023-10-09T08:35:22.945Z"
   },
   {
    "duration": 6,
    "start_time": "2023-10-09T08:35:23.376Z"
   },
   {
    "duration": 6,
    "start_time": "2023-10-09T08:39:10.180Z"
   },
   {
    "duration": 6,
    "start_time": "2023-10-09T08:45:21.274Z"
   },
   {
    "duration": 134,
    "start_time": "2023-10-09T09:02:31.522Z"
   },
   {
    "duration": 165,
    "start_time": "2023-10-09T09:04:58.165Z"
   },
   {
    "duration": 162,
    "start_time": "2023-10-09T09:14:38.364Z"
   },
   {
    "duration": 242,
    "start_time": "2023-10-09T09:18:25.933Z"
   },
   {
    "duration": 303,
    "start_time": "2023-10-09T09:18:35.074Z"
   },
   {
    "duration": 329,
    "start_time": "2023-10-09T09:24:01.626Z"
   },
   {
    "duration": 4,
    "start_time": "2023-10-09T10:04:47.882Z"
   },
   {
    "duration": 4,
    "start_time": "2023-10-09T10:05:28.239Z"
   },
   {
    "duration": 24,
    "start_time": "2023-10-09T10:07:03.692Z"
   },
   {
    "duration": 20,
    "start_time": "2023-10-09T10:07:26.747Z"
   },
   {
    "duration": 21,
    "start_time": "2023-10-09T10:08:21.454Z"
   },
   {
    "duration": 1343,
    "start_time": "2023-10-09T10:08:31.259Z"
   },
   {
    "duration": 16,
    "start_time": "2023-10-09T10:08:32.609Z"
   },
   {
    "duration": 100,
    "start_time": "2023-10-09T10:08:32.627Z"
   },
   {
    "duration": 12,
    "start_time": "2023-10-09T10:08:32.731Z"
   },
   {
    "duration": 9,
    "start_time": "2023-10-09T10:08:32.746Z"
   },
   {
    "duration": 56,
    "start_time": "2023-10-09T10:08:32.757Z"
   },
   {
    "duration": 21,
    "start_time": "2023-10-09T10:08:32.821Z"
   },
   {
    "duration": 64,
    "start_time": "2023-10-09T10:08:32.844Z"
   },
   {
    "duration": 37,
    "start_time": "2023-10-09T10:08:32.910Z"
   },
   {
    "duration": 106,
    "start_time": "2023-10-09T10:08:32.949Z"
   },
   {
    "duration": 16,
    "start_time": "2023-10-09T10:08:33.057Z"
   },
   {
    "duration": 23,
    "start_time": "2023-10-09T10:08:33.075Z"
   },
   {
    "duration": 37,
    "start_time": "2023-10-09T10:08:33.100Z"
   },
   {
    "duration": 47,
    "start_time": "2023-10-09T10:08:33.141Z"
   },
   {
    "duration": 86,
    "start_time": "2023-10-09T10:08:33.190Z"
   },
   {
    "duration": 18,
    "start_time": "2023-10-09T10:08:33.278Z"
   },
   {
    "duration": 39,
    "start_time": "2023-10-09T10:08:33.298Z"
   },
   {
    "duration": 355,
    "start_time": "2023-10-09T10:08:33.339Z"
   },
   {
    "duration": 436,
    "start_time": "2023-10-09T10:08:33.696Z"
   },
   {
    "duration": 325,
    "start_time": "2023-10-09T10:08:34.137Z"
   },
   {
    "duration": 493,
    "start_time": "2023-10-09T10:08:34.464Z"
   },
   {
    "duration": 373,
    "start_time": "2023-10-09T10:08:34.959Z"
   },
   {
    "duration": 378,
    "start_time": "2023-10-09T10:08:35.334Z"
   },
   {
    "duration": 276,
    "start_time": "2023-10-09T10:08:35.720Z"
   },
   {
    "duration": 15,
    "start_time": "2023-10-09T10:08:36.001Z"
   },
   {
    "duration": 34,
    "start_time": "2023-10-09T10:08:36.021Z"
   },
   {
    "duration": 432,
    "start_time": "2023-10-09T10:08:36.057Z"
   },
   {
    "duration": 24,
    "start_time": "2023-10-09T10:08:36.490Z"
   },
   {
    "duration": 17,
    "start_time": "2023-10-09T10:08:36.517Z"
   },
   {
    "duration": 251,
    "start_time": "2023-10-09T10:08:36.537Z"
   },
   {
    "duration": 336,
    "start_time": "2023-10-09T10:08:36.790Z"
   },
   {
    "duration": 130,
    "start_time": "2023-10-09T10:08:37.129Z"
   },
   {
    "duration": 4,
    "start_time": "2023-10-09T10:09:16.396Z"
   },
   {
    "duration": 36,
    "start_time": "2023-10-09T10:09:41.140Z"
   },
   {
    "duration": 6,
    "start_time": "2023-10-09T10:11:10.993Z"
   },
   {
    "duration": 46,
    "start_time": "2023-10-09T10:11:12.875Z"
   },
   {
    "duration": 11,
    "start_time": "2023-10-09T10:27:50.545Z"
   },
   {
    "duration": 4,
    "start_time": "2023-10-09T10:33:58.152Z"
   },
   {
    "duration": 55,
    "start_time": "2023-10-09T10:36:23.586Z"
   },
   {
    "duration": 3651,
    "start_time": "2023-10-09T11:26:36.470Z"
   },
   {
    "duration": 2571,
    "start_time": "2023-10-09T11:27:21.820Z"
   },
   {
    "duration": 21,
    "start_time": "2023-10-09T11:27:51.092Z"
   },
   {
    "duration": 46,
    "start_time": "2023-10-09T11:36:39.102Z"
   },
   {
    "duration": 1579,
    "start_time": "2023-10-09T11:46:31.852Z"
   },
   {
    "duration": 10,
    "start_time": "2023-10-09T11:47:01.833Z"
   },
   {
    "duration": 1443,
    "start_time": "2023-10-09T11:59:41.505Z"
   },
   {
    "duration": 8,
    "start_time": "2023-10-09T11:59:42.951Z"
   },
   {
    "duration": 61,
    "start_time": "2023-10-09T11:59:42.961Z"
   },
   {
    "duration": 18,
    "start_time": "2023-10-09T11:59:43.024Z"
   },
   {
    "duration": 103,
    "start_time": "2023-10-09T11:59:43.045Z"
   },
   {
    "duration": 29,
    "start_time": "2023-10-09T11:59:43.150Z"
   },
   {
    "duration": 39,
    "start_time": "2023-10-09T11:59:43.181Z"
   },
   {
    "duration": 26,
    "start_time": "2023-10-09T11:59:43.222Z"
   },
   {
    "duration": 28,
    "start_time": "2023-10-09T11:59:43.250Z"
   },
   {
    "duration": 66,
    "start_time": "2023-10-09T11:59:43.280Z"
   },
   {
    "duration": 16,
    "start_time": "2023-10-09T11:59:43.348Z"
   },
   {
    "duration": 22,
    "start_time": "2023-10-09T11:59:43.366Z"
   },
   {
    "duration": 126,
    "start_time": "2023-10-09T11:59:43.390Z"
   },
   {
    "duration": 29,
    "start_time": "2023-10-09T11:59:43.521Z"
   },
   {
    "duration": 55,
    "start_time": "2023-10-09T11:59:43.552Z"
   },
   {
    "duration": 15,
    "start_time": "2023-10-09T11:59:43.611Z"
   },
   {
    "duration": 25,
    "start_time": "2023-10-09T11:59:43.628Z"
   },
   {
    "duration": 383,
    "start_time": "2023-10-09T11:59:43.655Z"
   },
   {
    "duration": 488,
    "start_time": "2023-10-09T11:59:44.040Z"
   },
   {
    "duration": 415,
    "start_time": "2023-10-09T11:59:44.531Z"
   },
   {
    "duration": 411,
    "start_time": "2023-10-09T11:59:44.949Z"
   },
   {
    "duration": 367,
    "start_time": "2023-10-09T11:59:45.363Z"
   },
   {
    "duration": 399,
    "start_time": "2023-10-09T11:59:45.732Z"
   },
   {
    "duration": 249,
    "start_time": "2023-10-09T11:59:46.133Z"
   },
   {
    "duration": 18,
    "start_time": "2023-10-09T11:59:46.384Z"
   },
   {
    "duration": 41,
    "start_time": "2023-10-09T11:59:46.407Z"
   },
   {
    "duration": 430,
    "start_time": "2023-10-09T11:59:46.450Z"
   },
   {
    "duration": 6,
    "start_time": "2023-10-09T11:59:46.882Z"
   },
   {
    "duration": 7,
    "start_time": "2023-10-09T11:59:46.902Z"
   },
   {
    "duration": 47,
    "start_time": "2023-10-09T11:59:46.911Z"
   },
   {
    "duration": 277,
    "start_time": "2023-10-09T11:59:46.960Z"
   },
   {
    "duration": 0,
    "start_time": "2023-10-09T11:59:47.239Z"
   },
   {
    "duration": 0,
    "start_time": "2023-10-09T11:59:47.241Z"
   },
   {
    "duration": 0,
    "start_time": "2023-10-09T11:59:47.242Z"
   },
   {
    "duration": 0,
    "start_time": "2023-10-09T11:59:47.243Z"
   },
   {
    "duration": 60,
    "start_time": "2023-10-09T15:35:57.781Z"
   },
   {
    "duration": 1554,
    "start_time": "2023-10-09T15:39:30.466Z"
   },
   {
    "duration": 14,
    "start_time": "2023-10-09T15:39:32.022Z"
   },
   {
    "duration": 105,
    "start_time": "2023-10-09T15:39:32.038Z"
   },
   {
    "duration": 82,
    "start_time": "2023-10-09T15:39:32.145Z"
   },
   {
    "duration": 152,
    "start_time": "2023-10-09T15:39:32.229Z"
   },
   {
    "duration": 126,
    "start_time": "2023-10-09T15:39:32.383Z"
   },
   {
    "duration": 46,
    "start_time": "2023-10-09T15:39:32.516Z"
   },
   {
    "duration": 53,
    "start_time": "2023-10-09T15:39:32.565Z"
   },
   {
    "duration": 140,
    "start_time": "2023-10-09T15:39:32.621Z"
   },
   {
    "duration": 240,
    "start_time": "2023-10-09T15:39:32.764Z"
   },
   {
    "duration": 21,
    "start_time": "2023-10-09T15:39:33.007Z"
   },
   {
    "duration": 24,
    "start_time": "2023-10-09T15:39:33.030Z"
   },
   {
    "duration": 42,
    "start_time": "2023-10-09T15:39:33.056Z"
   },
   {
    "duration": 63,
    "start_time": "2023-10-09T15:39:33.103Z"
   },
   {
    "duration": 48,
    "start_time": "2023-10-09T15:39:33.168Z"
   },
   {
    "duration": 8,
    "start_time": "2023-10-09T15:39:33.218Z"
   },
   {
    "duration": 45,
    "start_time": "2023-10-09T15:39:33.228Z"
   },
   {
    "duration": 391,
    "start_time": "2023-10-09T15:39:33.275Z"
   },
   {
    "duration": 415,
    "start_time": "2023-10-09T15:39:33.668Z"
   },
   {
    "duration": 346,
    "start_time": "2023-10-09T15:39:34.085Z"
   },
   {
    "duration": 518,
    "start_time": "2023-10-09T15:39:34.433Z"
   },
   {
    "duration": 333,
    "start_time": "2023-10-09T15:39:34.953Z"
   },
   {
    "duration": 445,
    "start_time": "2023-10-09T15:39:35.288Z"
   },
   {
    "duration": 295,
    "start_time": "2023-10-09T15:39:35.736Z"
   },
   {
    "duration": 6,
    "start_time": "2023-10-09T15:39:36.033Z"
   },
   {
    "duration": 42,
    "start_time": "2023-10-09T15:39:36.041Z"
   },
   {
    "duration": 420,
    "start_time": "2023-10-09T15:39:36.085Z"
   },
   {
    "duration": 11,
    "start_time": "2023-10-09T15:39:36.507Z"
   },
   {
    "duration": 128,
    "start_time": "2023-10-09T15:39:36.521Z"
   },
   {
    "duration": 103,
    "start_time": "2023-10-09T15:39:36.651Z"
   },
   {
    "duration": 263,
    "start_time": "2023-10-09T15:39:36.757Z"
   },
   {
    "duration": 0,
    "start_time": "2023-10-09T15:39:37.022Z"
   },
   {
    "duration": 0,
    "start_time": "2023-10-09T15:39:37.023Z"
   },
   {
    "duration": 0,
    "start_time": "2023-10-09T15:39:37.024Z"
   },
   {
    "duration": 0,
    "start_time": "2023-10-09T15:39:37.025Z"
   },
   {
    "duration": 9,
    "start_time": "2023-10-09T15:40:48.876Z"
   },
   {
    "duration": 14,
    "start_time": "2023-10-09T15:40:54.585Z"
   },
   {
    "duration": 13,
    "start_time": "2023-10-09T15:41:03.570Z"
   },
   {
    "duration": 11,
    "start_time": "2023-10-09T15:41:07.473Z"
   },
   {
    "duration": 12,
    "start_time": "2023-10-09T15:45:24.340Z"
   },
   {
    "duration": 5,
    "start_time": "2023-10-09T15:47:35.669Z"
   },
   {
    "duration": 21,
    "start_time": "2023-10-09T15:47:37.425Z"
   },
   {
    "duration": 6,
    "start_time": "2023-10-09T15:48:58.514Z"
   },
   {
    "duration": 171,
    "start_time": "2023-10-09T15:49:00.912Z"
   },
   {
    "duration": 14,
    "start_time": "2023-10-09T15:49:28.672Z"
   },
   {
    "duration": 35,
    "start_time": "2023-10-09T15:49:32.227Z"
   },
   {
    "duration": 10,
    "start_time": "2023-10-09T15:49:35.290Z"
   },
   {
    "duration": 1300,
    "start_time": "2023-10-09T15:49:43.815Z"
   },
   {
    "duration": 9,
    "start_time": "2023-10-09T15:49:45.117Z"
   },
   {
    "duration": 35,
    "start_time": "2023-10-09T15:49:45.128Z"
   },
   {
    "duration": 15,
    "start_time": "2023-10-09T15:49:45.165Z"
   },
   {
    "duration": 14,
    "start_time": "2023-10-09T15:49:45.183Z"
   },
   {
    "duration": 30,
    "start_time": "2023-10-09T15:49:45.198Z"
   },
   {
    "duration": 27,
    "start_time": "2023-10-09T15:49:45.230Z"
   },
   {
    "duration": 22,
    "start_time": "2023-10-09T15:49:45.258Z"
   },
   {
    "duration": 12,
    "start_time": "2023-10-09T15:49:45.282Z"
   },
   {
    "duration": 76,
    "start_time": "2023-10-09T15:49:45.295Z"
   },
   {
    "duration": 14,
    "start_time": "2023-10-09T15:49:45.373Z"
   },
   {
    "duration": 10,
    "start_time": "2023-10-09T15:49:45.389Z"
   },
   {
    "duration": 25,
    "start_time": "2023-10-09T15:49:45.401Z"
   },
   {
    "duration": 61,
    "start_time": "2023-10-09T15:49:45.429Z"
   },
   {
    "duration": 33,
    "start_time": "2023-10-09T15:49:45.492Z"
   },
   {
    "duration": 67,
    "start_time": "2023-10-09T15:49:45.528Z"
   },
   {
    "duration": 44,
    "start_time": "2023-10-09T15:49:45.597Z"
   },
   {
    "duration": 337,
    "start_time": "2023-10-09T15:49:45.643Z"
   },
   {
    "duration": 380,
    "start_time": "2023-10-09T15:49:45.981Z"
   },
   {
    "duration": 299,
    "start_time": "2023-10-09T15:49:46.363Z"
   },
   {
    "duration": 454,
    "start_time": "2023-10-09T15:49:46.665Z"
   },
   {
    "duration": 317,
    "start_time": "2023-10-09T15:49:47.121Z"
   },
   {
    "duration": 375,
    "start_time": "2023-10-09T15:49:47.440Z"
   },
   {
    "duration": 248,
    "start_time": "2023-10-09T15:49:47.818Z"
   },
   {
    "duration": 4,
    "start_time": "2023-10-09T15:49:48.068Z"
   },
   {
    "duration": 25,
    "start_time": "2023-10-09T15:49:48.074Z"
   },
   {
    "duration": 420,
    "start_time": "2023-10-09T15:49:48.101Z"
   },
   {
    "duration": 7,
    "start_time": "2023-10-09T15:49:48.523Z"
   },
   {
    "duration": 10,
    "start_time": "2023-10-09T15:49:48.532Z"
   },
   {
    "duration": 12,
    "start_time": "2023-10-09T15:49:48.545Z"
   },
   {
    "duration": 33,
    "start_time": "2023-10-09T15:49:48.559Z"
   },
   {
    "duration": 235,
    "start_time": "2023-10-09T15:49:48.594Z"
   },
   {
    "duration": 9,
    "start_time": "2023-10-09T15:49:48.830Z"
   },
   {
    "duration": 28,
    "start_time": "2023-10-09T15:49:48.841Z"
   },
   {
    "duration": 67,
    "start_time": "2023-10-09T15:49:48.871Z"
   },
   {
    "duration": 11,
    "start_time": "2023-10-09T15:49:48.940Z"
   },
   {
    "duration": 1314,
    "start_time": "2023-10-09T16:16:36.566Z"
   },
   {
    "duration": 9,
    "start_time": "2023-10-09T16:16:37.882Z"
   },
   {
    "duration": 44,
    "start_time": "2023-10-09T16:16:37.902Z"
   },
   {
    "duration": 16,
    "start_time": "2023-10-09T16:16:37.949Z"
   },
   {
    "duration": 4,
    "start_time": "2023-10-09T16:16:37.968Z"
   },
   {
    "duration": 54,
    "start_time": "2023-10-09T16:16:37.974Z"
   },
   {
    "duration": 18,
    "start_time": "2023-10-09T16:16:38.031Z"
   },
   {
    "duration": 22,
    "start_time": "2023-10-09T16:16:38.051Z"
   },
   {
    "duration": 17,
    "start_time": "2023-10-09T16:16:38.075Z"
   },
   {
    "duration": 70,
    "start_time": "2023-10-09T16:16:38.094Z"
   },
   {
    "duration": 16,
    "start_time": "2023-10-09T16:16:38.166Z"
   },
   {
    "duration": 9,
    "start_time": "2023-10-09T16:16:38.183Z"
   },
   {
    "duration": 18,
    "start_time": "2023-10-09T16:16:38.194Z"
   },
   {
    "duration": 34,
    "start_time": "2023-10-09T16:16:38.216Z"
   },
   {
    "duration": 28,
    "start_time": "2023-10-09T16:16:38.252Z"
   },
   {
    "duration": 8,
    "start_time": "2023-10-09T16:16:38.314Z"
   },
   {
    "duration": 11,
    "start_time": "2023-10-09T16:16:38.328Z"
   },
   {
    "duration": 404,
    "start_time": "2023-10-09T16:16:38.340Z"
   },
   {
    "duration": 469,
    "start_time": "2023-10-09T16:16:38.747Z"
   },
   {
    "duration": 346,
    "start_time": "2023-10-09T16:16:39.221Z"
   },
   {
    "duration": 473,
    "start_time": "2023-10-09T16:16:39.569Z"
   },
   {
    "duration": 434,
    "start_time": "2023-10-09T16:16:40.044Z"
   },
   {
    "duration": 455,
    "start_time": "2023-10-09T16:16:40.481Z"
   },
   {
    "duration": 286,
    "start_time": "2023-10-09T16:16:40.938Z"
   },
   {
    "duration": 7,
    "start_time": "2023-10-09T16:16:41.226Z"
   },
   {
    "duration": 30,
    "start_time": "2023-10-09T16:16:41.235Z"
   },
   {
    "duration": 448,
    "start_time": "2023-10-09T16:16:41.267Z"
   },
   {
    "duration": 6,
    "start_time": "2023-10-09T16:16:41.717Z"
   },
   {
    "duration": 19,
    "start_time": "2023-10-09T16:16:41.725Z"
   },
   {
    "duration": 25,
    "start_time": "2023-10-09T16:16:41.746Z"
   },
   {
    "duration": 66,
    "start_time": "2023-10-09T16:16:41.773Z"
   },
   {
    "duration": 250,
    "start_time": "2023-10-09T16:16:41.841Z"
   },
   {
    "duration": 19,
    "start_time": "2023-10-09T16:16:42.092Z"
   },
   {
    "duration": 43,
    "start_time": "2023-10-09T16:16:42.114Z"
   },
   {
    "duration": 52,
    "start_time": "2023-10-09T16:16:42.159Z"
   },
   {
    "duration": 205,
    "start_time": "2023-10-09T16:16:42.212Z"
   },
   {
    "duration": 454,
    "start_time": "2023-10-09T16:17:48.172Z"
   },
   {
    "duration": 420,
    "start_time": "2023-10-09T16:18:20.227Z"
   },
   {
    "duration": 1445,
    "start_time": "2023-10-09T16:18:31.190Z"
   },
   {
    "duration": 9,
    "start_time": "2023-10-09T16:18:32.637Z"
   },
   {
    "duration": 217,
    "start_time": "2023-10-09T16:18:32.647Z"
   },
   {
    "duration": 15,
    "start_time": "2023-10-09T16:18:32.866Z"
   },
   {
    "duration": 42,
    "start_time": "2023-10-09T16:18:32.882Z"
   },
   {
    "duration": 16,
    "start_time": "2023-10-09T16:18:32.926Z"
   },
   {
    "duration": 72,
    "start_time": "2023-10-09T16:18:32.943Z"
   },
   {
    "duration": 17,
    "start_time": "2023-10-09T16:18:33.023Z"
   },
   {
    "duration": 111,
    "start_time": "2023-10-09T16:18:33.042Z"
   },
   {
    "duration": 522,
    "start_time": "2023-10-09T16:18:33.156Z"
   },
   {
    "duration": 17,
    "start_time": "2023-10-09T16:18:33.681Z"
   },
   {
    "duration": 76,
    "start_time": "2023-10-09T16:18:33.700Z"
   },
   {
    "duration": 45,
    "start_time": "2023-10-09T16:18:33.778Z"
   },
   {
    "duration": 23,
    "start_time": "2023-10-09T16:18:33.828Z"
   },
   {
    "duration": 38,
    "start_time": "2023-10-09T16:18:33.853Z"
   },
   {
    "duration": 39,
    "start_time": "2023-10-09T16:18:33.893Z"
   },
   {
    "duration": 14,
    "start_time": "2023-10-09T16:18:33.934Z"
   },
   {
    "duration": 408,
    "start_time": "2023-10-09T16:18:33.950Z"
   },
   {
    "duration": 505,
    "start_time": "2023-10-09T16:18:34.360Z"
   },
   {
    "duration": 346,
    "start_time": "2023-10-09T16:18:34.867Z"
   },
   {
    "duration": 393,
    "start_time": "2023-10-09T16:18:35.215Z"
   },
   {
    "duration": 347,
    "start_time": "2023-10-09T16:18:35.611Z"
   },
   {
    "duration": 407,
    "start_time": "2023-10-09T16:18:35.960Z"
   },
   {
    "duration": 292,
    "start_time": "2023-10-09T16:18:36.369Z"
   },
   {
    "duration": 5,
    "start_time": "2023-10-09T16:18:36.663Z"
   },
   {
    "duration": 42,
    "start_time": "2023-10-09T16:18:36.670Z"
   },
   {
    "duration": 432,
    "start_time": "2023-10-09T16:18:36.720Z"
   },
   {
    "duration": 6,
    "start_time": "2023-10-09T16:18:37.155Z"
   },
   {
    "duration": 34,
    "start_time": "2023-10-09T16:18:37.163Z"
   },
   {
    "duration": 16,
    "start_time": "2023-10-09T16:18:37.199Z"
   },
   {
    "duration": 23,
    "start_time": "2023-10-09T16:18:37.217Z"
   },
   {
    "duration": 209,
    "start_time": "2023-10-09T16:18:37.242Z"
   },
   {
    "duration": 10,
    "start_time": "2023-10-09T16:18:37.453Z"
   },
   {
    "duration": 44,
    "start_time": "2023-10-09T16:18:37.465Z"
   },
   {
    "duration": 53,
    "start_time": "2023-10-09T16:18:37.511Z"
   },
   {
    "duration": 11,
    "start_time": "2023-10-09T16:18:37.566Z"
   },
   {
    "duration": 12,
    "start_time": "2023-10-09T16:19:03.224Z"
   },
   {
    "duration": 1362,
    "start_time": "2023-10-09T16:19:10.751Z"
   },
   {
    "duration": 24,
    "start_time": "2023-10-09T16:19:12.116Z"
   },
   {
    "duration": 54,
    "start_time": "2023-10-09T16:19:12.142Z"
   },
   {
    "duration": 28,
    "start_time": "2023-10-09T16:19:12.198Z"
   },
   {
    "duration": 46,
    "start_time": "2023-10-09T16:19:12.229Z"
   },
   {
    "duration": 44,
    "start_time": "2023-10-09T16:19:12.276Z"
   },
   {
    "duration": 40,
    "start_time": "2023-10-09T16:19:12.322Z"
   },
   {
    "duration": 52,
    "start_time": "2023-10-09T16:19:12.364Z"
   },
   {
    "duration": 24,
    "start_time": "2023-10-09T16:19:12.423Z"
   },
   {
    "duration": 115,
    "start_time": "2023-10-09T16:19:12.448Z"
   },
   {
    "duration": 29,
    "start_time": "2023-10-09T16:19:12.566Z"
   },
   {
    "duration": 36,
    "start_time": "2023-10-09T16:19:12.597Z"
   },
   {
    "duration": 37,
    "start_time": "2023-10-09T16:19:12.638Z"
   },
   {
    "duration": 47,
    "start_time": "2023-10-09T16:19:12.680Z"
   },
   {
    "duration": 32,
    "start_time": "2023-10-09T16:19:12.729Z"
   },
   {
    "duration": 7,
    "start_time": "2023-10-09T16:19:12.763Z"
   },
   {
    "duration": 26,
    "start_time": "2023-10-09T16:19:12.772Z"
   },
   {
    "duration": 419,
    "start_time": "2023-10-09T16:19:12.799Z"
   },
   {
    "duration": 489,
    "start_time": "2023-10-09T16:19:13.220Z"
   },
   {
    "duration": 311,
    "start_time": "2023-10-09T16:19:13.720Z"
   },
   {
    "duration": 417,
    "start_time": "2023-10-09T16:19:14.033Z"
   },
   {
    "duration": 406,
    "start_time": "2023-10-09T16:19:14.452Z"
   },
   {
    "duration": 491,
    "start_time": "2023-10-09T16:19:14.861Z"
   },
   {
    "duration": 300,
    "start_time": "2023-10-09T16:19:15.355Z"
   },
   {
    "duration": 7,
    "start_time": "2023-10-09T16:19:15.657Z"
   },
   {
    "duration": 74,
    "start_time": "2023-10-09T16:19:15.666Z"
   },
   {
    "duration": 483,
    "start_time": "2023-10-09T16:19:15.741Z"
   },
   {
    "duration": 6,
    "start_time": "2023-10-09T16:19:16.230Z"
   },
   {
    "duration": 70,
    "start_time": "2023-10-09T16:19:16.238Z"
   },
   {
    "duration": 8,
    "start_time": "2023-10-09T16:19:16.309Z"
   },
   {
    "duration": 135,
    "start_time": "2023-10-09T16:19:16.318Z"
   },
   {
    "duration": 261,
    "start_time": "2023-10-09T16:19:16.455Z"
   },
   {
    "duration": 11,
    "start_time": "2023-10-09T16:19:16.725Z"
   },
   {
    "duration": 28,
    "start_time": "2023-10-09T16:19:16.738Z"
   },
   {
    "duration": 61,
    "start_time": "2023-10-09T16:19:16.768Z"
   },
   {
    "duration": 13,
    "start_time": "2023-10-09T16:19:16.831Z"
   },
   {
    "duration": 45,
    "start_time": "2023-10-09T19:55:04.381Z"
   },
   {
    "duration": 1422,
    "start_time": "2023-10-09T19:55:12.810Z"
   },
   {
    "duration": 7,
    "start_time": "2023-10-09T19:55:14.234Z"
   },
   {
    "duration": 75,
    "start_time": "2023-10-09T19:55:14.243Z"
   },
   {
    "duration": 104,
    "start_time": "2023-10-09T19:55:14.320Z"
   },
   {
    "duration": 0,
    "start_time": "2023-10-09T19:55:14.426Z"
   },
   {
    "duration": 0,
    "start_time": "2023-10-09T19:55:14.427Z"
   },
   {
    "duration": 0,
    "start_time": "2023-10-09T19:55:14.428Z"
   },
   {
    "duration": 0,
    "start_time": "2023-10-09T19:55:14.429Z"
   },
   {
    "duration": 0,
    "start_time": "2023-10-09T19:55:14.430Z"
   },
   {
    "duration": 0,
    "start_time": "2023-10-09T19:55:14.431Z"
   },
   {
    "duration": 0,
    "start_time": "2023-10-09T19:55:14.432Z"
   },
   {
    "duration": 0,
    "start_time": "2023-10-09T19:55:14.452Z"
   },
   {
    "duration": 0,
    "start_time": "2023-10-09T19:55:14.453Z"
   },
   {
    "duration": 0,
    "start_time": "2023-10-09T19:55:14.454Z"
   },
   {
    "duration": 0,
    "start_time": "2023-10-09T19:55:14.458Z"
   },
   {
    "duration": 0,
    "start_time": "2023-10-09T19:55:14.459Z"
   },
   {
    "duration": 0,
    "start_time": "2023-10-09T19:55:14.459Z"
   },
   {
    "duration": 0,
    "start_time": "2023-10-09T19:55:14.463Z"
   },
   {
    "duration": 0,
    "start_time": "2023-10-09T19:55:14.464Z"
   },
   {
    "duration": 0,
    "start_time": "2023-10-09T19:55:14.464Z"
   },
   {
    "duration": 0,
    "start_time": "2023-10-09T19:55:14.467Z"
   },
   {
    "duration": 0,
    "start_time": "2023-10-09T19:55:14.469Z"
   },
   {
    "duration": 0,
    "start_time": "2023-10-09T19:55:14.470Z"
   },
   {
    "duration": 0,
    "start_time": "2023-10-09T19:55:14.471Z"
   },
   {
    "duration": 0,
    "start_time": "2023-10-09T19:55:14.472Z"
   },
   {
    "duration": 0,
    "start_time": "2023-10-09T19:55:14.473Z"
   },
   {
    "duration": 0,
    "start_time": "2023-10-09T19:55:14.479Z"
   },
   {
    "duration": 0,
    "start_time": "2023-10-09T19:55:14.480Z"
   },
   {
    "duration": 0,
    "start_time": "2023-10-09T19:55:14.482Z"
   },
   {
    "duration": 0,
    "start_time": "2023-10-09T19:55:14.483Z"
   },
   {
    "duration": 0,
    "start_time": "2023-10-09T19:55:14.484Z"
   },
   {
    "duration": 0,
    "start_time": "2023-10-09T19:55:14.485Z"
   },
   {
    "duration": 0,
    "start_time": "2023-10-09T19:55:14.486Z"
   },
   {
    "duration": 0,
    "start_time": "2023-10-09T19:55:14.488Z"
   },
   {
    "duration": 0,
    "start_time": "2023-10-09T19:55:14.489Z"
   },
   {
    "duration": 0,
    "start_time": "2023-10-09T19:55:14.490Z"
   },
   {
    "duration": 105,
    "start_time": "2023-10-09T19:56:01.797Z"
   },
   {
    "duration": 102,
    "start_time": "2023-10-09T19:56:08.798Z"
   },
   {
    "duration": 89,
    "start_time": "2023-10-09T19:56:26.887Z"
   },
   {
    "duration": 99,
    "start_time": "2023-10-09T19:57:12.521Z"
   },
   {
    "duration": 15,
    "start_time": "2023-10-09T19:57:52.369Z"
   },
   {
    "duration": 1557,
    "start_time": "2023-10-09T19:58:12.811Z"
   },
   {
    "duration": 1196,
    "start_time": "2023-10-09T19:59:18.584Z"
   },
   {
    "duration": 12,
    "start_time": "2023-10-09T19:59:19.783Z"
   },
   {
    "duration": 31,
    "start_time": "2023-10-09T19:59:19.798Z"
   },
   {
    "duration": 11,
    "start_time": "2023-10-09T19:59:19.831Z"
   },
   {
    "duration": 12,
    "start_time": "2023-10-09T19:59:19.844Z"
   },
   {
    "duration": 31,
    "start_time": "2023-10-09T19:59:19.857Z"
   },
   {
    "duration": 10,
    "start_time": "2023-10-09T19:59:19.889Z"
   },
   {
    "duration": 16,
    "start_time": "2023-10-09T19:59:19.901Z"
   },
   {
    "duration": 11,
    "start_time": "2023-10-09T19:59:19.919Z"
   },
   {
    "duration": 173,
    "start_time": "2023-10-09T19:59:19.932Z"
   },
   {
    "duration": 12,
    "start_time": "2023-10-09T19:59:20.107Z"
   },
   {
    "duration": 3,
    "start_time": "2023-10-09T19:59:20.121Z"
   },
   {
    "duration": 25,
    "start_time": "2023-10-09T19:59:20.125Z"
   },
   {
    "duration": 34,
    "start_time": "2023-10-09T19:59:20.157Z"
   },
   {
    "duration": 20,
    "start_time": "2023-10-09T19:59:20.192Z"
   },
   {
    "duration": 29,
    "start_time": "2023-10-09T19:59:20.214Z"
   },
   {
    "duration": 20,
    "start_time": "2023-10-09T19:59:20.244Z"
   },
   {
    "duration": 304,
    "start_time": "2023-10-09T19:59:20.266Z"
   },
   {
    "duration": 347,
    "start_time": "2023-10-09T19:59:20.577Z"
   },
   {
    "duration": 290,
    "start_time": "2023-10-09T19:59:20.926Z"
   },
   {
    "duration": 398,
    "start_time": "2023-10-09T19:59:21.218Z"
   },
   {
    "duration": 299,
    "start_time": "2023-10-09T19:59:21.617Z"
   },
   {
    "duration": 348,
    "start_time": "2023-10-09T19:59:21.917Z"
   },
   {
    "duration": 236,
    "start_time": "2023-10-09T19:59:22.267Z"
   },
   {
    "duration": 4,
    "start_time": "2023-10-09T19:59:22.505Z"
   },
   {
    "duration": 38,
    "start_time": "2023-10-09T19:59:22.510Z"
   },
   {
    "duration": 376,
    "start_time": "2023-10-09T19:59:22.549Z"
   },
   {
    "duration": 6,
    "start_time": "2023-10-09T19:59:22.926Z"
   },
   {
    "duration": 39,
    "start_time": "2023-10-09T19:59:22.933Z"
   },
   {
    "duration": 52,
    "start_time": "2023-10-09T19:59:22.974Z"
   },
   {
    "duration": 37,
    "start_time": "2023-10-09T19:59:23.027Z"
   },
   {
    "duration": 154,
    "start_time": "2023-10-09T19:59:23.065Z"
   },
   {
    "duration": 7,
    "start_time": "2023-10-09T19:59:23.221Z"
   },
   {
    "duration": 53,
    "start_time": "2023-10-09T19:59:23.229Z"
   },
   {
    "duration": 40,
    "start_time": "2023-10-09T19:59:23.284Z"
   },
   {
    "duration": 10,
    "start_time": "2023-10-09T19:59:23.325Z"
   },
   {
    "duration": 16,
    "start_time": "2023-10-09T20:00:51.375Z"
   },
   {
    "duration": 1301,
    "start_time": "2023-10-10T19:34:16.861Z"
   },
   {
    "duration": 8,
    "start_time": "2023-10-10T19:34:18.164Z"
   },
   {
    "duration": 77,
    "start_time": "2023-10-10T19:34:18.173Z"
   },
   {
    "duration": 12,
    "start_time": "2023-10-10T19:34:18.251Z"
   },
   {
    "duration": 4,
    "start_time": "2023-10-10T19:34:18.266Z"
   },
   {
    "duration": 14,
    "start_time": "2023-10-10T19:34:18.271Z"
   },
   {
    "duration": 18,
    "start_time": "2023-10-10T19:34:18.286Z"
   },
   {
    "duration": 16,
    "start_time": "2023-10-10T19:34:18.306Z"
   },
   {
    "duration": 11,
    "start_time": "2023-10-10T19:34:18.323Z"
   },
   {
    "duration": 168,
    "start_time": "2023-10-10T19:34:18.336Z"
   },
   {
    "duration": 13,
    "start_time": "2023-10-10T19:34:18.506Z"
   },
   {
    "duration": 10,
    "start_time": "2023-10-10T19:34:18.520Z"
   },
   {
    "duration": 13,
    "start_time": "2023-10-10T19:34:18.531Z"
   },
   {
    "duration": 32,
    "start_time": "2023-10-10T19:34:18.546Z"
   },
   {
    "duration": 40,
    "start_time": "2023-10-10T19:34:18.579Z"
   },
   {
    "duration": 35,
    "start_time": "2023-10-10T19:34:18.621Z"
   },
   {
    "duration": 26,
    "start_time": "2023-10-10T19:34:18.658Z"
   },
   {
    "duration": 263,
    "start_time": "2023-10-10T19:34:18.686Z"
   },
   {
    "duration": 325,
    "start_time": "2023-10-10T19:34:18.951Z"
   },
   {
    "duration": 243,
    "start_time": "2023-10-10T19:34:19.278Z"
   },
   {
    "duration": 412,
    "start_time": "2023-10-10T19:34:19.523Z"
   },
   {
    "duration": 269,
    "start_time": "2023-10-10T19:34:19.937Z"
   },
   {
    "duration": 347,
    "start_time": "2023-10-10T19:34:20.208Z"
   },
   {
    "duration": 216,
    "start_time": "2023-10-10T19:34:20.556Z"
   },
   {
    "duration": 5,
    "start_time": "2023-10-10T19:34:20.774Z"
   },
   {
    "duration": 12,
    "start_time": "2023-10-10T19:34:20.780Z"
   },
   {
    "duration": 354,
    "start_time": "2023-10-10T19:34:20.793Z"
   },
   {
    "duration": 5,
    "start_time": "2023-10-10T19:34:21.148Z"
   },
   {
    "duration": 12,
    "start_time": "2023-10-10T19:34:21.154Z"
   },
   {
    "duration": 5,
    "start_time": "2023-10-10T19:34:21.168Z"
   },
   {
    "duration": 10,
    "start_time": "2023-10-10T19:34:21.175Z"
   },
   {
    "duration": 145,
    "start_time": "2023-10-10T19:34:21.187Z"
   },
   {
    "duration": 14,
    "start_time": "2023-10-10T19:34:21.333Z"
   },
   {
    "duration": 10,
    "start_time": "2023-10-10T19:34:21.348Z"
   },
   {
    "duration": 29,
    "start_time": "2023-10-10T19:34:21.360Z"
   },
   {
    "duration": 9,
    "start_time": "2023-10-10T19:34:21.390Z"
   },
   {
    "duration": 90,
    "start_time": "2023-10-10T19:35:28.801Z"
   },
   {
    "duration": 114,
    "start_time": "2023-10-10T19:36:04.965Z"
   },
   {
    "duration": 10,
    "start_time": "2023-10-10T19:36:26.497Z"
   },
   {
    "duration": 95,
    "start_time": "2023-10-10T19:36:59.208Z"
   },
   {
    "duration": 12,
    "start_time": "2023-10-10T19:37:38.000Z"
   },
   {
    "duration": 11,
    "start_time": "2023-10-10T19:42:08.961Z"
   },
   {
    "duration": 11,
    "start_time": "2023-10-10T19:43:01.680Z"
   },
   {
    "duration": 15,
    "start_time": "2023-10-10T19:43:22.235Z"
   },
   {
    "duration": 11,
    "start_time": "2023-10-10T20:00:10.802Z"
   },
   {
    "duration": 11,
    "start_time": "2023-10-10T20:01:08.391Z"
   },
   {
    "duration": 14,
    "start_time": "2023-10-10T20:01:47.964Z"
   },
   {
    "duration": 96,
    "start_time": "2023-10-10T20:02:21.861Z"
   },
   {
    "duration": 17,
    "start_time": "2023-10-10T20:02:40.838Z"
   },
   {
    "duration": 27,
    "start_time": "2023-10-10T20:03:16.311Z"
   },
   {
    "duration": 13,
    "start_time": "2023-10-10T20:04:49.261Z"
   },
   {
    "duration": 1224,
    "start_time": "2023-10-10T20:05:05.618Z"
   },
   {
    "duration": 11,
    "start_time": "2023-10-10T20:05:06.845Z"
   },
   {
    "duration": 56,
    "start_time": "2023-10-10T20:05:06.858Z"
   },
   {
    "duration": 14,
    "start_time": "2023-10-10T20:05:06.915Z"
   },
   {
    "duration": 33,
    "start_time": "2023-10-10T20:05:06.931Z"
   },
   {
    "duration": 33,
    "start_time": "2023-10-10T20:05:06.966Z"
   },
   {
    "duration": 56,
    "start_time": "2023-10-10T20:05:07.001Z"
   },
   {
    "duration": 39,
    "start_time": "2023-10-10T20:05:07.059Z"
   },
   {
    "duration": 70,
    "start_time": "2023-10-10T20:05:07.099Z"
   },
   {
    "duration": 66,
    "start_time": "2023-10-10T20:05:07.171Z"
   },
   {
    "duration": 21,
    "start_time": "2023-10-10T20:05:07.239Z"
   },
   {
    "duration": 48,
    "start_time": "2023-10-10T20:05:07.261Z"
   },
   {
    "duration": 24,
    "start_time": "2023-10-10T20:05:07.311Z"
   },
   {
    "duration": 48,
    "start_time": "2023-10-10T20:05:07.337Z"
   },
   {
    "duration": 32,
    "start_time": "2023-10-10T20:05:07.387Z"
   },
   {
    "duration": 33,
    "start_time": "2023-10-10T20:05:07.421Z"
   },
   {
    "duration": 23,
    "start_time": "2023-10-10T20:05:07.456Z"
   },
   {
    "duration": 306,
    "start_time": "2023-10-10T20:05:07.480Z"
   },
   {
    "duration": 358,
    "start_time": "2023-10-10T20:05:07.787Z"
   },
   {
    "duration": 294,
    "start_time": "2023-10-10T20:05:08.147Z"
   },
   {
    "duration": 406,
    "start_time": "2023-10-10T20:05:08.443Z"
   },
   {
    "duration": 290,
    "start_time": "2023-10-10T20:05:08.852Z"
   },
   {
    "duration": 379,
    "start_time": "2023-10-10T20:05:09.144Z"
   },
   {
    "duration": 231,
    "start_time": "2023-10-10T20:05:09.525Z"
   },
   {
    "duration": 5,
    "start_time": "2023-10-10T20:05:09.758Z"
   },
   {
    "duration": 41,
    "start_time": "2023-10-10T20:05:09.764Z"
   },
   {
    "duration": 381,
    "start_time": "2023-10-10T20:05:09.807Z"
   },
   {
    "duration": 5,
    "start_time": "2023-10-10T20:05:10.191Z"
   },
   {
    "duration": 42,
    "start_time": "2023-10-10T20:05:10.198Z"
   },
   {
    "duration": 19,
    "start_time": "2023-10-10T20:05:10.242Z"
   },
   {
    "duration": 42,
    "start_time": "2023-10-10T20:05:10.263Z"
   },
   {
    "duration": 195,
    "start_time": "2023-10-10T20:05:10.307Z"
   },
   {
    "duration": 8,
    "start_time": "2023-10-10T20:05:10.504Z"
   },
   {
    "duration": 49,
    "start_time": "2023-10-10T20:05:10.513Z"
   },
   {
    "duration": 64,
    "start_time": "2023-10-10T20:05:10.563Z"
   },
   {
    "duration": 16,
    "start_time": "2023-10-10T20:05:10.629Z"
   },
   {
    "duration": 7,
    "start_time": "2023-10-10T20:54:29.520Z"
   },
   {
    "duration": 6,
    "start_time": "2023-10-10T20:54:52.056Z"
   },
   {
    "duration": 47,
    "start_time": "2023-10-12T08:49:01.687Z"
   },
   {
    "duration": 1329,
    "start_time": "2023-10-12T08:49:18.401Z"
   },
   {
    "duration": 12,
    "start_time": "2023-10-12T08:49:19.733Z"
   },
   {
    "duration": 97,
    "start_time": "2023-10-12T08:49:19.747Z"
   },
   {
    "duration": 11,
    "start_time": "2023-10-12T08:49:19.846Z"
   },
   {
    "duration": 54,
    "start_time": "2023-10-12T08:49:19.858Z"
   },
   {
    "duration": 30,
    "start_time": "2023-10-12T08:49:19.914Z"
   },
   {
    "duration": 31,
    "start_time": "2023-10-12T08:49:19.945Z"
   },
   {
    "duration": 38,
    "start_time": "2023-10-12T08:49:19.978Z"
   },
   {
    "duration": 12,
    "start_time": "2023-10-12T08:49:20.017Z"
   },
   {
    "duration": 157,
    "start_time": "2023-10-12T08:49:20.031Z"
   },
   {
    "duration": 13,
    "start_time": "2023-10-12T08:49:20.190Z"
   },
   {
    "duration": 43,
    "start_time": "2023-10-12T08:49:20.204Z"
   },
   {
    "duration": 37,
    "start_time": "2023-10-12T08:49:20.249Z"
   },
   {
    "duration": 42,
    "start_time": "2023-10-12T08:49:20.287Z"
   },
   {
    "duration": 31,
    "start_time": "2023-10-12T08:49:20.330Z"
   },
   {
    "duration": 55,
    "start_time": "2023-10-12T08:49:20.362Z"
   },
   {
    "duration": 39,
    "start_time": "2023-10-12T08:49:20.418Z"
   },
   {
    "duration": 35,
    "start_time": "2023-10-12T08:49:20.459Z"
   },
   {
    "duration": 32,
    "start_time": "2023-10-12T08:49:20.496Z"
   },
   {
    "duration": 148,
    "start_time": "2023-10-12T08:49:20.530Z"
   },
   {
    "duration": 0,
    "start_time": "2023-10-12T08:49:20.680Z"
   },
   {
    "duration": 0,
    "start_time": "2023-10-12T08:49:20.681Z"
   },
   {
    "duration": 0,
    "start_time": "2023-10-12T08:49:20.682Z"
   },
   {
    "duration": 0,
    "start_time": "2023-10-12T08:49:20.683Z"
   },
   {
    "duration": 0,
    "start_time": "2023-10-12T08:49:20.684Z"
   },
   {
    "duration": 0,
    "start_time": "2023-10-12T08:49:20.685Z"
   },
   {
    "duration": 0,
    "start_time": "2023-10-12T08:49:20.687Z"
   },
   {
    "duration": 0,
    "start_time": "2023-10-12T08:49:20.689Z"
   },
   {
    "duration": 0,
    "start_time": "2023-10-12T08:49:20.690Z"
   },
   {
    "duration": 0,
    "start_time": "2023-10-12T08:49:20.692Z"
   },
   {
    "duration": 0,
    "start_time": "2023-10-12T08:49:20.693Z"
   },
   {
    "duration": 0,
    "start_time": "2023-10-12T08:49:20.694Z"
   },
   {
    "duration": 0,
    "start_time": "2023-10-12T08:49:20.695Z"
   },
   {
    "duration": 0,
    "start_time": "2023-10-12T08:49:20.696Z"
   },
   {
    "duration": 0,
    "start_time": "2023-10-12T08:49:20.697Z"
   },
   {
    "duration": 0,
    "start_time": "2023-10-12T08:49:20.699Z"
   },
   {
    "duration": 0,
    "start_time": "2023-10-12T08:49:20.700Z"
   },
   {
    "duration": 0,
    "start_time": "2023-10-12T08:49:20.702Z"
   },
   {
    "duration": 0,
    "start_time": "2023-10-12T08:49:20.743Z"
   },
   {
    "duration": 6,
    "start_time": "2023-10-12T08:49:48.089Z"
   },
   {
    "duration": 6,
    "start_time": "2023-10-12T08:50:28.680Z"
   },
   {
    "duration": 5,
    "start_time": "2023-10-12T08:50:45.851Z"
   },
   {
    "duration": 5,
    "start_time": "2023-10-12T08:50:55.038Z"
   },
   {
    "duration": 5,
    "start_time": "2023-10-12T08:54:53.127Z"
   },
   {
    "duration": 4,
    "start_time": "2023-10-12T08:54:57.202Z"
   },
   {
    "duration": 4,
    "start_time": "2023-10-12T08:56:45.474Z"
   },
   {
    "duration": 4,
    "start_time": "2023-10-12T08:56:49.155Z"
   },
   {
    "duration": 2070,
    "start_time": "2023-10-12T09:05:03.220Z"
   },
   {
    "duration": 1842,
    "start_time": "2023-10-12T09:05:34.917Z"
   },
   {
    "duration": 6,
    "start_time": "2023-10-12T09:07:41.436Z"
   },
   {
    "duration": 4,
    "start_time": "2023-10-12T09:08:08.294Z"
   },
   {
    "duration": 4,
    "start_time": "2023-10-12T09:09:17.187Z"
   },
   {
    "duration": 4,
    "start_time": "2023-10-12T09:19:50.846Z"
   },
   {
    "duration": 5,
    "start_time": "2023-10-12T09:20:35.084Z"
   },
   {
    "duration": 4,
    "start_time": "2023-10-12T09:20:53.669Z"
   },
   {
    "duration": 3,
    "start_time": "2023-10-12T09:22:21.376Z"
   },
   {
    "duration": 4,
    "start_time": "2023-10-12T09:22:58.918Z"
   },
   {
    "duration": 4,
    "start_time": "2023-10-12T09:23:19.232Z"
   },
   {
    "duration": 4,
    "start_time": "2023-10-12T09:25:40.334Z"
   },
   {
    "duration": 92,
    "start_time": "2023-10-12T09:26:09.033Z"
   },
   {
    "duration": 263,
    "start_time": "2023-10-12T09:26:52.512Z"
   },
   {
    "duration": 137,
    "start_time": "2023-10-12T09:27:07.647Z"
   },
   {
    "duration": 11,
    "start_time": "2023-10-12T09:30:14.124Z"
   },
   {
    "duration": 11,
    "start_time": "2023-10-12T09:30:32.406Z"
   },
   {
    "duration": 12,
    "start_time": "2023-10-12T09:31:00.198Z"
   },
   {
    "duration": 11,
    "start_time": "2023-10-12T09:32:06.151Z"
   },
   {
    "duration": 108,
    "start_time": "2023-10-12T09:32:47.145Z"
   },
   {
    "duration": 7,
    "start_time": "2023-10-12T09:33:20.265Z"
   },
   {
    "duration": 5,
    "start_time": "2023-10-12T09:33:44.279Z"
   },
   {
    "duration": 124,
    "start_time": "2023-10-12T09:57:58.843Z"
   },
   {
    "duration": 8,
    "start_time": "2023-10-12T09:58:09.423Z"
   },
   {
    "duration": 5,
    "start_time": "2023-10-12T09:58:48.284Z"
   },
   {
    "duration": 5,
    "start_time": "2023-10-12T09:59:05.652Z"
   },
   {
    "duration": 4,
    "start_time": "2023-10-12T09:59:22.302Z"
   },
   {
    "duration": 5,
    "start_time": "2023-10-12T10:00:10.322Z"
   },
   {
    "duration": 6,
    "start_time": "2023-10-12T10:03:55.071Z"
   },
   {
    "duration": 6,
    "start_time": "2023-10-12T10:04:07.617Z"
   },
   {
    "duration": 7,
    "start_time": "2023-10-12T10:05:56.360Z"
   },
   {
    "duration": 7,
    "start_time": "2023-10-12T10:06:35.851Z"
   },
   {
    "duration": 6,
    "start_time": "2023-10-12T10:06:36.636Z"
   },
   {
    "duration": 5,
    "start_time": "2023-10-12T10:07:47.696Z"
   },
   {
    "duration": 1228,
    "start_time": "2023-10-12T10:07:55.716Z"
   },
   {
    "duration": 7,
    "start_time": "2023-10-12T10:07:56.946Z"
   },
   {
    "duration": 99,
    "start_time": "2023-10-12T10:07:56.954Z"
   },
   {
    "duration": 34,
    "start_time": "2023-10-12T10:07:57.055Z"
   },
   {
    "duration": 49,
    "start_time": "2023-10-12T10:07:57.091Z"
   },
   {
    "duration": 38,
    "start_time": "2023-10-12T10:07:57.142Z"
   },
   {
    "duration": 49,
    "start_time": "2023-10-12T10:07:57.181Z"
   },
   {
    "duration": 56,
    "start_time": "2023-10-12T10:07:57.232Z"
   },
   {
    "duration": 48,
    "start_time": "2023-10-12T10:07:57.290Z"
   },
   {
    "duration": 90,
    "start_time": "2023-10-12T10:07:57.340Z"
   },
   {
    "duration": 17,
    "start_time": "2023-10-12T10:07:57.432Z"
   },
   {
    "duration": 53,
    "start_time": "2023-10-12T10:07:57.450Z"
   },
   {
    "duration": 45,
    "start_time": "2023-10-12T10:07:57.504Z"
   },
   {
    "duration": 75,
    "start_time": "2023-10-12T10:07:57.550Z"
   },
   {
    "duration": 51,
    "start_time": "2023-10-12T10:07:57.627Z"
   },
   {
    "duration": 25,
    "start_time": "2023-10-12T10:07:57.680Z"
   },
   {
    "duration": 46,
    "start_time": "2023-10-12T10:07:57.707Z"
   },
   {
    "duration": 71,
    "start_time": "2023-10-12T10:07:57.755Z"
   },
   {
    "duration": 56,
    "start_time": "2023-10-12T10:07:57.828Z"
   },
   {
    "duration": 69,
    "start_time": "2023-10-12T10:07:57.886Z"
   },
   {
    "duration": 19,
    "start_time": "2023-10-12T10:07:57.957Z"
   },
   {
    "duration": 39,
    "start_time": "2023-10-12T10:07:57.978Z"
   },
   {
    "duration": 42,
    "start_time": "2023-10-12T10:07:58.018Z"
   },
   {
    "duration": 22,
    "start_time": "2023-10-12T10:07:58.061Z"
   },
   {
    "duration": 27,
    "start_time": "2023-10-12T10:07:58.084Z"
   },
   {
    "duration": 25,
    "start_time": "2023-10-12T10:07:58.112Z"
   },
   {
    "duration": 25,
    "start_time": "2023-10-12T10:07:58.138Z"
   },
   {
    "duration": 27,
    "start_time": "2023-10-12T10:07:58.166Z"
   },
   {
    "duration": 296,
    "start_time": "2023-10-12T10:07:58.194Z"
   },
   {
    "duration": 333,
    "start_time": "2023-10-12T10:07:58.492Z"
   },
   {
    "duration": 260,
    "start_time": "2023-10-12T10:07:58.827Z"
   },
   {
    "duration": 330,
    "start_time": "2023-10-12T10:07:59.089Z"
   },
   {
    "duration": 290,
    "start_time": "2023-10-12T10:07:59.421Z"
   },
   {
    "duration": 366,
    "start_time": "2023-10-12T10:07:59.713Z"
   },
   {
    "duration": 226,
    "start_time": "2023-10-12T10:08:00.080Z"
   },
   {
    "duration": 5,
    "start_time": "2023-10-12T10:08:00.307Z"
   },
   {
    "duration": 91,
    "start_time": "2023-10-12T10:08:00.314Z"
   },
   {
    "duration": 360,
    "start_time": "2023-10-12T10:08:00.407Z"
   },
   {
    "duration": 5,
    "start_time": "2023-10-12T10:08:00.769Z"
   },
   {
    "duration": 154,
    "start_time": "2023-10-12T10:08:00.775Z"
   },
   {
    "duration": 187,
    "start_time": "2023-10-12T10:08:00.931Z"
   },
   {
    "duration": 194,
    "start_time": "2023-10-12T10:08:01.120Z"
   },
   {
    "duration": 718,
    "start_time": "2023-10-12T10:08:01.316Z"
   },
   {
    "duration": 49,
    "start_time": "2023-10-12T10:08:02.036Z"
   },
   {
    "duration": 113,
    "start_time": "2023-10-12T10:08:02.086Z"
   },
   {
    "duration": 148,
    "start_time": "2023-10-12T10:08:02.201Z"
   },
   {
    "duration": 109,
    "start_time": "2023-10-12T10:08:02.351Z"
   },
   {
    "duration": 4,
    "start_time": "2023-10-12T10:10:05.259Z"
   },
   {
    "duration": 8,
    "start_time": "2023-10-12T10:16:31.422Z"
   },
   {
    "duration": 2495,
    "start_time": "2023-10-12T10:17:06.485Z"
   },
   {
    "duration": 10,
    "start_time": "2023-10-12T10:17:37.614Z"
   },
   {
    "duration": 10,
    "start_time": "2023-10-12T10:19:10.580Z"
   },
   {
    "duration": 32,
    "start_time": "2023-10-12T10:28:12.614Z"
   },
   {
    "duration": 5,
    "start_time": "2023-10-12T10:28:27.465Z"
   },
   {
    "duration": 9,
    "start_time": "2023-10-12T10:29:29.863Z"
   },
   {
    "duration": 6,
    "start_time": "2023-10-12T10:30:12.867Z"
   },
   {
    "duration": 6,
    "start_time": "2023-10-12T10:33:57.412Z"
   },
   {
    "duration": 1240,
    "start_time": "2023-10-12T10:37:38.524Z"
   },
   {
    "duration": 7,
    "start_time": "2023-10-12T10:37:39.766Z"
   },
   {
    "duration": 37,
    "start_time": "2023-10-12T10:37:39.775Z"
   },
   {
    "duration": 16,
    "start_time": "2023-10-12T10:37:39.814Z"
   },
   {
    "duration": 28,
    "start_time": "2023-10-12T10:37:39.831Z"
   },
   {
    "duration": 27,
    "start_time": "2023-10-12T10:37:39.860Z"
   },
   {
    "duration": 21,
    "start_time": "2023-10-12T10:37:39.889Z"
   },
   {
    "duration": 40,
    "start_time": "2023-10-12T10:37:39.912Z"
   },
   {
    "duration": 31,
    "start_time": "2023-10-12T10:37:39.954Z"
   },
   {
    "duration": 60,
    "start_time": "2023-10-12T10:37:39.988Z"
   },
   {
    "duration": 14,
    "start_time": "2023-10-12T10:37:40.050Z"
   },
   {
    "duration": 7,
    "start_time": "2023-10-12T10:37:40.066Z"
   },
   {
    "duration": 40,
    "start_time": "2023-10-12T10:37:40.075Z"
   },
   {
    "duration": 44,
    "start_time": "2023-10-12T10:37:40.117Z"
   },
   {
    "duration": 41,
    "start_time": "2023-10-12T10:37:40.162Z"
   },
   {
    "duration": 10,
    "start_time": "2023-10-12T10:37:40.205Z"
   },
   {
    "duration": 17,
    "start_time": "2023-10-12T10:37:40.217Z"
   },
   {
    "duration": 16,
    "start_time": "2023-10-12T10:37:40.236Z"
   },
   {
    "duration": 19,
    "start_time": "2023-10-12T10:37:40.254Z"
   },
   {
    "duration": 31,
    "start_time": "2023-10-12T10:37:40.274Z"
   },
   {
    "duration": 28,
    "start_time": "2023-10-12T10:37:40.307Z"
   },
   {
    "duration": 19,
    "start_time": "2023-10-12T10:37:40.337Z"
   },
   {
    "duration": 15,
    "start_time": "2023-10-12T10:37:40.358Z"
   },
   {
    "duration": 23,
    "start_time": "2023-10-12T10:37:40.375Z"
   },
   {
    "duration": 25,
    "start_time": "2023-10-12T10:37:40.400Z"
   },
   {
    "duration": 13,
    "start_time": "2023-10-12T10:37:40.427Z"
   },
   {
    "duration": 9,
    "start_time": "2023-10-12T10:37:40.441Z"
   },
   {
    "duration": 8,
    "start_time": "2023-10-12T10:37:40.453Z"
   },
   {
    "duration": 35,
    "start_time": "2023-10-12T10:37:40.463Z"
   },
   {
    "duration": 34,
    "start_time": "2023-10-12T10:37:40.500Z"
   },
   {
    "duration": 20,
    "start_time": "2023-10-12T10:37:40.536Z"
   },
   {
    "duration": 23,
    "start_time": "2023-10-12T10:37:40.558Z"
   },
   {
    "duration": 17,
    "start_time": "2023-10-12T10:37:40.583Z"
   },
   {
    "duration": 295,
    "start_time": "2023-10-12T10:37:40.602Z"
   },
   {
    "duration": 349,
    "start_time": "2023-10-12T10:37:40.898Z"
   },
   {
    "duration": 271,
    "start_time": "2023-10-12T10:37:41.248Z"
   },
   {
    "duration": 386,
    "start_time": "2023-10-12T10:37:41.522Z"
   },
   {
    "duration": 253,
    "start_time": "2023-10-12T10:37:41.911Z"
   },
   {
    "duration": 339,
    "start_time": "2023-10-12T10:37:42.166Z"
   },
   {
    "duration": 197,
    "start_time": "2023-10-12T10:37:42.506Z"
   },
   {
    "duration": 5,
    "start_time": "2023-10-12T10:37:42.704Z"
   },
   {
    "duration": 6,
    "start_time": "2023-10-12T10:37:42.710Z"
   },
   {
    "duration": 394,
    "start_time": "2023-10-12T10:37:42.718Z"
   },
   {
    "duration": 5,
    "start_time": "2023-10-12T10:37:43.114Z"
   },
   {
    "duration": 9,
    "start_time": "2023-10-12T10:37:43.120Z"
   },
   {
    "duration": 31,
    "start_time": "2023-10-12T10:37:43.144Z"
   },
   {
    "duration": 21,
    "start_time": "2023-10-12T10:37:43.176Z"
   },
   {
    "duration": 156,
    "start_time": "2023-10-12T10:37:43.199Z"
   },
   {
    "duration": 10,
    "start_time": "2023-10-12T10:37:43.356Z"
   },
   {
    "duration": 37,
    "start_time": "2023-10-12T10:37:43.367Z"
   },
   {
    "duration": 40,
    "start_time": "2023-10-12T10:37:43.406Z"
   },
   {
    "duration": 9,
    "start_time": "2023-10-12T10:37:43.447Z"
   },
   {
    "duration": 1255,
    "start_time": "2023-10-12T11:33:01.235Z"
   },
   {
    "duration": 8,
    "start_time": "2023-10-12T11:33:02.492Z"
   },
   {
    "duration": 122,
    "start_time": "2023-10-12T11:33:02.501Z"
   },
   {
    "duration": 47,
    "start_time": "2023-10-12T11:33:02.625Z"
   },
   {
    "duration": 63,
    "start_time": "2023-10-12T11:33:02.675Z"
   },
   {
    "duration": 41,
    "start_time": "2023-10-12T11:33:02.740Z"
   },
   {
    "duration": 30,
    "start_time": "2023-10-12T11:33:02.783Z"
   },
   {
    "duration": 59,
    "start_time": "2023-10-12T11:33:02.815Z"
   },
   {
    "duration": 33,
    "start_time": "2023-10-12T11:33:02.876Z"
   },
   {
    "duration": 85,
    "start_time": "2023-10-12T11:33:02.912Z"
   },
   {
    "duration": 12,
    "start_time": "2023-10-12T11:33:02.999Z"
   },
   {
    "duration": 43,
    "start_time": "2023-10-12T11:33:03.013Z"
   },
   {
    "duration": 43,
    "start_time": "2023-10-12T11:33:03.058Z"
   },
   {
    "duration": 35,
    "start_time": "2023-10-12T11:33:03.104Z"
   },
   {
    "duration": 37,
    "start_time": "2023-10-12T11:33:03.140Z"
   },
   {
    "duration": 48,
    "start_time": "2023-10-12T11:33:03.178Z"
   },
   {
    "duration": 34,
    "start_time": "2023-10-12T11:33:03.228Z"
   },
   {
    "duration": 42,
    "start_time": "2023-10-12T11:33:03.263Z"
   },
   {
    "duration": 17,
    "start_time": "2023-10-12T11:33:03.306Z"
   },
   {
    "duration": 26,
    "start_time": "2023-10-12T11:33:03.324Z"
   },
   {
    "duration": 20,
    "start_time": "2023-10-12T11:33:03.352Z"
   },
   {
    "duration": 22,
    "start_time": "2023-10-12T11:33:03.373Z"
   },
   {
    "duration": 28,
    "start_time": "2023-10-12T11:33:03.397Z"
   },
   {
    "duration": 30,
    "start_time": "2023-10-12T11:33:03.427Z"
   },
   {
    "duration": 33,
    "start_time": "2023-10-12T11:33:03.458Z"
   },
   {
    "duration": 22,
    "start_time": "2023-10-12T11:33:03.492Z"
   },
   {
    "duration": 16,
    "start_time": "2023-10-12T11:33:03.516Z"
   },
   {
    "duration": 17,
    "start_time": "2023-10-12T11:33:03.533Z"
   },
   {
    "duration": 12,
    "start_time": "2023-10-12T11:33:03.551Z"
   },
   {
    "duration": 17,
    "start_time": "2023-10-12T11:33:03.565Z"
   },
   {
    "duration": 14,
    "start_time": "2023-10-12T11:33:03.584Z"
   },
   {
    "duration": 16,
    "start_time": "2023-10-12T11:33:03.600Z"
   },
   {
    "duration": 25,
    "start_time": "2023-10-12T11:33:03.618Z"
   },
   {
    "duration": 320,
    "start_time": "2023-10-12T11:33:03.644Z"
   },
   {
    "duration": 332,
    "start_time": "2023-10-12T11:33:03.966Z"
   },
   {
    "duration": 300,
    "start_time": "2023-10-12T11:33:04.299Z"
   },
   {
    "duration": 383,
    "start_time": "2023-10-12T11:33:04.601Z"
   },
   {
    "duration": 260,
    "start_time": "2023-10-12T11:33:04.986Z"
   },
   {
    "duration": 348,
    "start_time": "2023-10-12T11:33:05.248Z"
   },
   {
    "duration": 184,
    "start_time": "2023-10-12T11:33:05.598Z"
   },
   {
    "duration": 5,
    "start_time": "2023-10-12T11:33:05.787Z"
   },
   {
    "duration": 26,
    "start_time": "2023-10-12T11:33:05.794Z"
   },
   {
    "duration": 368,
    "start_time": "2023-10-12T11:33:05.822Z"
   },
   {
    "duration": 6,
    "start_time": "2023-10-12T11:33:06.192Z"
   },
   {
    "duration": 34,
    "start_time": "2023-10-12T11:33:06.200Z"
   },
   {
    "duration": 13,
    "start_time": "2023-10-12T11:33:06.236Z"
   },
   {
    "duration": 33,
    "start_time": "2023-10-12T11:33:06.250Z"
   },
   {
    "duration": 160,
    "start_time": "2023-10-12T11:33:06.285Z"
   },
   {
    "duration": 9,
    "start_time": "2023-10-12T11:33:06.447Z"
   },
   {
    "duration": 26,
    "start_time": "2023-10-12T11:33:06.458Z"
   },
   {
    "duration": 45,
    "start_time": "2023-10-12T11:33:06.486Z"
   },
   {
    "duration": 10,
    "start_time": "2023-10-12T11:33:06.533Z"
   },
   {
    "duration": 11,
    "start_time": "2023-10-12T12:31:03.318Z"
   },
   {
    "duration": 12,
    "start_time": "2023-10-12T12:31:46.774Z"
   },
   {
    "duration": 14,
    "start_time": "2023-10-12T13:36:47.340Z"
   },
   {
    "duration": 111,
    "start_time": "2023-10-12T14:12:32.436Z"
   },
   {
    "duration": 12,
    "start_time": "2023-10-12T14:13:05.914Z"
   },
   {
    "duration": 1580,
    "start_time": "2023-10-12T14:14:02.311Z"
   },
   {
    "duration": 8,
    "start_time": "2023-10-12T14:14:03.893Z"
   },
   {
    "duration": 36,
    "start_time": "2023-10-12T14:14:03.902Z"
   },
   {
    "duration": 11,
    "start_time": "2023-10-12T14:14:03.940Z"
   },
   {
    "duration": 20,
    "start_time": "2023-10-12T14:14:03.953Z"
   },
   {
    "duration": 31,
    "start_time": "2023-10-12T14:14:03.974Z"
   },
   {
    "duration": 27,
    "start_time": "2023-10-12T14:14:04.006Z"
   },
   {
    "duration": 29,
    "start_time": "2023-10-12T14:14:04.035Z"
   },
   {
    "duration": 13,
    "start_time": "2023-10-12T14:14:04.065Z"
   },
   {
    "duration": 70,
    "start_time": "2023-10-12T14:14:04.080Z"
   },
   {
    "duration": 12,
    "start_time": "2023-10-12T14:14:04.152Z"
   },
   {
    "duration": 8,
    "start_time": "2023-10-12T14:14:04.166Z"
   },
   {
    "duration": 12,
    "start_time": "2023-10-12T14:14:04.175Z"
   },
   {
    "duration": 24,
    "start_time": "2023-10-12T14:14:04.190Z"
   },
   {
    "duration": 32,
    "start_time": "2023-10-12T14:14:04.216Z"
   },
   {
    "duration": 6,
    "start_time": "2023-10-12T14:14:04.250Z"
   },
   {
    "duration": 31,
    "start_time": "2023-10-12T14:14:04.257Z"
   },
   {
    "duration": 45,
    "start_time": "2023-10-12T14:14:04.290Z"
   },
   {
    "duration": 9,
    "start_time": "2023-10-12T14:14:04.336Z"
   },
   {
    "duration": 18,
    "start_time": "2023-10-12T14:14:04.346Z"
   },
   {
    "duration": 27,
    "start_time": "2023-10-12T14:14:04.365Z"
   },
   {
    "duration": 43,
    "start_time": "2023-10-12T14:14:04.394Z"
   },
   {
    "duration": 43,
    "start_time": "2023-10-12T14:14:04.439Z"
   },
   {
    "duration": 26,
    "start_time": "2023-10-12T14:14:04.484Z"
   },
   {
    "duration": 17,
    "start_time": "2023-10-12T14:14:04.512Z"
   },
   {
    "duration": 27,
    "start_time": "2023-10-12T14:14:04.532Z"
   },
   {
    "duration": 33,
    "start_time": "2023-10-12T14:14:04.562Z"
   },
   {
    "duration": 19,
    "start_time": "2023-10-12T14:14:04.598Z"
   },
   {
    "duration": 40,
    "start_time": "2023-10-12T14:14:04.619Z"
   },
   {
    "duration": 18,
    "start_time": "2023-10-12T14:14:04.661Z"
   },
   {
    "duration": 32,
    "start_time": "2023-10-12T14:14:04.682Z"
   },
   {
    "duration": 30,
    "start_time": "2023-10-12T14:14:04.717Z"
   },
   {
    "duration": 36,
    "start_time": "2023-10-12T14:14:04.748Z"
   },
   {
    "duration": 316,
    "start_time": "2023-10-12T14:14:04.786Z"
   },
   {
    "duration": 340,
    "start_time": "2023-10-12T14:14:05.103Z"
   },
   {
    "duration": 262,
    "start_time": "2023-10-12T14:14:05.445Z"
   },
   {
    "duration": 391,
    "start_time": "2023-10-12T14:14:05.709Z"
   },
   {
    "duration": 256,
    "start_time": "2023-10-12T14:14:06.103Z"
   },
   {
    "duration": 372,
    "start_time": "2023-10-12T14:14:06.361Z"
   },
   {
    "duration": 196,
    "start_time": "2023-10-12T14:14:06.735Z"
   },
   {
    "duration": 9,
    "start_time": "2023-10-12T14:14:06.934Z"
   },
   {
    "duration": 367,
    "start_time": "2023-10-12T14:14:06.945Z"
   },
   {
    "duration": 5,
    "start_time": "2023-10-12T14:14:07.313Z"
   },
   {
    "duration": 28,
    "start_time": "2023-10-12T14:14:07.320Z"
   },
   {
    "duration": 33,
    "start_time": "2023-10-12T14:14:07.349Z"
   },
   {
    "duration": 153,
    "start_time": "2023-10-12T14:14:07.384Z"
   },
   {
    "duration": 10,
    "start_time": "2023-10-12T14:14:07.538Z"
   },
   {
    "duration": 23,
    "start_time": "2023-10-12T14:14:07.549Z"
   },
   {
    "duration": 95,
    "start_time": "2023-10-12T14:14:07.573Z"
   },
   {
    "duration": 12,
    "start_time": "2023-10-12T14:14:07.671Z"
   },
   {
    "duration": 112,
    "start_time": "2023-10-12T14:15:24.320Z"
   },
   {
    "duration": 104,
    "start_time": "2023-10-12T14:15:43.322Z"
   },
   {
    "duration": 12,
    "start_time": "2023-10-12T14:16:31.481Z"
   },
   {
    "duration": 13,
    "start_time": "2023-10-12T14:22:02.314Z"
   },
   {
    "duration": 1203,
    "start_time": "2023-10-12T14:24:17.152Z"
   },
   {
    "duration": 7,
    "start_time": "2023-10-12T14:24:18.358Z"
   },
   {
    "duration": 35,
    "start_time": "2023-10-12T14:24:18.369Z"
   },
   {
    "duration": 37,
    "start_time": "2023-10-12T14:24:18.407Z"
   },
   {
    "duration": 20,
    "start_time": "2023-10-12T14:24:18.445Z"
   },
   {
    "duration": 24,
    "start_time": "2023-10-12T14:24:18.467Z"
   },
   {
    "duration": 22,
    "start_time": "2023-10-12T14:24:18.493Z"
   },
   {
    "duration": 23,
    "start_time": "2023-10-12T14:24:18.517Z"
   },
   {
    "duration": 11,
    "start_time": "2023-10-12T14:24:18.541Z"
   },
   {
    "duration": 82,
    "start_time": "2023-10-12T14:24:18.554Z"
   },
   {
    "duration": 13,
    "start_time": "2023-10-12T14:24:18.638Z"
   },
   {
    "duration": 21,
    "start_time": "2023-10-12T14:24:18.652Z"
   },
   {
    "duration": 27,
    "start_time": "2023-10-12T14:24:18.675Z"
   },
   {
    "duration": 27,
    "start_time": "2023-10-12T14:24:18.704Z"
   },
   {
    "duration": 75,
    "start_time": "2023-10-12T14:24:18.733Z"
   },
   {
    "duration": 33,
    "start_time": "2023-10-12T14:24:18.810Z"
   },
   {
    "duration": 73,
    "start_time": "2023-10-12T14:24:18.845Z"
   },
   {
    "duration": 59,
    "start_time": "2023-10-12T14:24:18.920Z"
   },
   {
    "duration": 40,
    "start_time": "2023-10-12T14:24:18.981Z"
   },
   {
    "duration": 29,
    "start_time": "2023-10-12T14:24:19.024Z"
   },
   {
    "duration": 30,
    "start_time": "2023-10-12T14:24:19.055Z"
   },
   {
    "duration": 46,
    "start_time": "2023-10-12T14:24:19.087Z"
   },
   {
    "duration": 46,
    "start_time": "2023-10-12T14:24:19.135Z"
   },
   {
    "duration": 48,
    "start_time": "2023-10-12T14:24:19.183Z"
   },
   {
    "duration": 27,
    "start_time": "2023-10-12T14:24:19.233Z"
   },
   {
    "duration": 30,
    "start_time": "2023-10-12T14:24:19.262Z"
   },
   {
    "duration": 43,
    "start_time": "2023-10-12T14:24:19.294Z"
   },
   {
    "duration": 26,
    "start_time": "2023-10-12T14:24:19.339Z"
   },
   {
    "duration": 62,
    "start_time": "2023-10-12T14:24:19.367Z"
   },
   {
    "duration": 48,
    "start_time": "2023-10-12T14:24:19.431Z"
   },
   {
    "duration": 111,
    "start_time": "2023-10-12T14:24:19.481Z"
   },
   {
    "duration": 77,
    "start_time": "2023-10-12T14:24:19.594Z"
   },
   {
    "duration": 68,
    "start_time": "2023-10-12T14:24:19.674Z"
   },
   {
    "duration": 311,
    "start_time": "2023-10-12T14:24:19.743Z"
   },
   {
    "duration": 345,
    "start_time": "2023-10-12T14:24:20.056Z"
   },
   {
    "duration": 266,
    "start_time": "2023-10-12T14:24:20.403Z"
   },
   {
    "duration": 333,
    "start_time": "2023-10-12T14:24:20.671Z"
   },
   {
    "duration": 284,
    "start_time": "2023-10-12T14:24:21.006Z"
   },
   {
    "duration": 351,
    "start_time": "2023-10-12T14:24:21.292Z"
   },
   {
    "duration": 183,
    "start_time": "2023-10-12T14:24:21.646Z"
   },
   {
    "duration": 5,
    "start_time": "2023-10-12T14:24:21.831Z"
   },
   {
    "duration": 372,
    "start_time": "2023-10-12T14:24:21.844Z"
   },
   {
    "duration": 5,
    "start_time": "2023-10-12T14:24:22.217Z"
   },
   {
    "duration": 43,
    "start_time": "2023-10-12T14:24:22.224Z"
   },
   {
    "duration": 15,
    "start_time": "2023-10-12T14:24:22.270Z"
   },
   {
    "duration": 205,
    "start_time": "2023-10-12T14:24:22.287Z"
   },
   {
    "duration": 9,
    "start_time": "2023-10-12T14:24:22.493Z"
   },
   {
    "duration": 11,
    "start_time": "2023-10-12T14:24:22.503Z"
   },
   {
    "duration": 57,
    "start_time": "2023-10-12T14:24:22.515Z"
   },
   {
    "duration": 9,
    "start_time": "2023-10-12T14:24:22.574Z"
   },
   {
    "duration": 86,
    "start_time": "2023-10-12T15:25:19.839Z"
   },
   {
    "duration": 9,
    "start_time": "2023-10-12T15:48:17.660Z"
   },
   {
    "duration": 6,
    "start_time": "2023-10-12T15:49:12.036Z"
   },
   {
    "duration": 133,
    "start_time": "2023-10-12T15:50:46.981Z"
   },
   {
    "duration": 6,
    "start_time": "2023-10-12T15:51:09.713Z"
   },
   {
    "duration": 5,
    "start_time": "2023-10-12T15:52:05.184Z"
   },
   {
    "duration": 5,
    "start_time": "2023-10-12T15:52:23.901Z"
   },
   {
    "duration": 6,
    "start_time": "2023-10-12T15:53:37.330Z"
   },
   {
    "duration": 10,
    "start_time": "2023-10-12T15:54:02.462Z"
   },
   {
    "duration": 5,
    "start_time": "2023-10-12T15:56:01.426Z"
   },
   {
    "duration": 10,
    "start_time": "2023-10-12T15:56:39.179Z"
   },
   {
    "duration": 6,
    "start_time": "2023-10-12T15:58:14.612Z"
   },
   {
    "duration": 102,
    "start_time": "2023-10-12T15:58:30.635Z"
   },
   {
    "duration": 6,
    "start_time": "2023-10-12T15:58:46.803Z"
   },
   {
    "duration": 12,
    "start_time": "2023-10-12T15:59:00.882Z"
   },
   {
    "duration": 6,
    "start_time": "2023-10-12T15:59:09.718Z"
   },
   {
    "duration": 7,
    "start_time": "2023-10-12T15:59:18.001Z"
   },
   {
    "duration": 6,
    "start_time": "2023-10-12T16:02:33.694Z"
   },
   {
    "duration": 1336,
    "start_time": "2023-10-12T16:23:56.477Z"
   },
   {
    "duration": 7,
    "start_time": "2023-10-12T16:23:57.815Z"
   },
   {
    "duration": 65,
    "start_time": "2023-10-12T16:23:57.824Z"
   },
   {
    "duration": 12,
    "start_time": "2023-10-12T16:23:57.891Z"
   },
   {
    "duration": 4,
    "start_time": "2023-10-12T16:23:57.905Z"
   },
   {
    "duration": 28,
    "start_time": "2023-10-12T16:23:57.911Z"
   },
   {
    "duration": 44,
    "start_time": "2023-10-12T16:23:57.940Z"
   },
   {
    "duration": 18,
    "start_time": "2023-10-12T16:23:57.986Z"
   },
   {
    "duration": 16,
    "start_time": "2023-10-12T16:23:58.006Z"
   },
   {
    "duration": 81,
    "start_time": "2023-10-12T16:23:58.024Z"
   },
   {
    "duration": 14,
    "start_time": "2023-10-12T16:23:58.107Z"
   },
   {
    "duration": 4,
    "start_time": "2023-10-12T16:23:58.122Z"
   },
   {
    "duration": 11,
    "start_time": "2023-10-12T16:23:58.127Z"
   },
   {
    "duration": 25,
    "start_time": "2023-10-12T16:23:58.141Z"
   },
   {
    "duration": 30,
    "start_time": "2023-10-12T16:23:58.175Z"
   },
   {
    "duration": 6,
    "start_time": "2023-10-12T16:23:58.207Z"
   },
   {
    "duration": 8,
    "start_time": "2023-10-12T16:23:58.214Z"
   },
   {
    "duration": 19,
    "start_time": "2023-10-12T16:23:58.223Z"
   },
   {
    "duration": 22,
    "start_time": "2023-10-12T16:23:58.247Z"
   },
   {
    "duration": 13,
    "start_time": "2023-10-12T16:23:58.272Z"
   },
   {
    "duration": 10,
    "start_time": "2023-10-12T16:23:58.287Z"
   },
   {
    "duration": 35,
    "start_time": "2023-10-12T16:23:58.299Z"
   },
   {
    "duration": 37,
    "start_time": "2023-10-12T16:23:58.336Z"
   },
   {
    "duration": 28,
    "start_time": "2023-10-12T16:23:58.375Z"
   },
   {
    "duration": 26,
    "start_time": "2023-10-12T16:23:58.404Z"
   },
   {
    "duration": 37,
    "start_time": "2023-10-12T16:23:58.431Z"
   },
   {
    "duration": 25,
    "start_time": "2023-10-12T16:23:58.470Z"
   },
   {
    "duration": 28,
    "start_time": "2023-10-12T16:23:58.497Z"
   },
   {
    "duration": 42,
    "start_time": "2023-10-12T16:23:58.527Z"
   },
   {
    "duration": 23,
    "start_time": "2023-10-12T16:23:58.570Z"
   },
   {
    "duration": 42,
    "start_time": "2023-10-12T16:23:58.594Z"
   },
   {
    "duration": 18,
    "start_time": "2023-10-12T16:23:58.638Z"
   },
   {
    "duration": 13,
    "start_time": "2023-10-12T16:23:58.664Z"
   },
   {
    "duration": 350,
    "start_time": "2023-10-12T16:23:58.679Z"
   },
   {
    "duration": 427,
    "start_time": "2023-10-12T16:23:59.032Z"
   },
   {
    "duration": 336,
    "start_time": "2023-10-12T16:23:59.461Z"
   },
   {
    "duration": 394,
    "start_time": "2023-10-12T16:23:59.799Z"
   },
   {
    "duration": 318,
    "start_time": "2023-10-12T16:24:00.196Z"
   },
   {
    "duration": 436,
    "start_time": "2023-10-12T16:24:00.516Z"
   },
   {
    "duration": 217,
    "start_time": "2023-10-12T16:24:00.960Z"
   },
   {
    "duration": 11,
    "start_time": "2023-10-12T16:24:01.182Z"
   },
   {
    "duration": 425,
    "start_time": "2023-10-12T16:24:01.195Z"
   },
   {
    "duration": 6,
    "start_time": "2023-10-12T16:24:01.622Z"
   },
   {
    "duration": 89,
    "start_time": "2023-10-12T16:24:01.630Z"
   },
   {
    "duration": 124,
    "start_time": "2023-10-12T16:24:01.721Z"
   },
   {
    "duration": 276,
    "start_time": "2023-10-12T16:24:01.846Z"
   },
   {
    "duration": 9,
    "start_time": "2023-10-12T16:24:02.124Z"
   },
   {
    "duration": 57,
    "start_time": "2023-10-12T16:24:02.150Z"
   },
   {
    "duration": 109,
    "start_time": "2023-10-12T16:24:02.210Z"
   },
   {
    "duration": 98,
    "start_time": "2023-10-12T16:24:02.321Z"
   },
   {
    "duration": 37,
    "start_time": "2023-10-12T16:24:02.421Z"
   },
   {
    "duration": 1108,
    "start_time": "2024-02-01T13:10:00.498Z"
   },
   {
    "duration": 8,
    "start_time": "2024-02-01T13:10:01.607Z"
   },
   {
    "duration": 84,
    "start_time": "2024-02-01T13:10:01.616Z"
   },
   {
    "duration": 10,
    "start_time": "2024-02-01T13:10:01.702Z"
   },
   {
    "duration": 21,
    "start_time": "2024-02-01T13:10:01.713Z"
   },
   {
    "duration": 44,
    "start_time": "2024-02-01T13:10:01.736Z"
   },
   {
    "duration": 38,
    "start_time": "2024-02-01T13:10:01.782Z"
   },
   {
    "duration": 27,
    "start_time": "2024-02-01T13:10:01.821Z"
   },
   {
    "duration": 23,
    "start_time": "2024-02-01T13:10:01.849Z"
   },
   {
    "duration": 137,
    "start_time": "2024-02-01T13:10:01.875Z"
   },
   {
    "duration": 13,
    "start_time": "2024-02-01T13:10:02.014Z"
   },
   {
    "duration": 35,
    "start_time": "2024-02-01T13:10:02.028Z"
   },
   {
    "duration": 33,
    "start_time": "2024-02-01T13:10:02.065Z"
   },
   {
    "duration": 51,
    "start_time": "2024-02-01T13:10:02.100Z"
   },
   {
    "duration": 49,
    "start_time": "2024-02-01T13:10:02.153Z"
   },
   {
    "duration": 26,
    "start_time": "2024-02-01T13:10:02.204Z"
   },
   {
    "duration": 53,
    "start_time": "2024-02-01T13:10:02.232Z"
   },
   {
    "duration": 31,
    "start_time": "2024-02-01T13:10:02.287Z"
   },
   {
    "duration": 20,
    "start_time": "2024-02-01T13:10:02.320Z"
   },
   {
    "duration": 58,
    "start_time": "2024-02-01T13:10:02.342Z"
   },
   {
    "duration": 18,
    "start_time": "2024-02-01T13:10:02.401Z"
   },
   {
    "duration": 48,
    "start_time": "2024-02-01T13:10:02.421Z"
   },
   {
    "duration": 56,
    "start_time": "2024-02-01T13:10:02.472Z"
   },
   {
    "duration": 14,
    "start_time": "2024-02-01T13:10:02.530Z"
   },
   {
    "duration": 46,
    "start_time": "2024-02-01T13:10:02.546Z"
   },
   {
    "duration": 50,
    "start_time": "2024-02-01T13:10:02.594Z"
   },
   {
    "duration": 69,
    "start_time": "2024-02-01T13:10:02.646Z"
   },
   {
    "duration": 33,
    "start_time": "2024-02-01T13:10:02.719Z"
   },
   {
    "duration": 99,
    "start_time": "2024-02-01T13:10:02.754Z"
   },
   {
    "duration": 103,
    "start_time": "2024-02-01T13:10:02.854Z"
   },
   {
    "duration": 41,
    "start_time": "2024-02-01T13:10:02.959Z"
   },
   {
    "duration": 79,
    "start_time": "2024-02-01T13:10:03.001Z"
   },
   {
    "duration": 100,
    "start_time": "2024-02-01T13:10:03.081Z"
   },
   {
    "duration": 319,
    "start_time": "2024-02-01T13:10:03.182Z"
   },
   {
    "duration": 321,
    "start_time": "2024-02-01T13:10:03.502Z"
   },
   {
    "duration": 245,
    "start_time": "2024-02-01T13:10:03.824Z"
   },
   {
    "duration": 333,
    "start_time": "2024-02-01T13:10:04.071Z"
   },
   {
    "duration": 239,
    "start_time": "2024-02-01T13:10:04.406Z"
   },
   {
    "duration": 345,
    "start_time": "2024-02-01T13:10:04.658Z"
   },
   {
    "duration": 182,
    "start_time": "2024-02-01T13:10:05.005Z"
   },
   {
    "duration": 5,
    "start_time": "2024-02-01T13:10:05.189Z"
   },
   {
    "duration": 373,
    "start_time": "2024-02-01T13:10:05.196Z"
   },
   {
    "duration": 5,
    "start_time": "2024-02-01T13:10:05.571Z"
   },
   {
    "duration": 12,
    "start_time": "2024-02-01T13:10:05.577Z"
   },
   {
    "duration": 14,
    "start_time": "2024-02-01T13:10:05.591Z"
   },
   {
    "duration": 135,
    "start_time": "2024-02-01T13:10:05.607Z"
   },
   {
    "duration": 8,
    "start_time": "2024-02-01T13:10:05.744Z"
   },
   {
    "duration": 11,
    "start_time": "2024-02-01T13:10:05.759Z"
   },
   {
    "duration": 13,
    "start_time": "2024-02-01T13:10:05.772Z"
   },
   {
    "duration": 32,
    "start_time": "2024-02-01T13:10:05.787Z"
   },
   {
    "duration": 9,
    "start_time": "2024-02-01T13:10:05.820Z"
   }
  ],
  "kernelspec": {
   "display_name": "Python 3 (ipykernel)",
   "language": "python",
   "name": "python3"
  },
  "language_info": {
   "codemirror_mode": {
    "name": "ipython",
    "version": 3
   },
   "file_extension": ".py",
   "mimetype": "text/x-python",
   "name": "python",
   "nbconvert_exporter": "python",
   "pygments_lexer": "ipython3",
   "version": "3.11.5"
  },
  "toc": {
   "base_numbering": 1,
   "nav_menu": {},
   "number_sections": true,
   "sideBar": true,
   "skip_h1_title": true,
   "title_cell": "Table of Contents",
   "title_sidebar": "Contents",
   "toc_cell": false,
   "toc_position": {},
   "toc_section_display": true,
   "toc_window_display": false
  }
 },
 "nbformat": 4,
 "nbformat_minor": 2
}
